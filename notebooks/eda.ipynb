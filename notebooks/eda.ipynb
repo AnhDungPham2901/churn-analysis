{
 "cells": [
  {
   "cell_type": "markdown",
   "id": "c097a868",
   "metadata": {},
   "source": [
    "# Club Churn Analysis - Exploratory Data Analysis\n",
    "\n",
    "This notebook performs exploratory data analysis on the club churn dataset."
   ]
  },
  {
   "cell_type": "code",
   "execution_count": 1,
   "id": "28f484dd",
   "metadata": {},
   "outputs": [],
   "source": [
    "import pandas as pd\n",
    "import numpy as np\n",
    "import matplotlib.pyplot as plt\n",
    "import seaborn as sns\n",
    "import plotly.express as px\n",
    "import plotly.graph_objects as go\n",
    "from plotly.subplots import make_subplots\n",
    "\n",
    "import sys\n",
    "import os\n",
    "\n",
    "# Add the parent directory to sys.path to import config\n",
    "sys.path.append(os.path.abspath(os.path.join(os.getcwd(), '..')))\n",
    "import config"
   ]
  },
  {
   "cell_type": "code",
   "execution_count": 2,
   "id": "1747a901",
   "metadata": {},
   "outputs": [
    {
     "name": "stdout",
     "output_type": "stream",
     "text": [
      "Dataset shape: (9325, 16)\n"
     ]
    },
    {
     "data": {
      "text/html": [
       "<div>\n",
       "<style scoped>\n",
       "    .dataframe tbody tr th:only-of-type {\n",
       "        vertical-align: middle;\n",
       "    }\n",
       "\n",
       "    .dataframe tbody tr th {\n",
       "        vertical-align: top;\n",
       "    }\n",
       "\n",
       "    .dataframe thead th {\n",
       "        text-align: right;\n",
       "    }\n",
       "</style>\n",
       "<table border=\"1\" class=\"dataframe\">\n",
       "  <thead>\n",
       "    <tr style=\"text-align: right;\">\n",
       "      <th></th>\n",
       "      <th>ID</th>\n",
       "      <th>MEMBERSHIP_NUMBER</th>\n",
       "      <th>MEMBERSHIP_TERM_YEARS</th>\n",
       "      <th>ANNUAL_FEES</th>\n",
       "      <th>MEMBER_MARITAL_STATUS</th>\n",
       "      <th>MEMBER_GENDER</th>\n",
       "      <th>MEMBER_ANNUAL_INCOME</th>\n",
       "      <th>MEMBER_OCCUPATION_CD</th>\n",
       "      <th>MEMBERSHIP_PACKAGE</th>\n",
       "      <th>MEMBER_AGE_AT_ISSUE</th>\n",
       "      <th>ADDITIONAL_MEMBERS</th>\n",
       "      <th>PAYMENT_MODE</th>\n",
       "      <th>AGENT_CODE</th>\n",
       "      <th>START_DATE</th>\n",
       "      <th>END_DATE</th>\n",
       "      <th>MEMBERSHIP_STATUS</th>\n",
       "    </tr>\n",
       "  </thead>\n",
       "  <tbody>\n",
       "    <tr>\n",
       "      <th>0</th>\n",
       "      <td>5944</td>\n",
       "      <td>A05948</td>\n",
       "      <td>12</td>\n",
       "      <td>100000.00</td>\n",
       "      <td>NaN</td>\n",
       "      <td>M</td>\n",
       "      <td>399996.0</td>\n",
       "      <td>1.0</td>\n",
       "      <td>TYPE-B</td>\n",
       "      <td>43</td>\n",
       "      <td>2</td>\n",
       "      <td>ANNUAL</td>\n",
       "      <td>1194400</td>\n",
       "      <td>20110929</td>\n",
       "      <td>20121119.0</td>\n",
       "      <td>CANCELLED</td>\n",
       "    </tr>\n",
       "    <tr>\n",
       "      <th>1</th>\n",
       "      <td>5487</td>\n",
       "      <td>A05490</td>\n",
       "      <td>17</td>\n",
       "      <td>100514.23</td>\n",
       "      <td>M</td>\n",
       "      <td>F</td>\n",
       "      <td>549996.0</td>\n",
       "      <td>1.0</td>\n",
       "      <td>TYPE-A</td>\n",
       "      <td>40</td>\n",
       "      <td>2</td>\n",
       "      <td>ANNUAL</td>\n",
       "      <td>739244</td>\n",
       "      <td>20110311</td>\n",
       "      <td>20120410.0</td>\n",
       "      <td>CANCELLED</td>\n",
       "    </tr>\n",
       "    <tr>\n",
       "      <th>2</th>\n",
       "      <td>9089</td>\n",
       "      <td>A09094</td>\n",
       "      <td>12</td>\n",
       "      <td>100000.80</td>\n",
       "      <td>M</td>\n",
       "      <td>M</td>\n",
       "      <td>1299996.0</td>\n",
       "      <td>1.0</td>\n",
       "      <td>TYPE-B</td>\n",
       "      <td>40</td>\n",
       "      <td>2</td>\n",
       "      <td>MONTHLY</td>\n",
       "      <td>1341388</td>\n",
       "      <td>20130625</td>\n",
       "      <td>NaN</td>\n",
       "      <td>INFORCE</td>\n",
       "    </tr>\n",
       "    <tr>\n",
       "      <th>3</th>\n",
       "      <td>5338</td>\n",
       "      <td>A05341</td>\n",
       "      <td>12</td>\n",
       "      <td>100000.99</td>\n",
       "      <td>M</td>\n",
       "      <td>M</td>\n",
       "      <td>500004.0</td>\n",
       "      <td>1.0</td>\n",
       "      <td>TYPE-B</td>\n",
       "      <td>50</td>\n",
       "      <td>3</td>\n",
       "      <td>ANNUAL</td>\n",
       "      <td>261533</td>\n",
       "      <td>20110203</td>\n",
       "      <td>20120328.0</td>\n",
       "      <td>CANCELLED</td>\n",
       "    </tr>\n",
       "    <tr>\n",
       "      <th>4</th>\n",
       "      <td>8163</td>\n",
       "      <td>A08168</td>\n",
       "      <td>12</td>\n",
       "      <td>200001.60</td>\n",
       "      <td>NaN</td>\n",
       "      <td>M</td>\n",
       "      <td>499992.0</td>\n",
       "      <td>2.0</td>\n",
       "      <td>TYPE-B</td>\n",
       "      <td>45</td>\n",
       "      <td>2</td>\n",
       "      <td>MONTHLY</td>\n",
       "      <td>1355055</td>\n",
       "      <td>20130228</td>\n",
       "      <td>20130727.0</td>\n",
       "      <td>CANCELLED</td>\n",
       "    </tr>\n",
       "  </tbody>\n",
       "</table>\n",
       "</div>"
      ],
      "text/plain": [
       "     ID MEMBERSHIP_NUMBER  MEMBERSHIP_TERM_YEARS  ANNUAL_FEES  \\\n",
       "0  5944            A05948                     12    100000.00   \n",
       "1  5487            A05490                     17    100514.23   \n",
       "2  9089            A09094                     12    100000.80   \n",
       "3  5338            A05341                     12    100000.99   \n",
       "4  8163            A08168                     12    200001.60   \n",
       "\n",
       "  MEMBER_MARITAL_STATUS MEMBER_GENDER  MEMBER_ANNUAL_INCOME  \\\n",
       "0                   NaN             M              399996.0   \n",
       "1                     M             F              549996.0   \n",
       "2                     M             M             1299996.0   \n",
       "3                     M             M              500004.0   \n",
       "4                   NaN             M              499992.0   \n",
       "\n",
       "   MEMBER_OCCUPATION_CD MEMBERSHIP_PACKAGE  MEMBER_AGE_AT_ISSUE  \\\n",
       "0                   1.0             TYPE-B                   43   \n",
       "1                   1.0             TYPE-A                   40   \n",
       "2                   1.0             TYPE-B                   40   \n",
       "3                   1.0             TYPE-B                   50   \n",
       "4                   2.0             TYPE-B                   45   \n",
       "\n",
       "   ADDITIONAL_MEMBERS PAYMENT_MODE AGENT_CODE  START_DATE    END_DATE  \\\n",
       "0                   2       ANNUAL    1194400    20110929  20121119.0   \n",
       "1                   2       ANNUAL     739244    20110311  20120410.0   \n",
       "2                   2      MONTHLY    1341388    20130625         NaN   \n",
       "3                   3       ANNUAL     261533    20110203  20120328.0   \n",
       "4                   2      MONTHLY    1355055    20130228  20130727.0   \n",
       "\n",
       "  MEMBERSHIP_STATUS  \n",
       "0         CANCELLED  \n",
       "1         CANCELLED  \n",
       "2           INFORCE  \n",
       "3         CANCELLED  \n",
       "4         CANCELLED  "
      ]
     },
     "execution_count": 2,
     "metadata": {},
     "output_type": "execute_result"
    }
   ],
   "source": [
    "# Load the training data using the path from config\n",
    "df_train = pd.read_excel(config.TRAIN_DATA_PATH)\n",
    "\n",
    "# Display the first few rows of the dataset\n",
    "print(f\"Dataset shape: {df_train.shape}\")\n",
    "df_train.head()"
   ]
  },
  {
   "cell_type": "code",
   "execution_count": null,
   "id": "69fcc3c7",
   "metadata": {},
   "outputs": [],
   "source": []
  },
  {
   "cell_type": "markdown",
   "id": "b3e2aaae",
   "metadata": {},
   "source": [
    "## Data Overview\n",
    "\n",
    "Let's check the basic information about the dataset:"
   ]
  },
  {
   "cell_type": "code",
   "execution_count": 3,
   "id": "76932dfc",
   "metadata": {},
   "outputs": [
    {
     "name": "stdout",
     "output_type": "stream",
     "text": [
      "<class 'pandas.core.frame.DataFrame'>\n",
      "RangeIndex: 9325 entries, 0 to 9324\n",
      "Data columns (total 16 columns):\n",
      " #   Column                 Non-Null Count  Dtype  \n",
      "---  ------                 --------------  -----  \n",
      " 0   ID                     9325 non-null   int64  \n",
      " 1   MEMBERSHIP_NUMBER      9325 non-null   object \n",
      " 2   MEMBERSHIP_TERM_YEARS  9325 non-null   int64  \n",
      " 3   ANNUAL_FEES            9325 non-null   float64\n",
      " 4   MEMBER_MARITAL_STATUS  6942 non-null   object \n",
      " 5   MEMBER_GENDER          8763 non-null   object \n",
      " 6   MEMBER_ANNUAL_INCOME   7716 non-null   float64\n",
      " 7   MEMBER_OCCUPATION_CD   9284 non-null   float64\n",
      " 8   MEMBERSHIP_PACKAGE     9325 non-null   object \n",
      " 9   MEMBER_AGE_AT_ISSUE    9325 non-null   int64  \n",
      " 10  ADDITIONAL_MEMBERS     9325 non-null   int64  \n",
      " 11  PAYMENT_MODE           9325 non-null   object \n",
      " 12  AGENT_CODE             9325 non-null   object \n",
      " 13  START_DATE             9325 non-null   int64  \n",
      " 14  END_DATE               2830 non-null   float64\n",
      " 15  MEMBERSHIP_STATUS      9325 non-null   object \n",
      "dtypes: float64(4), int64(5), object(7)\n",
      "memory usage: 1.1+ MB\n",
      "\n",
      "\n"
     ]
    },
    {
     "data": {
      "text/html": [
       "<div>\n",
       "<style scoped>\n",
       "    .dataframe tbody tr th:only-of-type {\n",
       "        vertical-align: middle;\n",
       "    }\n",
       "\n",
       "    .dataframe tbody tr th {\n",
       "        vertical-align: top;\n",
       "    }\n",
       "\n",
       "    .dataframe thead th {\n",
       "        text-align: right;\n",
       "    }\n",
       "</style>\n",
       "<table border=\"1\" class=\"dataframe\">\n",
       "  <thead>\n",
       "    <tr style=\"text-align: right;\">\n",
       "      <th></th>\n",
       "      <th>ID</th>\n",
       "      <th>MEMBERSHIP_TERM_YEARS</th>\n",
       "      <th>ANNUAL_FEES</th>\n",
       "      <th>MEMBER_ANNUAL_INCOME</th>\n",
       "      <th>MEMBER_OCCUPATION_CD</th>\n",
       "      <th>MEMBER_AGE_AT_ISSUE</th>\n",
       "      <th>ADDITIONAL_MEMBERS</th>\n",
       "      <th>START_DATE</th>\n",
       "      <th>END_DATE</th>\n",
       "    </tr>\n",
       "  </thead>\n",
       "  <tbody>\n",
       "    <tr>\n",
       "      <th>count</th>\n",
       "      <td>9325.000000</td>\n",
       "      <td>9325.000000</td>\n",
       "      <td>9.325000e+03</td>\n",
       "      <td>7.716000e+03</td>\n",
       "      <td>9284.000000</td>\n",
       "      <td>9325.000000</td>\n",
       "      <td>9325.000000</td>\n",
       "      <td>9.325000e+03</td>\n",
       "      <td>2.830000e+03</td>\n",
       "    </tr>\n",
       "    <tr>\n",
       "      <th>mean</th>\n",
       "      <td>5197.269812</td>\n",
       "      <td>29.564611</td>\n",
       "      <td>1.787982e+05</td>\n",
       "      <td>1.491272e+06</td>\n",
       "      <td>1.718871</td>\n",
       "      <td>46.856836</td>\n",
       "      <td>1.409866</td>\n",
       "      <td>2.010839e+07</td>\n",
       "      <td>2.011403e+07</td>\n",
       "    </tr>\n",
       "    <tr>\n",
       "      <th>std</th>\n",
       "      <td>2986.617719</td>\n",
       "      <td>22.554682</td>\n",
       "      <td>2.688161e+05</td>\n",
       "      <td>1.852630e+07</td>\n",
       "      <td>1.463633</td>\n",
       "      <td>13.960745</td>\n",
       "      <td>1.146661</td>\n",
       "      <td>1.716381e+04</td>\n",
       "      <td>1.375779e+04</td>\n",
       "    </tr>\n",
       "    <tr>\n",
       "      <th>min</th>\n",
       "      <td>0.000000</td>\n",
       "      <td>9.000000</td>\n",
       "      <td>9.999999e+04</td>\n",
       "      <td>9.996000e+03</td>\n",
       "      <td>1.000000</td>\n",
       "      <td>0.000000</td>\n",
       "      <td>0.000000</td>\n",
       "      <td>2.006091e+07</td>\n",
       "      <td>2.007083e+07</td>\n",
       "    </tr>\n",
       "    <tr>\n",
       "      <th>25%</th>\n",
       "      <td>2612.000000</td>\n",
       "      <td>12.000000</td>\n",
       "      <td>1.000000e+05</td>\n",
       "      <td>3.999960e+05</td>\n",
       "      <td>1.000000</td>\n",
       "      <td>37.000000</td>\n",
       "      <td>0.000000</td>\n",
       "      <td>2.010011e+07</td>\n",
       "      <td>2.010123e+07</td>\n",
       "    </tr>\n",
       "    <tr>\n",
       "      <th>50%</th>\n",
       "      <td>5209.000000</td>\n",
       "      <td>19.000000</td>\n",
       "      <td>1.184782e+05</td>\n",
       "      <td>5.499960e+05</td>\n",
       "      <td>1.000000</td>\n",
       "      <td>46.000000</td>\n",
       "      <td>1.000000</td>\n",
       "      <td>2.011011e+07</td>\n",
       "      <td>2.011113e+07</td>\n",
       "    </tr>\n",
       "    <tr>\n",
       "      <th>75%</th>\n",
       "      <td>7790.000000</td>\n",
       "      <td>37.000000</td>\n",
       "      <td>1.950001e+05</td>\n",
       "      <td>9.999960e+05</td>\n",
       "      <td>2.000000</td>\n",
       "      <td>57.000000</td>\n",
       "      <td>2.000000</td>\n",
       "      <td>2.012123e+07</td>\n",
       "      <td>2.013013e+07</td>\n",
       "    </tr>\n",
       "    <tr>\n",
       "      <th>max</th>\n",
       "      <td>10361.000000</td>\n",
       "      <td>102.000000</td>\n",
       "      <td>1.010000e+07</td>\n",
       "      <td>1.000000e+09</td>\n",
       "      <td>6.000000</td>\n",
       "      <td>92.000000</td>\n",
       "      <td>3.000000</td>\n",
       "      <td>2.013113e+07</td>\n",
       "      <td>2.013112e+07</td>\n",
       "    </tr>\n",
       "  </tbody>\n",
       "</table>\n",
       "</div>"
      ],
      "text/plain": [
       "                 ID  MEMBERSHIP_TERM_YEARS   ANNUAL_FEES  \\\n",
       "count   9325.000000            9325.000000  9.325000e+03   \n",
       "mean    5197.269812              29.564611  1.787982e+05   \n",
       "std     2986.617719              22.554682  2.688161e+05   \n",
       "min        0.000000               9.000000  9.999999e+04   \n",
       "25%     2612.000000              12.000000  1.000000e+05   \n",
       "50%     5209.000000              19.000000  1.184782e+05   \n",
       "75%     7790.000000              37.000000  1.950001e+05   \n",
       "max    10361.000000             102.000000  1.010000e+07   \n",
       "\n",
       "       MEMBER_ANNUAL_INCOME  MEMBER_OCCUPATION_CD  MEMBER_AGE_AT_ISSUE  \\\n",
       "count          7.716000e+03           9284.000000          9325.000000   \n",
       "mean           1.491272e+06              1.718871            46.856836   \n",
       "std            1.852630e+07              1.463633            13.960745   \n",
       "min            9.996000e+03              1.000000             0.000000   \n",
       "25%            3.999960e+05              1.000000            37.000000   \n",
       "50%            5.499960e+05              1.000000            46.000000   \n",
       "75%            9.999960e+05              2.000000            57.000000   \n",
       "max            1.000000e+09              6.000000            92.000000   \n",
       "\n",
       "       ADDITIONAL_MEMBERS    START_DATE      END_DATE  \n",
       "count         9325.000000  9.325000e+03  2.830000e+03  \n",
       "mean             1.409866  2.010839e+07  2.011403e+07  \n",
       "std              1.146661  1.716381e+04  1.375779e+04  \n",
       "min              0.000000  2.006091e+07  2.007083e+07  \n",
       "25%              0.000000  2.010011e+07  2.010123e+07  \n",
       "50%              1.000000  2.011011e+07  2.011113e+07  \n",
       "75%              2.000000  2.012123e+07  2.013013e+07  \n",
       "max              3.000000  2.013113e+07  2.013112e+07  "
      ]
     },
     "execution_count": 3,
     "metadata": {},
     "output_type": "execute_result"
    }
   ],
   "source": [
    "# Get summary statistics\n",
    "df_train.info()\n",
    "print(\"\\n\")\n",
    "df_train.describe()"
   ]
  },
  {
   "cell_type": "code",
   "execution_count": 4,
   "id": "0876a8e8",
   "metadata": {},
   "outputs": [
    {
     "name": "stdout",
     "output_type": "stream",
     "text": [
      "Missing values per column:\n",
      "MEMBER_MARITAL_STATUS    2383\n",
      "MEMBER_GENDER             562\n",
      "MEMBER_ANNUAL_INCOME     1609\n",
      "MEMBER_OCCUPATION_CD       41\n",
      "END_DATE                 6495\n",
      "dtype: int64\n"
     ]
    }
   ],
   "source": [
    "# Check for missing values\n",
    "missing_values = df_train.isnull().sum()\n",
    "print(\"Missing values per column:\")\n",
    "print(missing_values[missing_values > 0] if missing_values.sum() > 0 else \"No missing values\")"
   ]
  },
  {
   "cell_type": "markdown",
   "id": "775b393f",
   "metadata": {},
   "source": [
    "## Cancellation Rate Analysis by Quarter and Year\n",
    "\n",
    "The following visualization shows the cancellation rate over time by quarter and year."
   ]
  },
  {
   "cell_type": "code",
   "execution_count": 49,
   "id": "4f0c1b5f",
   "metadata": {},
   "outputs": [],
   "source": [
    "df = df_train.copy()\n",
    "# Convert START_DATE and END_DATE to datetime format\n",
    "df['START_DATE'] = pd.to_datetime(df['START_DATE'], format='%Y%m%d', errors='coerce')\n",
    "df['END_DATE'] = pd.to_datetime(df['END_DATE'], format='%Y%m%d', errors='coerce')\n",
    "df['quarter'] = df['START_DATE'].dt.quarter\n",
    "df['year'] = df['START_DATE'].dt.year\n",
    "df['quarter_year'] = 'Q' + df['quarter'].astype(str) + '-' + df['year'].astype(str)"
   ]
  },
  {
   "cell_type": "code",
   "execution_count": 6,
   "id": "6db6b895",
   "metadata": {},
   "outputs": [
    {
     "data": {
      "text/html": [
       "<div>\n",
       "<style scoped>\n",
       "    .dataframe tbody tr th:only-of-type {\n",
       "        vertical-align: middle;\n",
       "    }\n",
       "\n",
       "    .dataframe tbody tr th {\n",
       "        vertical-align: top;\n",
       "    }\n",
       "\n",
       "    .dataframe thead th {\n",
       "        text-align: right;\n",
       "    }\n",
       "</style>\n",
       "<table border=\"1\" class=\"dataframe\">\n",
       "  <thead>\n",
       "    <tr style=\"text-align: right;\">\n",
       "      <th></th>\n",
       "      <th>ID</th>\n",
       "      <th>MEMBERSHIP_NUMBER</th>\n",
       "      <th>MEMBERSHIP_TERM_YEARS</th>\n",
       "      <th>ANNUAL_FEES</th>\n",
       "      <th>MEMBER_MARITAL_STATUS</th>\n",
       "      <th>MEMBER_GENDER</th>\n",
       "      <th>MEMBER_ANNUAL_INCOME</th>\n",
       "      <th>MEMBER_OCCUPATION_CD</th>\n",
       "      <th>MEMBERSHIP_PACKAGE</th>\n",
       "      <th>MEMBER_AGE_AT_ISSUE</th>\n",
       "      <th>ADDITIONAL_MEMBERS</th>\n",
       "      <th>PAYMENT_MODE</th>\n",
       "      <th>AGENT_CODE</th>\n",
       "      <th>START_DATE</th>\n",
       "      <th>END_DATE</th>\n",
       "      <th>MEMBERSHIP_STATUS</th>\n",
       "      <th>quarter</th>\n",
       "      <th>year</th>\n",
       "      <th>quarter_year</th>\n",
       "    </tr>\n",
       "  </thead>\n",
       "  <tbody>\n",
       "    <tr>\n",
       "      <th>0</th>\n",
       "      <td>5944</td>\n",
       "      <td>A05948</td>\n",
       "      <td>12</td>\n",
       "      <td>100000.00</td>\n",
       "      <td>NaN</td>\n",
       "      <td>M</td>\n",
       "      <td>399996.0</td>\n",
       "      <td>1.0</td>\n",
       "      <td>TYPE-B</td>\n",
       "      <td>43</td>\n",
       "      <td>2</td>\n",
       "      <td>ANNUAL</td>\n",
       "      <td>1194400</td>\n",
       "      <td>2011-09-29</td>\n",
       "      <td>2012-11-19</td>\n",
       "      <td>CANCELLED</td>\n",
       "      <td>3</td>\n",
       "      <td>2011</td>\n",
       "      <td>Q3-2011</td>\n",
       "    </tr>\n",
       "    <tr>\n",
       "      <th>1</th>\n",
       "      <td>5487</td>\n",
       "      <td>A05490</td>\n",
       "      <td>17</td>\n",
       "      <td>100514.23</td>\n",
       "      <td>M</td>\n",
       "      <td>F</td>\n",
       "      <td>549996.0</td>\n",
       "      <td>1.0</td>\n",
       "      <td>TYPE-A</td>\n",
       "      <td>40</td>\n",
       "      <td>2</td>\n",
       "      <td>ANNUAL</td>\n",
       "      <td>739244</td>\n",
       "      <td>2011-03-11</td>\n",
       "      <td>2012-04-10</td>\n",
       "      <td>CANCELLED</td>\n",
       "      <td>1</td>\n",
       "      <td>2011</td>\n",
       "      <td>Q1-2011</td>\n",
       "    </tr>\n",
       "    <tr>\n",
       "      <th>2</th>\n",
       "      <td>9089</td>\n",
       "      <td>A09094</td>\n",
       "      <td>12</td>\n",
       "      <td>100000.80</td>\n",
       "      <td>M</td>\n",
       "      <td>M</td>\n",
       "      <td>1299996.0</td>\n",
       "      <td>1.0</td>\n",
       "      <td>TYPE-B</td>\n",
       "      <td>40</td>\n",
       "      <td>2</td>\n",
       "      <td>MONTHLY</td>\n",
       "      <td>1341388</td>\n",
       "      <td>2013-06-25</td>\n",
       "      <td>NaT</td>\n",
       "      <td>INFORCE</td>\n",
       "      <td>2</td>\n",
       "      <td>2013</td>\n",
       "      <td>Q2-2013</td>\n",
       "    </tr>\n",
       "    <tr>\n",
       "      <th>3</th>\n",
       "      <td>5338</td>\n",
       "      <td>A05341</td>\n",
       "      <td>12</td>\n",
       "      <td>100000.99</td>\n",
       "      <td>M</td>\n",
       "      <td>M</td>\n",
       "      <td>500004.0</td>\n",
       "      <td>1.0</td>\n",
       "      <td>TYPE-B</td>\n",
       "      <td>50</td>\n",
       "      <td>3</td>\n",
       "      <td>ANNUAL</td>\n",
       "      <td>261533</td>\n",
       "      <td>2011-02-03</td>\n",
       "      <td>2012-03-28</td>\n",
       "      <td>CANCELLED</td>\n",
       "      <td>1</td>\n",
       "      <td>2011</td>\n",
       "      <td>Q1-2011</td>\n",
       "    </tr>\n",
       "    <tr>\n",
       "      <th>4</th>\n",
       "      <td>8163</td>\n",
       "      <td>A08168</td>\n",
       "      <td>12</td>\n",
       "      <td>200001.60</td>\n",
       "      <td>NaN</td>\n",
       "      <td>M</td>\n",
       "      <td>499992.0</td>\n",
       "      <td>2.0</td>\n",
       "      <td>TYPE-B</td>\n",
       "      <td>45</td>\n",
       "      <td>2</td>\n",
       "      <td>MONTHLY</td>\n",
       "      <td>1355055</td>\n",
       "      <td>2013-02-28</td>\n",
       "      <td>2013-07-27</td>\n",
       "      <td>CANCELLED</td>\n",
       "      <td>1</td>\n",
       "      <td>2013</td>\n",
       "      <td>Q1-2013</td>\n",
       "    </tr>\n",
       "  </tbody>\n",
       "</table>\n",
       "</div>"
      ],
      "text/plain": [
       "     ID MEMBERSHIP_NUMBER  MEMBERSHIP_TERM_YEARS  ANNUAL_FEES  \\\n",
       "0  5944            A05948                     12    100000.00   \n",
       "1  5487            A05490                     17    100514.23   \n",
       "2  9089            A09094                     12    100000.80   \n",
       "3  5338            A05341                     12    100000.99   \n",
       "4  8163            A08168                     12    200001.60   \n",
       "\n",
       "  MEMBER_MARITAL_STATUS MEMBER_GENDER  MEMBER_ANNUAL_INCOME  \\\n",
       "0                   NaN             M              399996.0   \n",
       "1                     M             F              549996.0   \n",
       "2                     M             M             1299996.0   \n",
       "3                     M             M              500004.0   \n",
       "4                   NaN             M              499992.0   \n",
       "\n",
       "   MEMBER_OCCUPATION_CD MEMBERSHIP_PACKAGE  MEMBER_AGE_AT_ISSUE  \\\n",
       "0                   1.0             TYPE-B                   43   \n",
       "1                   1.0             TYPE-A                   40   \n",
       "2                   1.0             TYPE-B                   40   \n",
       "3                   1.0             TYPE-B                   50   \n",
       "4                   2.0             TYPE-B                   45   \n",
       "\n",
       "   ADDITIONAL_MEMBERS PAYMENT_MODE AGENT_CODE START_DATE   END_DATE  \\\n",
       "0                   2       ANNUAL    1194400 2011-09-29 2012-11-19   \n",
       "1                   2       ANNUAL     739244 2011-03-11 2012-04-10   \n",
       "2                   2      MONTHLY    1341388 2013-06-25        NaT   \n",
       "3                   3       ANNUAL     261533 2011-02-03 2012-03-28   \n",
       "4                   2      MONTHLY    1355055 2013-02-28 2013-07-27   \n",
       "\n",
       "  MEMBERSHIP_STATUS  quarter  year quarter_year  \n",
       "0         CANCELLED        3  2011      Q3-2011  \n",
       "1         CANCELLED        1  2011      Q1-2011  \n",
       "2           INFORCE        2  2013      Q2-2013  \n",
       "3         CANCELLED        1  2011      Q1-2011  \n",
       "4         CANCELLED        1  2013      Q1-2013  "
      ]
     },
     "execution_count": 50,
     "metadata": {},
     "output_type": "execute_result"
    }
   ],
   "source": [
    "df.head()"
   ]
  },
  {
   "cell_type": "code",
   "execution_count": 84,
   "id": "98cd0fb3",
   "metadata": {},
   "outputs": [],
   "source": [
    "cancellation_rate_df = df.groupby(['quarter', 'year','quarter_year'])['MEMBERSHIP_STATUS'].apply(lambda x: (x == 'CANCELLED').mean()).reset_index()\n",
    "cancellation_rate_df = cancellation_rate_df.sort_values(by=['year', 'quarter'])\n",
    "cancellation_rate_df.rename(columns={'MEMBERSHIP_STATUS': 'cancellation_rate'}, inplace=True)\n",
    "cancellation_rate_df['rolling_cancellation_rate'] = cancellation_rate_df['cancellation_rate'].expanding().mean()"
   ]
  },
  {
   "cell_type": "code",
   "execution_count": 85,
   "id": "b5a4c501",
   "metadata": {},
   "outputs": [
    {
     "data": {
      "text/html": [
       "<div>\n",
       "<style scoped>\n",
       "    .dataframe tbody tr th:only-of-type {\n",
       "        vertical-align: middle;\n",
       "    }\n",
       "\n",
       "    .dataframe tbody tr th {\n",
       "        vertical-align: top;\n",
       "    }\n",
       "\n",
       "    .dataframe thead th {\n",
       "        text-align: right;\n",
       "    }\n",
       "</style>\n",
       "<table border=\"1\" class=\"dataframe\">\n",
       "  <thead>\n",
       "    <tr style=\"text-align: right;\">\n",
       "      <th></th>\n",
       "      <th>quarter</th>\n",
       "      <th>year</th>\n",
       "      <th>quarter_year</th>\n",
       "      <th>cancellation_rate</th>\n",
       "      <th>rolling_cancellation_rate</th>\n",
       "    </tr>\n",
       "  </thead>\n",
       "  <tbody>\n",
       "    <tr>\n",
       "      <th>14</th>\n",
       "      <td>3</td>\n",
       "      <td>2006</td>\n",
       "      <td>Q3-2006</td>\n",
       "      <td>0.000000</td>\n",
       "      <td>0.000000</td>\n",
       "    </tr>\n",
       "    <tr>\n",
       "      <th>22</th>\n",
       "      <td>4</td>\n",
       "      <td>2006</td>\n",
       "      <td>Q4-2006</td>\n",
       "      <td>0.000000</td>\n",
       "      <td>0.000000</td>\n",
       "    </tr>\n",
       "    <tr>\n",
       "      <th>0</th>\n",
       "      <td>1</td>\n",
       "      <td>2007</td>\n",
       "      <td>Q1-2007</td>\n",
       "      <td>0.181818</td>\n",
       "      <td>0.060606</td>\n",
       "    </tr>\n",
       "    <tr>\n",
       "      <th>7</th>\n",
       "      <td>2</td>\n",
       "      <td>2007</td>\n",
       "      <td>Q2-2007</td>\n",
       "      <td>0.250000</td>\n",
       "      <td>0.107955</td>\n",
       "    </tr>\n",
       "    <tr>\n",
       "      <th>15</th>\n",
       "      <td>3</td>\n",
       "      <td>2007</td>\n",
       "      <td>Q3-2007</td>\n",
       "      <td>0.250000</td>\n",
       "      <td>0.136364</td>\n",
       "    </tr>\n",
       "  </tbody>\n",
       "</table>\n",
       "</div>"
      ],
      "text/plain": [
       "    quarter  year quarter_year  cancellation_rate  rolling_cancellation_rate\n",
       "14        3  2006      Q3-2006           0.000000                   0.000000\n",
       "22        4  2006      Q4-2006           0.000000                   0.000000\n",
       "0         1  2007      Q1-2007           0.181818                   0.060606\n",
       "7         2  2007      Q2-2007           0.250000                   0.107955\n",
       "15        3  2007      Q3-2007           0.250000                   0.136364"
      ]
     },
     "execution_count": 85,
     "metadata": {},
     "output_type": "execute_result"
    }
   ],
   "source": [
    "cancellation_rate_df.head()"
   ]
  },
  {
   "cell_type": "code",
   "execution_count": 86,
   "id": "aeacaf2e",
   "metadata": {},
   "outputs": [
    {
     "data": {
      "text/html": [
       "<div>\n",
       "<style scoped>\n",
       "    .dataframe tbody tr th:only-of-type {\n",
       "        vertical-align: middle;\n",
       "    }\n",
       "\n",
       "    .dataframe tbody tr th {\n",
       "        vertical-align: top;\n",
       "    }\n",
       "\n",
       "    .dataframe thead th {\n",
       "        text-align: right;\n",
       "    }\n",
       "</style>\n",
       "<table border=\"1\" class=\"dataframe\">\n",
       "  <thead>\n",
       "    <tr style=\"text-align: right;\">\n",
       "      <th></th>\n",
       "      <th>quarter</th>\n",
       "      <th>year</th>\n",
       "      <th>quarter_year</th>\n",
       "      <th>number_of_customers</th>\n",
       "    </tr>\n",
       "  </thead>\n",
       "  <tbody>\n",
       "    <tr>\n",
       "      <th>14</th>\n",
       "      <td>3</td>\n",
       "      <td>2006</td>\n",
       "      <td>Q3-2006</td>\n",
       "      <td>1.0</td>\n",
       "    </tr>\n",
       "    <tr>\n",
       "      <th>22</th>\n",
       "      <td>4</td>\n",
       "      <td>2006</td>\n",
       "      <td>Q4-2006</td>\n",
       "      <td>2.0</td>\n",
       "    </tr>\n",
       "    <tr>\n",
       "      <th>0</th>\n",
       "      <td>1</td>\n",
       "      <td>2007</td>\n",
       "      <td>Q1-2007</td>\n",
       "      <td>13.0</td>\n",
       "    </tr>\n",
       "    <tr>\n",
       "      <th>7</th>\n",
       "      <td>2</td>\n",
       "      <td>2007</td>\n",
       "      <td>Q2-2007</td>\n",
       "      <td>25.0</td>\n",
       "    </tr>\n",
       "    <tr>\n",
       "      <th>15</th>\n",
       "      <td>3</td>\n",
       "      <td>2007</td>\n",
       "      <td>Q3-2007</td>\n",
       "      <td>41.0</td>\n",
       "    </tr>\n",
       "  </tbody>\n",
       "</table>\n",
       "</div>"
      ],
      "text/plain": [
       "    quarter  year quarter_year  number_of_customers\n",
       "14        3  2006      Q3-2006                  1.0\n",
       "22        4  2006      Q4-2006                  2.0\n",
       "0         1  2007      Q1-2007                 13.0\n",
       "7         2  2007      Q2-2007                 25.0\n",
       "15        3  2007      Q3-2007                 41.0"
      ]
     },
     "execution_count": 86,
     "metadata": {},
     "output_type": "execute_result"
    }
   ],
   "source": [
    "# Prepare customer count data by quarter without accumulation\n",
    "customer_counts = df.groupby(['quarter', 'year', 'quarter_year'])['ID'].nunique().reset_index()\n",
    "customer_counts = customer_counts.sort_values(by=['year', 'quarter'])\n",
    "customer_counts.rename(columns={'ID': 'number_of_customers'}, inplace=True)\n",
    "customer_counts['number_of_customers'] = customer_counts['number_of_customers'].expanding().sum()\n",
    "customer_counts.head()"
   ]
  },
  {
   "cell_type": "code",
   "execution_count": 88,
   "id": "adf3f096",
   "metadata": {},
   "outputs": [
    {
     "data": {
      "application/vnd.plotly.v1+json": {
       "config": {
        "plotlyServerURL": "https://plot.ly"
       },
       "data": [
        {
         "line": {
          "color": "#1F77B4",
          "width": 3
         },
         "marker": {
          "color": "#1F77B4",
          "line": {
           "color": "white",
           "width": 1
          },
          "size": 8,
          "symbol": "circle"
         },
         "mode": "lines+markers",
         "name": "Cancellation Rate",
         "type": "scatter",
         "x": [
          "Q3-2006",
          "Q4-2006",
          "Q1-2007",
          "Q2-2007",
          "Q3-2007",
          "Q4-2007",
          "Q1-2008",
          "Q2-2008",
          "Q3-2008",
          "Q4-2008",
          "Q1-2009",
          "Q2-2009",
          "Q3-2009",
          "Q4-2009",
          "Q1-2010",
          "Q2-2010",
          "Q3-2010",
          "Q4-2010",
          "Q1-2011",
          "Q2-2011",
          "Q3-2011",
          "Q4-2011",
          "Q1-2012",
          "Q2-2012",
          "Q3-2012",
          "Q4-2012",
          "Q1-2013",
          "Q2-2013",
          "Q3-2013",
          "Q4-2013"
         ],
         "xaxis": "x",
         "y": {
          "bdata": "AAAAAAAAAAAAAAAAAAAAAD744IMPPhhAF1100UWXJUBHF1100UUrQCLDvQpmSTJAe8HgJhNrNEBLqQTCsN02QLCytotHIjlAdapV6MEjOkCFKtjXHfg6QLKjUWjtPjtAY6dxJkEsO0BrivD31Dg7QMOhltyHkztAhVMdhf3OO0A9HY9bL088QJ2bI4EeoD1A9RaL36MOP0DnqvvWjWlAQLpRL1/T20BAuIzMSk5OQUC+uiNx4c9BQIi3YEkHE0JANE032UcvQkDECuhtZahBQLVhquQXJ0FAW3N7R0SdQEBmlC5p2xNAQEDgTOh7Fz9A",
          "dtype": "f8"
         },
         "yaxis": "y"
        },
        {
         "marker": {
          "color": "rgba(255, 193, 7, 0.6)",
          "line": {
           "color": "rgba(255, 193, 7, 1)",
           "width": 1.5
          }
         },
         "name": "#Customer",
         "type": "bar",
         "x": [
          "Q3-2006",
          "Q4-2006",
          "Q1-2007",
          "Q2-2007",
          "Q3-2007",
          "Q4-2007",
          "Q1-2008",
          "Q2-2008",
          "Q3-2008",
          "Q4-2008",
          "Q1-2009",
          "Q2-2009",
          "Q3-2009",
          "Q4-2009",
          "Q1-2010",
          "Q2-2010",
          "Q3-2010",
          "Q4-2010",
          "Q1-2011",
          "Q2-2011",
          "Q3-2011",
          "Q4-2011",
          "Q1-2012",
          "Q2-2012",
          "Q3-2012",
          "Q4-2012",
          "Q1-2013",
          "Q2-2013",
          "Q3-2013",
          "Q4-2013"
         ],
         "xaxis": "x",
         "y": {
          "bdata": "AAAAAAAA8D8AAAAAAAAAQAAAAAAAACpAAAAAAAAAOUAAAAAAAIBEQAAAAAAAgFpAAAAAAAAwd0AAAAAAAAB/QAAAAAAA8IZAAAAAAADoj0AAAAAAACiWQAAAAAAAaJlAAAAAAADsnUAAAAAAABqiQAAAAAAAnqlAAAAAAAAQrUAAAAAAAA+xQAAAAAAAIrJAAAAAAADos0AAAAAAAGi0QAAAAAAAB7VAAAAAAADktUAAAAAAAFe4QAAAAAAA/7hAAAAAAAAHukAAAAAAAIK7QAAAAAAA9b5AAAAAAAA7wEAAAAAAAHHBQAAAAACANsJA",
          "dtype": "f8"
         },
         "yaxis": "y2"
        }
       ],
       "layout": {
        "barmode": "relative",
        "height": 600,
        "hovermode": "x unified",
        "legend": {
         "orientation": "h",
         "x": 1,
         "xanchor": "right",
         "y": 1.02,
         "yanchor": "bottom"
        },
        "margin": {
         "b": 80,
         "l": 80,
         "r": 40,
         "t": 100
        },
        "plot_bgcolor": "white",
        "template": {
         "data": {
          "bar": [
           {
            "error_x": {
             "color": "#2a3f5f"
            },
            "error_y": {
             "color": "#2a3f5f"
            },
            "marker": {
             "line": {
              "color": "#E5ECF6",
              "width": 0.5
             },
             "pattern": {
              "fillmode": "overlay",
              "size": 10,
              "solidity": 0.2
             }
            },
            "type": "bar"
           }
          ],
          "barpolar": [
           {
            "marker": {
             "line": {
              "color": "#E5ECF6",
              "width": 0.5
             },
             "pattern": {
              "fillmode": "overlay",
              "size": 10,
              "solidity": 0.2
             }
            },
            "type": "barpolar"
           }
          ],
          "carpet": [
           {
            "aaxis": {
             "endlinecolor": "#2a3f5f",
             "gridcolor": "white",
             "linecolor": "white",
             "minorgridcolor": "white",
             "startlinecolor": "#2a3f5f"
            },
            "baxis": {
             "endlinecolor": "#2a3f5f",
             "gridcolor": "white",
             "linecolor": "white",
             "minorgridcolor": "white",
             "startlinecolor": "#2a3f5f"
            },
            "type": "carpet"
           }
          ],
          "choropleth": [
           {
            "colorbar": {
             "outlinewidth": 0,
             "ticks": ""
            },
            "type": "choropleth"
           }
          ],
          "contour": [
           {
            "colorbar": {
             "outlinewidth": 0,
             "ticks": ""
            },
            "colorscale": [
             [
              0,
              "#0d0887"
             ],
             [
              0.1111111111111111,
              "#46039f"
             ],
             [
              0.2222222222222222,
              "#7201a8"
             ],
             [
              0.3333333333333333,
              "#9c179e"
             ],
             [
              0.4444444444444444,
              "#bd3786"
             ],
             [
              0.5555555555555556,
              "#d8576b"
             ],
             [
              0.6666666666666666,
              "#ed7953"
             ],
             [
              0.7777777777777778,
              "#fb9f3a"
             ],
             [
              0.8888888888888888,
              "#fdca26"
             ],
             [
              1,
              "#f0f921"
             ]
            ],
            "type": "contour"
           }
          ],
          "contourcarpet": [
           {
            "colorbar": {
             "outlinewidth": 0,
             "ticks": ""
            },
            "type": "contourcarpet"
           }
          ],
          "heatmap": [
           {
            "colorbar": {
             "outlinewidth": 0,
             "ticks": ""
            },
            "colorscale": [
             [
              0,
              "#0d0887"
             ],
             [
              0.1111111111111111,
              "#46039f"
             ],
             [
              0.2222222222222222,
              "#7201a8"
             ],
             [
              0.3333333333333333,
              "#9c179e"
             ],
             [
              0.4444444444444444,
              "#bd3786"
             ],
             [
              0.5555555555555556,
              "#d8576b"
             ],
             [
              0.6666666666666666,
              "#ed7953"
             ],
             [
              0.7777777777777778,
              "#fb9f3a"
             ],
             [
              0.8888888888888888,
              "#fdca26"
             ],
             [
              1,
              "#f0f921"
             ]
            ],
            "type": "heatmap"
           }
          ],
          "histogram": [
           {
            "marker": {
             "pattern": {
              "fillmode": "overlay",
              "size": 10,
              "solidity": 0.2
             }
            },
            "type": "histogram"
           }
          ],
          "histogram2d": [
           {
            "colorbar": {
             "outlinewidth": 0,
             "ticks": ""
            },
            "colorscale": [
             [
              0,
              "#0d0887"
             ],
             [
              0.1111111111111111,
              "#46039f"
             ],
             [
              0.2222222222222222,
              "#7201a8"
             ],
             [
              0.3333333333333333,
              "#9c179e"
             ],
             [
              0.4444444444444444,
              "#bd3786"
             ],
             [
              0.5555555555555556,
              "#d8576b"
             ],
             [
              0.6666666666666666,
              "#ed7953"
             ],
             [
              0.7777777777777778,
              "#fb9f3a"
             ],
             [
              0.8888888888888888,
              "#fdca26"
             ],
             [
              1,
              "#f0f921"
             ]
            ],
            "type": "histogram2d"
           }
          ],
          "histogram2dcontour": [
           {
            "colorbar": {
             "outlinewidth": 0,
             "ticks": ""
            },
            "colorscale": [
             [
              0,
              "#0d0887"
             ],
             [
              0.1111111111111111,
              "#46039f"
             ],
             [
              0.2222222222222222,
              "#7201a8"
             ],
             [
              0.3333333333333333,
              "#9c179e"
             ],
             [
              0.4444444444444444,
              "#bd3786"
             ],
             [
              0.5555555555555556,
              "#d8576b"
             ],
             [
              0.6666666666666666,
              "#ed7953"
             ],
             [
              0.7777777777777778,
              "#fb9f3a"
             ],
             [
              0.8888888888888888,
              "#fdca26"
             ],
             [
              1,
              "#f0f921"
             ]
            ],
            "type": "histogram2dcontour"
           }
          ],
          "mesh3d": [
           {
            "colorbar": {
             "outlinewidth": 0,
             "ticks": ""
            },
            "type": "mesh3d"
           }
          ],
          "parcoords": [
           {
            "line": {
             "colorbar": {
              "outlinewidth": 0,
              "ticks": ""
             }
            },
            "type": "parcoords"
           }
          ],
          "pie": [
           {
            "automargin": true,
            "type": "pie"
           }
          ],
          "scatter": [
           {
            "fillpattern": {
             "fillmode": "overlay",
             "size": 10,
             "solidity": 0.2
            },
            "type": "scatter"
           }
          ],
          "scatter3d": [
           {
            "line": {
             "colorbar": {
              "outlinewidth": 0,
              "ticks": ""
             }
            },
            "marker": {
             "colorbar": {
              "outlinewidth": 0,
              "ticks": ""
             }
            },
            "type": "scatter3d"
           }
          ],
          "scattercarpet": [
           {
            "marker": {
             "colorbar": {
              "outlinewidth": 0,
              "ticks": ""
             }
            },
            "type": "scattercarpet"
           }
          ],
          "scattergeo": [
           {
            "marker": {
             "colorbar": {
              "outlinewidth": 0,
              "ticks": ""
             }
            },
            "type": "scattergeo"
           }
          ],
          "scattergl": [
           {
            "marker": {
             "colorbar": {
              "outlinewidth": 0,
              "ticks": ""
             }
            },
            "type": "scattergl"
           }
          ],
          "scattermap": [
           {
            "marker": {
             "colorbar": {
              "outlinewidth": 0,
              "ticks": ""
             }
            },
            "type": "scattermap"
           }
          ],
          "scattermapbox": [
           {
            "marker": {
             "colorbar": {
              "outlinewidth": 0,
              "ticks": ""
             }
            },
            "type": "scattermapbox"
           }
          ],
          "scatterpolar": [
           {
            "marker": {
             "colorbar": {
              "outlinewidth": 0,
              "ticks": ""
             }
            },
            "type": "scatterpolar"
           }
          ],
          "scatterpolargl": [
           {
            "marker": {
             "colorbar": {
              "outlinewidth": 0,
              "ticks": ""
             }
            },
            "type": "scatterpolargl"
           }
          ],
          "scatterternary": [
           {
            "marker": {
             "colorbar": {
              "outlinewidth": 0,
              "ticks": ""
             }
            },
            "type": "scatterternary"
           }
          ],
          "surface": [
           {
            "colorbar": {
             "outlinewidth": 0,
             "ticks": ""
            },
            "colorscale": [
             [
              0,
              "#0d0887"
             ],
             [
              0.1111111111111111,
              "#46039f"
             ],
             [
              0.2222222222222222,
              "#7201a8"
             ],
             [
              0.3333333333333333,
              "#9c179e"
             ],
             [
              0.4444444444444444,
              "#bd3786"
             ],
             [
              0.5555555555555556,
              "#d8576b"
             ],
             [
              0.6666666666666666,
              "#ed7953"
             ],
             [
              0.7777777777777778,
              "#fb9f3a"
             ],
             [
              0.8888888888888888,
              "#fdca26"
             ],
             [
              1,
              "#f0f921"
             ]
            ],
            "type": "surface"
           }
          ],
          "table": [
           {
            "cells": {
             "fill": {
              "color": "#EBF0F8"
             },
             "line": {
              "color": "white"
             }
            },
            "header": {
             "fill": {
              "color": "#C8D4E3"
             },
             "line": {
              "color": "white"
             }
            },
            "type": "table"
           }
          ]
         },
         "layout": {
          "annotationdefaults": {
           "arrowcolor": "#2a3f5f",
           "arrowhead": 0,
           "arrowwidth": 1
          },
          "autotypenumbers": "strict",
          "coloraxis": {
           "colorbar": {
            "outlinewidth": 0,
            "ticks": ""
           }
          },
          "colorscale": {
           "diverging": [
            [
             0,
             "#8e0152"
            ],
            [
             0.1,
             "#c51b7d"
            ],
            [
             0.2,
             "#de77ae"
            ],
            [
             0.3,
             "#f1b6da"
            ],
            [
             0.4,
             "#fde0ef"
            ],
            [
             0.5,
             "#f7f7f7"
            ],
            [
             0.6,
             "#e6f5d0"
            ],
            [
             0.7,
             "#b8e186"
            ],
            [
             0.8,
             "#7fbc41"
            ],
            [
             0.9,
             "#4d9221"
            ],
            [
             1,
             "#276419"
            ]
           ],
           "sequential": [
            [
             0,
             "#0d0887"
            ],
            [
             0.1111111111111111,
             "#46039f"
            ],
            [
             0.2222222222222222,
             "#7201a8"
            ],
            [
             0.3333333333333333,
             "#9c179e"
            ],
            [
             0.4444444444444444,
             "#bd3786"
            ],
            [
             0.5555555555555556,
             "#d8576b"
            ],
            [
             0.6666666666666666,
             "#ed7953"
            ],
            [
             0.7777777777777778,
             "#fb9f3a"
            ],
            [
             0.8888888888888888,
             "#fdca26"
            ],
            [
             1,
             "#f0f921"
            ]
           ],
           "sequentialminus": [
            [
             0,
             "#0d0887"
            ],
            [
             0.1111111111111111,
             "#46039f"
            ],
            [
             0.2222222222222222,
             "#7201a8"
            ],
            [
             0.3333333333333333,
             "#9c179e"
            ],
            [
             0.4444444444444444,
             "#bd3786"
            ],
            [
             0.5555555555555556,
             "#d8576b"
            ],
            [
             0.6666666666666666,
             "#ed7953"
            ],
            [
             0.7777777777777778,
             "#fb9f3a"
            ],
            [
             0.8888888888888888,
             "#fdca26"
            ],
            [
             1,
             "#f0f921"
            ]
           ]
          },
          "colorway": [
           "#636efa",
           "#EF553B",
           "#00cc96",
           "#ab63fa",
           "#FFA15A",
           "#19d3f3",
           "#FF6692",
           "#B6E880",
           "#FF97FF",
           "#FECB52"
          ],
          "font": {
           "color": "#2a3f5f"
          },
          "geo": {
           "bgcolor": "white",
           "lakecolor": "white",
           "landcolor": "#E5ECF6",
           "showlakes": true,
           "showland": true,
           "subunitcolor": "white"
          },
          "hoverlabel": {
           "align": "left"
          },
          "hovermode": "closest",
          "mapbox": {
           "style": "light"
          },
          "paper_bgcolor": "white",
          "plot_bgcolor": "#E5ECF6",
          "polar": {
           "angularaxis": {
            "gridcolor": "white",
            "linecolor": "white",
            "ticks": ""
           },
           "bgcolor": "#E5ECF6",
           "radialaxis": {
            "gridcolor": "white",
            "linecolor": "white",
            "ticks": ""
           }
          },
          "scene": {
           "xaxis": {
            "backgroundcolor": "#E5ECF6",
            "gridcolor": "white",
            "gridwidth": 2,
            "linecolor": "white",
            "showbackground": true,
            "ticks": "",
            "zerolinecolor": "white"
           },
           "yaxis": {
            "backgroundcolor": "#E5ECF6",
            "gridcolor": "white",
            "gridwidth": 2,
            "linecolor": "white",
            "showbackground": true,
            "ticks": "",
            "zerolinecolor": "white"
           },
           "zaxis": {
            "backgroundcolor": "#E5ECF6",
            "gridcolor": "white",
            "gridwidth": 2,
            "linecolor": "white",
            "showbackground": true,
            "ticks": "",
            "zerolinecolor": "white"
           }
          },
          "shapedefaults": {
           "line": {
            "color": "#2a3f5f"
           }
          },
          "ternary": {
           "aaxis": {
            "gridcolor": "white",
            "linecolor": "white",
            "ticks": ""
           },
           "baxis": {
            "gridcolor": "white",
            "linecolor": "white",
            "ticks": ""
           },
           "bgcolor": "#E5ECF6",
           "caxis": {
            "gridcolor": "white",
            "linecolor": "white",
            "ticks": ""
           }
          },
          "title": {
           "x": 0.05
          },
          "xaxis": {
           "automargin": true,
           "gridcolor": "white",
           "linecolor": "white",
           "ticks": "",
           "title": {
            "standoff": 15
           },
           "zerolinecolor": "white",
           "zerolinewidth": 2
          },
          "yaxis": {
           "automargin": true,
           "gridcolor": "white",
           "linecolor": "white",
           "ticks": "",
           "title": {
            "standoff": 15
           },
           "zerolinecolor": "white",
           "zerolinewidth": 2
          }
         }
        },
        "title": {
         "font": {
          "size": 20
         },
         "text": "Cancellation Rate and Customer Count by Quarter",
         "x": 0.5,
         "xanchor": "center",
         "y": 0.95,
         "yanchor": "top"
        },
        "width": 1000,
        "xaxis": {
         "anchor": "y",
         "domain": [
          0,
          0.94
         ],
         "showgrid": false,
         "tickangle": 45,
         "tickfont": {
          "size": 12
         },
         "tickmode": "array",
         "title": {
          "text": "Quarter-Year"
         },
         "type": "category"
        },
        "yaxis": {
         "anchor": "x",
         "domain": [
          0,
          1
         ],
         "showgrid": false,
         "tickformat": ".0f",
         "ticksuffix": "%",
         "title": {
          "text": "Cancellation Rate (%)"
         },
         "zeroline": false
        },
        "yaxis2": {
         "anchor": "x",
         "overlaying": "y",
         "showgrid": false,
         "side": "right",
         "title": {
          "text": "#Customer"
         },
         "zeroline": false
        }
       }
      }
     },
     "metadata": {},
     "output_type": "display_data"
    }
   ],
   "source": [
    "\n",
    "\n",
    "# Create figure with secondary y-axis\n",
    "fig = make_subplots(specs=[[{\"secondary_y\": True}]])\n",
    "\n",
    "# Add the cancellation rate line (primary y-axis)\n",
    "fig.add_trace(\n",
    "    go.Scatter(\n",
    "        x=cancellation_rate_df['quarter_year'],\n",
    "        y=cancellation_rate_df['rolling_cancellation_rate'] * 100,  # Convert to percentage\n",
    "        mode='lines+markers',\n",
    "        name='Cancellation Rate',\n",
    "        line=dict(\n",
    "            color='#1F77B4',  # Blue color\n",
    "            width=3\n",
    "        ),\n",
    "        marker=dict(\n",
    "            size=8,\n",
    "            symbol='circle',\n",
    "            color='#1F77B4',\n",
    "            line=dict(\n",
    "                color='white',\n",
    "                width=1\n",
    "            )\n",
    "        )\n",
    "    ),\n",
    "    secondary_y=False\n",
    ")\n",
    "\n",
    "# Add the customer count bars (secondary y-axis)\n",
    "fig.add_trace(\n",
    "    go.Bar(\n",
    "        x=customer_counts['quarter_year'],\n",
    "        y=customer_counts['number_of_customers'],\n",
    "        name='#Customer',\n",
    "        marker_color='rgba(255, 193, 7, 0.6)',  # Semi-transparent amber\n",
    "        marker_line_color='rgba(255, 193, 7, 1)',\n",
    "        marker_line_width=1.5\n",
    "    ),\n",
    "    secondary_y=True\n",
    ")\n",
    "\n",
    "# Customize the layout\n",
    "fig.update_layout(\n",
    "    title={\n",
    "        'text': 'Cancellation Rate and Customer Count by Quarter',\n",
    "        'y': 0.95,\n",
    "        'x': 0.5,\n",
    "        'xanchor': 'center',\n",
    "        'yanchor': 'top',\n",
    "        'font': dict(size=20)\n",
    "    },\n",
    "    xaxis=dict(\n",
    "        title='Quarter-Year',\n",
    "        tickangle=45,\n",
    "        tickfont=dict(size=12),\n",
    "        # Explicitly set as categorical\n",
    "        type='category',\n",
    "        # Ensure all quarters are shown\n",
    "        tickmode='array',\n",
    "        showgrid=False\n",
    "    ),\n",
    "    legend=dict(\n",
    "        orientation=\"h\",\n",
    "        yanchor=\"bottom\",\n",
    "        y=1.02,\n",
    "        xanchor=\"right\",\n",
    "        x=1\n",
    "    ),\n",
    "    plot_bgcolor='white',\n",
    "    hovermode='x unified',\n",
    "    width=1000,\n",
    "    height=600,\n",
    "    margin=dict(l=80, r=40, t=100, b=80),\n",
    "    barmode='relative'\n",
    ")\n",
    "\n",
    "# Set y-axes titles with no grid\n",
    "fig.update_yaxes(\n",
    "    title_text=\"Cancellation Rate (%)\",\n",
    "    tickformat='.0f',\n",
    "    ticksuffix='%',\n",
    "    showgrid=False,\n",
    "    zeroline=False,\n",
    "    secondary_y=False\n",
    ")\n",
    "fig.update_yaxes(\n",
    "    title_text=\"#Customer\",\n",
    "    showgrid=False,\n",
    "    zeroline=False,\n",
    "    secondary_y=True\n",
    ")\n",
    "\n",
    "# Show the plot\n",
    "fig.show()"
   ]
  },
  {
   "cell_type": "code",
   "execution_count": null,
   "id": "724b6460",
   "metadata": {},
   "outputs": [],
   "source": []
  }
 ],
 "metadata": {
  "kernelspec": {
   "display_name": ".venv",
   "language": "python",
   "name": "python3"
  },
  "language_info": {
   "codemirror_mode": {
    "name": "ipython",
    "version": 3
   },
   "file_extension": ".py",
   "mimetype": "text/x-python",
   "name": "python",
   "nbconvert_exporter": "python",
   "pygments_lexer": "ipython3",
   "version": "3.13.2"
  }
 },
 "nbformat": 4,
 "nbformat_minor": 5
}
