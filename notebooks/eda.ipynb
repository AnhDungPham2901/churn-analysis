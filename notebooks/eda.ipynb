{
 "cells": [
  {
   "cell_type": "markdown",
   "id": "c097a868",
   "metadata": {},
   "source": [
    "# Club Churn Analysis - Exploratory Data Analysis\n",
    "\n",
    "This notebook performs exploratory data analysis on the club churn dataset."
   ]
  },
  {
   "cell_type": "code",
   "execution_count": 1,
   "id": "28f484dd",
   "metadata": {},
   "outputs": [],
   "source": [
    "import pandas as pd\n",
    "import numpy as np\n",
    "import matplotlib.pyplot as plt\n",
    "import seaborn as sns\n",
    "import plotly.express as px\n",
    "import plotly.graph_objects as go\n",
    "from plotly.subplots import make_subplots\n",
    "\n",
    "import sys\n",
    "import os\n",
    "\n",
    "# Add the parent directory to sys.path to import config\n",
    "sys.path.append(os.path.abspath(os.path.join(os.getcwd(), '..')))\n",
    "import config"
   ]
  },
  {
   "cell_type": "code",
   "execution_count": 2,
   "id": "1747a901",
   "metadata": {},
   "outputs": [
    {
     "name": "stdout",
     "output_type": "stream",
     "text": [
      "Dataset shape: (9325, 16)\n"
     ]
    },
    {
     "data": {
      "text/html": [
       "<div>\n",
       "<style scoped>\n",
       "    .dataframe tbody tr th:only-of-type {\n",
       "        vertical-align: middle;\n",
       "    }\n",
       "\n",
       "    .dataframe tbody tr th {\n",
       "        vertical-align: top;\n",
       "    }\n",
       "\n",
       "    .dataframe thead th {\n",
       "        text-align: right;\n",
       "    }\n",
       "</style>\n",
       "<table border=\"1\" class=\"dataframe\">\n",
       "  <thead>\n",
       "    <tr style=\"text-align: right;\">\n",
       "      <th></th>\n",
       "      <th>ID</th>\n",
       "      <th>MEMBERSHIP_NUMBER</th>\n",
       "      <th>MEMBERSHIP_TERM_YEARS</th>\n",
       "      <th>ANNUAL_FEES</th>\n",
       "      <th>MEMBER_MARITAL_STATUS</th>\n",
       "      <th>MEMBER_GENDER</th>\n",
       "      <th>MEMBER_ANNUAL_INCOME</th>\n",
       "      <th>MEMBER_OCCUPATION_CD</th>\n",
       "      <th>MEMBERSHIP_PACKAGE</th>\n",
       "      <th>MEMBER_AGE_AT_ISSUE</th>\n",
       "      <th>ADDITIONAL_MEMBERS</th>\n",
       "      <th>PAYMENT_MODE</th>\n",
       "      <th>AGENT_CODE</th>\n",
       "      <th>START_DATE</th>\n",
       "      <th>END_DATE</th>\n",
       "      <th>MEMBERSHIP_STATUS</th>\n",
       "    </tr>\n",
       "  </thead>\n",
       "  <tbody>\n",
       "    <tr>\n",
       "      <th>0</th>\n",
       "      <td>5944</td>\n",
       "      <td>A05948</td>\n",
       "      <td>12</td>\n",
       "      <td>100000.00</td>\n",
       "      <td>NaN</td>\n",
       "      <td>M</td>\n",
       "      <td>399996.0</td>\n",
       "      <td>1.0</td>\n",
       "      <td>TYPE-B</td>\n",
       "      <td>43</td>\n",
       "      <td>2</td>\n",
       "      <td>ANNUAL</td>\n",
       "      <td>1194400</td>\n",
       "      <td>20110929</td>\n",
       "      <td>20121119.0</td>\n",
       "      <td>CANCELLED</td>\n",
       "    </tr>\n",
       "    <tr>\n",
       "      <th>1</th>\n",
       "      <td>5487</td>\n",
       "      <td>A05490</td>\n",
       "      <td>17</td>\n",
       "      <td>100514.23</td>\n",
       "      <td>M</td>\n",
       "      <td>F</td>\n",
       "      <td>549996.0</td>\n",
       "      <td>1.0</td>\n",
       "      <td>TYPE-A</td>\n",
       "      <td>40</td>\n",
       "      <td>2</td>\n",
       "      <td>ANNUAL</td>\n",
       "      <td>739244</td>\n",
       "      <td>20110311</td>\n",
       "      <td>20120410.0</td>\n",
       "      <td>CANCELLED</td>\n",
       "    </tr>\n",
       "    <tr>\n",
       "      <th>2</th>\n",
       "      <td>9089</td>\n",
       "      <td>A09094</td>\n",
       "      <td>12</td>\n",
       "      <td>100000.80</td>\n",
       "      <td>M</td>\n",
       "      <td>M</td>\n",
       "      <td>1299996.0</td>\n",
       "      <td>1.0</td>\n",
       "      <td>TYPE-B</td>\n",
       "      <td>40</td>\n",
       "      <td>2</td>\n",
       "      <td>MONTHLY</td>\n",
       "      <td>1341388</td>\n",
       "      <td>20130625</td>\n",
       "      <td>NaN</td>\n",
       "      <td>INFORCE</td>\n",
       "    </tr>\n",
       "    <tr>\n",
       "      <th>3</th>\n",
       "      <td>5338</td>\n",
       "      <td>A05341</td>\n",
       "      <td>12</td>\n",
       "      <td>100000.99</td>\n",
       "      <td>M</td>\n",
       "      <td>M</td>\n",
       "      <td>500004.0</td>\n",
       "      <td>1.0</td>\n",
       "      <td>TYPE-B</td>\n",
       "      <td>50</td>\n",
       "      <td>3</td>\n",
       "      <td>ANNUAL</td>\n",
       "      <td>261533</td>\n",
       "      <td>20110203</td>\n",
       "      <td>20120328.0</td>\n",
       "      <td>CANCELLED</td>\n",
       "    </tr>\n",
       "    <tr>\n",
       "      <th>4</th>\n",
       "      <td>8163</td>\n",
       "      <td>A08168</td>\n",
       "      <td>12</td>\n",
       "      <td>200001.60</td>\n",
       "      <td>NaN</td>\n",
       "      <td>M</td>\n",
       "      <td>499992.0</td>\n",
       "      <td>2.0</td>\n",
       "      <td>TYPE-B</td>\n",
       "      <td>45</td>\n",
       "      <td>2</td>\n",
       "      <td>MONTHLY</td>\n",
       "      <td>1355055</td>\n",
       "      <td>20130228</td>\n",
       "      <td>20130727.0</td>\n",
       "      <td>CANCELLED</td>\n",
       "    </tr>\n",
       "  </tbody>\n",
       "</table>\n",
       "</div>"
      ],
      "text/plain": [
       "     ID MEMBERSHIP_NUMBER  MEMBERSHIP_TERM_YEARS  ANNUAL_FEES  \\\n",
       "0  5944            A05948                     12    100000.00   \n",
       "1  5487            A05490                     17    100514.23   \n",
       "2  9089            A09094                     12    100000.80   \n",
       "3  5338            A05341                     12    100000.99   \n",
       "4  8163            A08168                     12    200001.60   \n",
       "\n",
       "  MEMBER_MARITAL_STATUS MEMBER_GENDER  MEMBER_ANNUAL_INCOME  \\\n",
       "0                   NaN             M              399996.0   \n",
       "1                     M             F              549996.0   \n",
       "2                     M             M             1299996.0   \n",
       "3                     M             M              500004.0   \n",
       "4                   NaN             M              499992.0   \n",
       "\n",
       "   MEMBER_OCCUPATION_CD MEMBERSHIP_PACKAGE  MEMBER_AGE_AT_ISSUE  \\\n",
       "0                   1.0             TYPE-B                   43   \n",
       "1                   1.0             TYPE-A                   40   \n",
       "2                   1.0             TYPE-B                   40   \n",
       "3                   1.0             TYPE-B                   50   \n",
       "4                   2.0             TYPE-B                   45   \n",
       "\n",
       "   ADDITIONAL_MEMBERS PAYMENT_MODE AGENT_CODE  START_DATE    END_DATE  \\\n",
       "0                   2       ANNUAL    1194400    20110929  20121119.0   \n",
       "1                   2       ANNUAL     739244    20110311  20120410.0   \n",
       "2                   2      MONTHLY    1341388    20130625         NaN   \n",
       "3                   3       ANNUAL     261533    20110203  20120328.0   \n",
       "4                   2      MONTHLY    1355055    20130228  20130727.0   \n",
       "\n",
       "  MEMBERSHIP_STATUS  \n",
       "0         CANCELLED  \n",
       "1         CANCELLED  \n",
       "2           INFORCE  \n",
       "3         CANCELLED  \n",
       "4         CANCELLED  "
      ]
     },
     "execution_count": 2,
     "metadata": {},
     "output_type": "execute_result"
    }
   ],
   "source": [
    "# Load the training data using the path from config\n",
    "df_train = pd.read_excel(config.TRAIN_DATA_PATH)\n",
    "\n",
    "# Display the first few rows of the dataset\n",
    "print(f\"Dataset shape: {df_train.shape}\")\n",
    "df_train.head()"
   ]
  },
  {
   "cell_type": "code",
   "execution_count": null,
   "id": "69fcc3c7",
   "metadata": {},
   "outputs": [],
   "source": []
  },
  {
   "cell_type": "markdown",
   "id": "b3e2aaae",
   "metadata": {},
   "source": [
    "## Data Overview\n",
    "\n",
    "Let's check the basic information about the dataset:"
   ]
  },
  {
   "cell_type": "code",
   "execution_count": 3,
   "id": "76932dfc",
   "metadata": {},
   "outputs": [
    {
     "name": "stdout",
     "output_type": "stream",
     "text": [
      "<class 'pandas.core.frame.DataFrame'>\n",
      "RangeIndex: 9325 entries, 0 to 9324\n",
      "Data columns (total 16 columns):\n",
      " #   Column                 Non-Null Count  Dtype  \n",
      "---  ------                 --------------  -----  \n",
      " 0   ID                     9325 non-null   int64  \n",
      " 1   MEMBERSHIP_NUMBER      9325 non-null   object \n",
      " 2   MEMBERSHIP_TERM_YEARS  9325 non-null   int64  \n",
      " 3   ANNUAL_FEES            9325 non-null   float64\n",
      " 4   MEMBER_MARITAL_STATUS  6942 non-null   object \n",
      " 5   MEMBER_GENDER          8763 non-null   object \n",
      " 6   MEMBER_ANNUAL_INCOME   7716 non-null   float64\n",
      " 7   MEMBER_OCCUPATION_CD   9284 non-null   float64\n",
      " 8   MEMBERSHIP_PACKAGE     9325 non-null   object \n",
      " 9   MEMBER_AGE_AT_ISSUE    9325 non-null   int64  \n",
      " 10  ADDITIONAL_MEMBERS     9325 non-null   int64  \n",
      " 11  PAYMENT_MODE           9325 non-null   object \n",
      " 12  AGENT_CODE             9325 non-null   object \n",
      " 13  START_DATE             9325 non-null   int64  \n",
      " 14  END_DATE               2830 non-null   float64\n",
      " 15  MEMBERSHIP_STATUS      9325 non-null   object \n",
      "dtypes: float64(4), int64(5), object(7)\n",
      "memory usage: 1.1+ MB\n",
      "\n",
      "\n"
     ]
    },
    {
     "data": {
      "text/html": [
       "<div>\n",
       "<style scoped>\n",
       "    .dataframe tbody tr th:only-of-type {\n",
       "        vertical-align: middle;\n",
       "    }\n",
       "\n",
       "    .dataframe tbody tr th {\n",
       "        vertical-align: top;\n",
       "    }\n",
       "\n",
       "    .dataframe thead th {\n",
       "        text-align: right;\n",
       "    }\n",
       "</style>\n",
       "<table border=\"1\" class=\"dataframe\">\n",
       "  <thead>\n",
       "    <tr style=\"text-align: right;\">\n",
       "      <th></th>\n",
       "      <th>ID</th>\n",
       "      <th>MEMBERSHIP_TERM_YEARS</th>\n",
       "      <th>ANNUAL_FEES</th>\n",
       "      <th>MEMBER_ANNUAL_INCOME</th>\n",
       "      <th>MEMBER_OCCUPATION_CD</th>\n",
       "      <th>MEMBER_AGE_AT_ISSUE</th>\n",
       "      <th>ADDITIONAL_MEMBERS</th>\n",
       "      <th>START_DATE</th>\n",
       "      <th>END_DATE</th>\n",
       "    </tr>\n",
       "  </thead>\n",
       "  <tbody>\n",
       "    <tr>\n",
       "      <th>count</th>\n",
       "      <td>9325.000000</td>\n",
       "      <td>9325.000000</td>\n",
       "      <td>9.325000e+03</td>\n",
       "      <td>7.716000e+03</td>\n",
       "      <td>9284.000000</td>\n",
       "      <td>9325.000000</td>\n",
       "      <td>9325.000000</td>\n",
       "      <td>9.325000e+03</td>\n",
       "      <td>2.830000e+03</td>\n",
       "    </tr>\n",
       "    <tr>\n",
       "      <th>mean</th>\n",
       "      <td>5197.269812</td>\n",
       "      <td>29.564611</td>\n",
       "      <td>1.787982e+05</td>\n",
       "      <td>1.491272e+06</td>\n",
       "      <td>1.718871</td>\n",
       "      <td>46.856836</td>\n",
       "      <td>1.409866</td>\n",
       "      <td>2.010839e+07</td>\n",
       "      <td>2.011403e+07</td>\n",
       "    </tr>\n",
       "    <tr>\n",
       "      <th>std</th>\n",
       "      <td>2986.617719</td>\n",
       "      <td>22.554682</td>\n",
       "      <td>2.688161e+05</td>\n",
       "      <td>1.852630e+07</td>\n",
       "      <td>1.463633</td>\n",
       "      <td>13.960745</td>\n",
       "      <td>1.146661</td>\n",
       "      <td>1.716381e+04</td>\n",
       "      <td>1.375779e+04</td>\n",
       "    </tr>\n",
       "    <tr>\n",
       "      <th>min</th>\n",
       "      <td>0.000000</td>\n",
       "      <td>9.000000</td>\n",
       "      <td>9.999999e+04</td>\n",
       "      <td>9.996000e+03</td>\n",
       "      <td>1.000000</td>\n",
       "      <td>0.000000</td>\n",
       "      <td>0.000000</td>\n",
       "      <td>2.006091e+07</td>\n",
       "      <td>2.007083e+07</td>\n",
       "    </tr>\n",
       "    <tr>\n",
       "      <th>25%</th>\n",
       "      <td>2612.000000</td>\n",
       "      <td>12.000000</td>\n",
       "      <td>1.000000e+05</td>\n",
       "      <td>3.999960e+05</td>\n",
       "      <td>1.000000</td>\n",
       "      <td>37.000000</td>\n",
       "      <td>0.000000</td>\n",
       "      <td>2.010011e+07</td>\n",
       "      <td>2.010123e+07</td>\n",
       "    </tr>\n",
       "    <tr>\n",
       "      <th>50%</th>\n",
       "      <td>5209.000000</td>\n",
       "      <td>19.000000</td>\n",
       "      <td>1.184782e+05</td>\n",
       "      <td>5.499960e+05</td>\n",
       "      <td>1.000000</td>\n",
       "      <td>46.000000</td>\n",
       "      <td>1.000000</td>\n",
       "      <td>2.011011e+07</td>\n",
       "      <td>2.011113e+07</td>\n",
       "    </tr>\n",
       "    <tr>\n",
       "      <th>75%</th>\n",
       "      <td>7790.000000</td>\n",
       "      <td>37.000000</td>\n",
       "      <td>1.950001e+05</td>\n",
       "      <td>9.999960e+05</td>\n",
       "      <td>2.000000</td>\n",
       "      <td>57.000000</td>\n",
       "      <td>2.000000</td>\n",
       "      <td>2.012123e+07</td>\n",
       "      <td>2.013013e+07</td>\n",
       "    </tr>\n",
       "    <tr>\n",
       "      <th>max</th>\n",
       "      <td>10361.000000</td>\n",
       "      <td>102.000000</td>\n",
       "      <td>1.010000e+07</td>\n",
       "      <td>1.000000e+09</td>\n",
       "      <td>6.000000</td>\n",
       "      <td>92.000000</td>\n",
       "      <td>3.000000</td>\n",
       "      <td>2.013113e+07</td>\n",
       "      <td>2.013112e+07</td>\n",
       "    </tr>\n",
       "  </tbody>\n",
       "</table>\n",
       "</div>"
      ],
      "text/plain": [
       "                 ID  MEMBERSHIP_TERM_YEARS   ANNUAL_FEES  \\\n",
       "count   9325.000000            9325.000000  9.325000e+03   \n",
       "mean    5197.269812              29.564611  1.787982e+05   \n",
       "std     2986.617719              22.554682  2.688161e+05   \n",
       "min        0.000000               9.000000  9.999999e+04   \n",
       "25%     2612.000000              12.000000  1.000000e+05   \n",
       "50%     5209.000000              19.000000  1.184782e+05   \n",
       "75%     7790.000000              37.000000  1.950001e+05   \n",
       "max    10361.000000             102.000000  1.010000e+07   \n",
       "\n",
       "       MEMBER_ANNUAL_INCOME  MEMBER_OCCUPATION_CD  MEMBER_AGE_AT_ISSUE  \\\n",
       "count          7.716000e+03           9284.000000          9325.000000   \n",
       "mean           1.491272e+06              1.718871            46.856836   \n",
       "std            1.852630e+07              1.463633            13.960745   \n",
       "min            9.996000e+03              1.000000             0.000000   \n",
       "25%            3.999960e+05              1.000000            37.000000   \n",
       "50%            5.499960e+05              1.000000            46.000000   \n",
       "75%            9.999960e+05              2.000000            57.000000   \n",
       "max            1.000000e+09              6.000000            92.000000   \n",
       "\n",
       "       ADDITIONAL_MEMBERS    START_DATE      END_DATE  \n",
       "count         9325.000000  9.325000e+03  2.830000e+03  \n",
       "mean             1.409866  2.010839e+07  2.011403e+07  \n",
       "std              1.146661  1.716381e+04  1.375779e+04  \n",
       "min              0.000000  2.006091e+07  2.007083e+07  \n",
       "25%              0.000000  2.010011e+07  2.010123e+07  \n",
       "50%              1.000000  2.011011e+07  2.011113e+07  \n",
       "75%              2.000000  2.012123e+07  2.013013e+07  \n",
       "max              3.000000  2.013113e+07  2.013112e+07  "
      ]
     },
     "execution_count": 3,
     "metadata": {},
     "output_type": "execute_result"
    }
   ],
   "source": [
    "# Get summary statistics\n",
    "df_train.info()\n",
    "print(\"\\n\")\n",
    "df_train.describe()"
   ]
  },
  {
   "cell_type": "code",
   "execution_count": 4,
   "id": "0876a8e8",
   "metadata": {},
   "outputs": [
    {
     "name": "stdout",
     "output_type": "stream",
     "text": [
      "Missing values per column:\n",
      "MEMBER_MARITAL_STATUS    2383\n",
      "MEMBER_GENDER             562\n",
      "MEMBER_ANNUAL_INCOME     1609\n",
      "MEMBER_OCCUPATION_CD       41\n",
      "END_DATE                 6495\n",
      "dtype: int64\n"
     ]
    }
   ],
   "source": [
    "# Check for missing values\n",
    "missing_values = df_train.isnull().sum()\n",
    "print(\"Missing values per column:\")\n",
    "print(missing_values[missing_values > 0] if missing_values.sum() > 0 else \"No missing values\")"
   ]
  },
  {
   "cell_type": "markdown",
   "id": "775b393f",
   "metadata": {},
   "source": [
    "## Cancellation Rate Analysis by Quarter and Year\n",
    "\n",
    "The following visualization shows the cancellation rate over time by quarter and year."
   ]
  },
  {
   "cell_type": "code",
   "execution_count": 49,
   "id": "4f0c1b5f",
   "metadata": {},
   "outputs": [],
   "source": [
    "df = df_train.copy()\n",
    "# Convert START_DATE and END_DATE to datetime format\n",
    "df['START_DATE'] = pd.to_datetime(df['START_DATE'], format='%Y%m%d', errors='coerce')\n",
    "df['END_DATE'] = pd.to_datetime(df['END_DATE'], format='%Y%m%d', errors='coerce')\n",
    "df['quarter'] = df['START_DATE'].dt.quarter\n",
    "df['year'] = df['START_DATE'].dt.year\n",
    "df['quarter_year'] = 'Q' + df['quarter'].astype(str) + '-' + df['year'].astype(str)"
   ]
  },
  {
   "cell_type": "code",
   "execution_count": 6,
   "id": "6db6b895",
   "metadata": {},
   "outputs": [
    {
     "data": {
      "text/html": [
       "<div>\n",
       "<style scoped>\n",
       "    .dataframe tbody tr th:only-of-type {\n",
       "        vertical-align: middle;\n",
       "    }\n",
       "\n",
       "    .dataframe tbody tr th {\n",
       "        vertical-align: top;\n",
       "    }\n",
       "\n",
       "    .dataframe thead th {\n",
       "        text-align: right;\n",
       "    }\n",
       "</style>\n",
       "<table border=\"1\" class=\"dataframe\">\n",
       "  <thead>\n",
       "    <tr style=\"text-align: right;\">\n",
       "      <th></th>\n",
       "      <th>ID</th>\n",
       "      <th>MEMBERSHIP_NUMBER</th>\n",
       "      <th>MEMBERSHIP_TERM_YEARS</th>\n",
       "      <th>ANNUAL_FEES</th>\n",
       "      <th>MEMBER_MARITAL_STATUS</th>\n",
       "      <th>MEMBER_GENDER</th>\n",
       "      <th>MEMBER_ANNUAL_INCOME</th>\n",
       "      <th>MEMBER_OCCUPATION_CD</th>\n",
       "      <th>MEMBERSHIP_PACKAGE</th>\n",
       "      <th>MEMBER_AGE_AT_ISSUE</th>\n",
       "      <th>ADDITIONAL_MEMBERS</th>\n",
       "      <th>PAYMENT_MODE</th>\n",
       "      <th>AGENT_CODE</th>\n",
       "      <th>START_DATE</th>\n",
       "      <th>END_DATE</th>\n",
       "      <th>MEMBERSHIP_STATUS</th>\n",
       "      <th>quarter</th>\n",
       "      <th>year</th>\n",
       "      <th>quarter_year</th>\n",
       "    </tr>\n",
       "  </thead>\n",
       "  <tbody>\n",
       "    <tr>\n",
       "      <th>0</th>\n",
       "      <td>5944</td>\n",
       "      <td>A05948</td>\n",
       "      <td>12</td>\n",
       "      <td>100000.00</td>\n",
       "      <td>NaN</td>\n",
       "      <td>M</td>\n",
       "      <td>399996.0</td>\n",
       "      <td>1.0</td>\n",
       "      <td>TYPE-B</td>\n",
       "      <td>43</td>\n",
       "      <td>2</td>\n",
       "      <td>ANNUAL</td>\n",
       "      <td>1194400</td>\n",
       "      <td>2011-09-29</td>\n",
       "      <td>2012-11-19</td>\n",
       "      <td>CANCELLED</td>\n",
       "      <td>3</td>\n",
       "      <td>2011</td>\n",
       "      <td>Q3-2011</td>\n",
       "    </tr>\n",
       "    <tr>\n",
       "      <th>1</th>\n",
       "      <td>5487</td>\n",
       "      <td>A05490</td>\n",
       "      <td>17</td>\n",
       "      <td>100514.23</td>\n",
       "      <td>M</td>\n",
       "      <td>F</td>\n",
       "      <td>549996.0</td>\n",
       "      <td>1.0</td>\n",
       "      <td>TYPE-A</td>\n",
       "      <td>40</td>\n",
       "      <td>2</td>\n",
       "      <td>ANNUAL</td>\n",
       "      <td>739244</td>\n",
       "      <td>2011-03-11</td>\n",
       "      <td>2012-04-10</td>\n",
       "      <td>CANCELLED</td>\n",
       "      <td>1</td>\n",
       "      <td>2011</td>\n",
       "      <td>Q1-2011</td>\n",
       "    </tr>\n",
       "    <tr>\n",
       "      <th>2</th>\n",
       "      <td>9089</td>\n",
       "      <td>A09094</td>\n",
       "      <td>12</td>\n",
       "      <td>100000.80</td>\n",
       "      <td>M</td>\n",
       "      <td>M</td>\n",
       "      <td>1299996.0</td>\n",
       "      <td>1.0</td>\n",
       "      <td>TYPE-B</td>\n",
       "      <td>40</td>\n",
       "      <td>2</td>\n",
       "      <td>MONTHLY</td>\n",
       "      <td>1341388</td>\n",
       "      <td>2013-06-25</td>\n",
       "      <td>NaT</td>\n",
       "      <td>INFORCE</td>\n",
       "      <td>2</td>\n",
       "      <td>2013</td>\n",
       "      <td>Q2-2013</td>\n",
       "    </tr>\n",
       "    <tr>\n",
       "      <th>3</th>\n",
       "      <td>5338</td>\n",
       "      <td>A05341</td>\n",
       "      <td>12</td>\n",
       "      <td>100000.99</td>\n",
       "      <td>M</td>\n",
       "      <td>M</td>\n",
       "      <td>500004.0</td>\n",
       "      <td>1.0</td>\n",
       "      <td>TYPE-B</td>\n",
       "      <td>50</td>\n",
       "      <td>3</td>\n",
       "      <td>ANNUAL</td>\n",
       "      <td>261533</td>\n",
       "      <td>2011-02-03</td>\n",
       "      <td>2012-03-28</td>\n",
       "      <td>CANCELLED</td>\n",
       "      <td>1</td>\n",
       "      <td>2011</td>\n",
       "      <td>Q1-2011</td>\n",
       "    </tr>\n",
       "    <tr>\n",
       "      <th>4</th>\n",
       "      <td>8163</td>\n",
       "      <td>A08168</td>\n",
       "      <td>12</td>\n",
       "      <td>200001.60</td>\n",
       "      <td>NaN</td>\n",
       "      <td>M</td>\n",
       "      <td>499992.0</td>\n",
       "      <td>2.0</td>\n",
       "      <td>TYPE-B</td>\n",
       "      <td>45</td>\n",
       "      <td>2</td>\n",
       "      <td>MONTHLY</td>\n",
       "      <td>1355055</td>\n",
       "      <td>2013-02-28</td>\n",
       "      <td>2013-07-27</td>\n",
       "      <td>CANCELLED</td>\n",
       "      <td>1</td>\n",
       "      <td>2013</td>\n",
       "      <td>Q1-2013</td>\n",
       "    </tr>\n",
       "  </tbody>\n",
       "</table>\n",
       "</div>"
      ],
      "text/plain": [
       "     ID MEMBERSHIP_NUMBER  MEMBERSHIP_TERM_YEARS  ANNUAL_FEES  \\\n",
       "0  5944            A05948                     12    100000.00   \n",
       "1  5487            A05490                     17    100514.23   \n",
       "2  9089            A09094                     12    100000.80   \n",
       "3  5338            A05341                     12    100000.99   \n",
       "4  8163            A08168                     12    200001.60   \n",
       "\n",
       "  MEMBER_MARITAL_STATUS MEMBER_GENDER  MEMBER_ANNUAL_INCOME  \\\n",
       "0                   NaN             M              399996.0   \n",
       "1                     M             F              549996.0   \n",
       "2                     M             M             1299996.0   \n",
       "3                     M             M              500004.0   \n",
       "4                   NaN             M              499992.0   \n",
       "\n",
       "   MEMBER_OCCUPATION_CD MEMBERSHIP_PACKAGE  MEMBER_AGE_AT_ISSUE  \\\n",
       "0                   1.0             TYPE-B                   43   \n",
       "1                   1.0             TYPE-A                   40   \n",
       "2                   1.0             TYPE-B                   40   \n",
       "3                   1.0             TYPE-B                   50   \n",
       "4                   2.0             TYPE-B                   45   \n",
       "\n",
       "   ADDITIONAL_MEMBERS PAYMENT_MODE AGENT_CODE START_DATE   END_DATE  \\\n",
       "0                   2       ANNUAL    1194400 2011-09-29 2012-11-19   \n",
       "1                   2       ANNUAL     739244 2011-03-11 2012-04-10   \n",
       "2                   2      MONTHLY    1341388 2013-06-25        NaT   \n",
       "3                   3       ANNUAL     261533 2011-02-03 2012-03-28   \n",
       "4                   2      MONTHLY    1355055 2013-02-28 2013-07-27   \n",
       "\n",
       "  MEMBERSHIP_STATUS  quarter  year quarter_year  \n",
       "0         CANCELLED        3  2011      Q3-2011  \n",
       "1         CANCELLED        1  2011      Q1-2011  \n",
       "2           INFORCE        2  2013      Q2-2013  \n",
       "3         CANCELLED        1  2011      Q1-2011  \n",
       "4         CANCELLED        1  2013      Q1-2013  "
      ]
     },
     "execution_count": 50,
     "metadata": {},
     "output_type": "execute_result"
    }
   ],
   "source": [
    "df.head()"
   ]
  },
  {
   "cell_type": "code",
   "execution_count": 84,
   "id": "98cd0fb3",
   "metadata": {},
   "outputs": [],
   "source": [
    "cancellation_rate_df = df.groupby(['quarter', 'year','quarter_year'])['MEMBERSHIP_STATUS'].apply(lambda x: (x == 'CANCELLED').mean()).reset_index()\n",
    "cancellation_rate_df = cancellation_rate_df.sort_values(by=['year', 'quarter'])\n",
    "cancellation_rate_df.rename(columns={'MEMBERSHIP_STATUS': 'cancellation_rate'}, inplace=True)\n",
    "cancellation_rate_df['rolling_cancellation_rate'] = cancellation_rate_df['cancellation_rate'].expanding().mean()"
   ]
  },
  {
   "cell_type": "code",
   "execution_count": 85,
   "id": "b5a4c501",
   "metadata": {},
   "outputs": [
    {
     "data": {
      "text/html": [
       "<div>\n",
       "<style scoped>\n",
       "    .dataframe tbody tr th:only-of-type {\n",
       "        vertical-align: middle;\n",
       "    }\n",
       "\n",
       "    .dataframe tbody tr th {\n",
       "        vertical-align: top;\n",
       "    }\n",
       "\n",
       "    .dataframe thead th {\n",
       "        text-align: right;\n",
       "    }\n",
       "</style>\n",
       "<table border=\"1\" class=\"dataframe\">\n",
       "  <thead>\n",
       "    <tr style=\"text-align: right;\">\n",
       "      <th></th>\n",
       "      <th>quarter</th>\n",
       "      <th>year</th>\n",
       "      <th>quarter_year</th>\n",
       "      <th>cancellation_rate</th>\n",
       "      <th>rolling_cancellation_rate</th>\n",
       "    </tr>\n",
       "  </thead>\n",
       "  <tbody>\n",
       "    <tr>\n",
       "      <th>14</th>\n",
       "      <td>3</td>\n",
       "      <td>2006</td>\n",
       "      <td>Q3-2006</td>\n",
       "      <td>0.000000</td>\n",
       "      <td>0.000000</td>\n",
       "    </tr>\n",
       "    <tr>\n",
       "      <th>22</th>\n",
       "      <td>4</td>\n",
       "      <td>2006</td>\n",
       "      <td>Q4-2006</td>\n",
       "      <td>0.000000</td>\n",
       "      <td>0.000000</td>\n",
       "    </tr>\n",
       "    <tr>\n",
       "      <th>0</th>\n",
       "      <td>1</td>\n",
       "      <td>2007</td>\n",
       "      <td>Q1-2007</td>\n",
       "      <td>0.181818</td>\n",
       "      <td>0.060606</td>\n",
       "    </tr>\n",
       "    <tr>\n",
       "      <th>7</th>\n",
       "      <td>2</td>\n",
       "      <td>2007</td>\n",
       "      <td>Q2-2007</td>\n",
       "      <td>0.250000</td>\n",
       "      <td>0.107955</td>\n",
       "    </tr>\n",
       "    <tr>\n",
       "      <th>15</th>\n",
       "      <td>3</td>\n",
       "      <td>2007</td>\n",
       "      <td>Q3-2007</td>\n",
       "      <td>0.250000</td>\n",
       "      <td>0.136364</td>\n",
       "    </tr>\n",
       "  </tbody>\n",
       "</table>\n",
       "</div>"
      ],
      "text/plain": [
       "    quarter  year quarter_year  cancellation_rate  rolling_cancellation_rate\n",
       "14        3  2006      Q3-2006           0.000000                   0.000000\n",
       "22        4  2006      Q4-2006           0.000000                   0.000000\n",
       "0         1  2007      Q1-2007           0.181818                   0.060606\n",
       "7         2  2007      Q2-2007           0.250000                   0.107955\n",
       "15        3  2007      Q3-2007           0.250000                   0.136364"
      ]
     },
     "execution_count": 85,
     "metadata": {},
     "output_type": "execute_result"
    }
   ],
   "source": [
    "cancellation_rate_df.head()"
   ]
  },
  {
   "cell_type": "code",
   "execution_count": 86,
   "id": "aeacaf2e",
   "metadata": {},
   "outputs": [
    {
     "data": {
      "text/html": [
       "<div>\n",
       "<style scoped>\n",
       "    .dataframe tbody tr th:only-of-type {\n",
       "        vertical-align: middle;\n",
       "    }\n",
       "\n",
       "    .dataframe tbody tr th {\n",
       "        vertical-align: top;\n",
       "    }\n",
       "\n",
       "    .dataframe thead th {\n",
       "        text-align: right;\n",
       "    }\n",
       "</style>\n",
       "<table border=\"1\" class=\"dataframe\">\n",
       "  <thead>\n",
       "    <tr style=\"text-align: right;\">\n",
       "      <th></th>\n",
       "      <th>quarter</th>\n",
       "      <th>year</th>\n",
       "      <th>quarter_year</th>\n",
       "      <th>number_of_customers</th>\n",
       "    </tr>\n",
       "  </thead>\n",
       "  <tbody>\n",
       "    <tr>\n",
       "      <th>14</th>\n",
       "      <td>3</td>\n",
       "      <td>2006</td>\n",
       "      <td>Q3-2006</td>\n",
       "      <td>1.0</td>\n",
       "    </tr>\n",
       "    <tr>\n",
       "      <th>22</th>\n",
       "      <td>4</td>\n",
       "      <td>2006</td>\n",
       "      <td>Q4-2006</td>\n",
       "      <td>2.0</td>\n",
       "    </tr>\n",
       "    <tr>\n",
       "      <th>0</th>\n",
       "      <td>1</td>\n",
       "      <td>2007</td>\n",
       "      <td>Q1-2007</td>\n",
       "      <td>13.0</td>\n",
       "    </tr>\n",
       "    <tr>\n",
       "      <th>7</th>\n",
       "      <td>2</td>\n",
       "      <td>2007</td>\n",
       "      <td>Q2-2007</td>\n",
       "      <td>25.0</td>\n",
       "    </tr>\n",
       "    <tr>\n",
       "      <th>15</th>\n",
       "      <td>3</td>\n",
       "      <td>2007</td>\n",
       "      <td>Q3-2007</td>\n",
       "      <td>41.0</td>\n",
       "    </tr>\n",
       "  </tbody>\n",
       "</table>\n",
       "</div>"
      ],
      "text/plain": [
       "    quarter  year quarter_year  number_of_customers\n",
       "14        3  2006      Q3-2006                  1.0\n",
       "22        4  2006      Q4-2006                  2.0\n",
       "0         1  2007      Q1-2007                 13.0\n",
       "7         2  2007      Q2-2007                 25.0\n",
       "15        3  2007      Q3-2007                 41.0"
      ]
     },
     "execution_count": 86,
     "metadata": {},
     "output_type": "execute_result"
    }
   ],
   "source": [
    "# Prepare customer count data by quarter without accumulation\n",
    "customer_counts = df.groupby(['quarter', 'year', 'quarter_year'])['ID'].nunique().reset_index()\n",
    "customer_counts = customer_counts.sort_values(by=['year', 'quarter'])\n",
    "customer_counts.rename(columns={'ID': 'number_of_customers'}, inplace=True)\n",
    "customer_counts['number_of_customers'] = customer_counts['number_of_customers'].expanding().sum()\n",
    "customer_counts.head()"
   ]
  },
  {
   "cell_type": "code",
   "execution_count": 88,
   "id": "adf3f096",
   "metadata": {},
   "outputs": [
    {
     "data": {
      "application/vnd.plotly.v1+json": {
       "config": {
        "plotlyServerURL": "https://plot.ly"
       },
       "data": [
        {
         "line": {
          "color": "#1F77B4",
          "width": 3
         },
         "marker": {
          "color": "#1F77B4",
          "line": {
           "color": "white",
           "width": 1
          },
          "size": 8,
          "symbol": "circle"
         },
         "mode": "lines+markers",
         "name": "Cancellation Rate",
         "type": "scatter",
         "x": [
          "Q3-2006",
          "Q4-2006",
          "Q1-2007",
          "Q2-2007",
          "Q3-2007",
          "Q4-2007",
          "Q1-2008",
          "Q2-2008",
          "Q3-2008",
          "Q4-2008",
          "Q1-2009",
          "Q2-2009",
          "Q3-2009",
          "Q4-2009",
          "Q1-2010",
          "Q2-2010",
          "Q3-2010",
          "Q4-2010",
          "Q1-2011",
          "Q2-2011",
          "Q3-2011",
          "Q4-2011",
          "Q1-2012",
          "Q2-2012",
          "Q3-2012",
          "Q4-2012",
          "Q1-2013",
          "Q2-2013",
          "Q3-2013",
          "Q4-2013"
         ],
         "xaxis": "x",
         "y": {
          "bdata": "AAAAAAAAAAAAAAAAAAAAAD744IMPPhhAF1100UWXJUBHF1100UUrQCLDvQpmSTJAe8HgJhNrNEBLqQTCsN02QLCytotHIjlAdapV6MEjOkCFKtjXHfg6QLKjUWjtPjtAY6dxJkEsO0BrivD31Dg7QMOhltyHkztAhVMdhf3OO0A9HY9bL088QJ2bI4EeoD1A9RaL36MOP0DnqvvWjWlAQLpRL1/T20BAuIzMSk5OQUC+uiNx4c9BQIi3YEkHE0JANE032UcvQkDECuhtZahBQLVhquQXJ0FAW3N7R0SdQEBmlC5p2xNAQEDgTOh7Fz9A",
          "dtype": "f8"
         },
         "yaxis": "y"
        },
        {
         "marker": {
          "color": "rgba(255, 193, 7, 0.6)",
          "line": {
           "color": "rgba(255, 193, 7, 1)",
           "width": 1.5
          }
         },
         "name": "#Customer",
         "type": "bar",
         "x": [
          "Q3-2006",
          "Q4-2006",
          "Q1-2007",
          "Q2-2007",
          "Q3-2007",
          "Q4-2007",
          "Q1-2008",
          "Q2-2008",
          "Q3-2008",
          "Q4-2008",
          "Q1-2009",
          "Q2-2009",
          "Q3-2009",
          "Q4-2009",
          "Q1-2010",
          "Q2-2010",
          "Q3-2010",
          "Q4-2010",
          "Q1-2011",
          "Q2-2011",
          "Q3-2011",
          "Q4-2011",
          "Q1-2012",
          "Q2-2012",
          "Q3-2012",
          "Q4-2012",
          "Q1-2013",
          "Q2-2013",
          "Q3-2013",
          "Q4-2013"
         ],
         "xaxis": "x",
         "y": {
          "bdata": "AAAAAAAA8D8AAAAAAAAAQAAAAAAAACpAAAAAAAAAOUAAAAAAAIBEQAAAAAAAgFpAAAAAAAAwd0AAAAAAAAB/QAAAAAAA8IZAAAAAAADoj0AAAAAAACiWQAAAAAAAaJlAAAAAAADsnUAAAAAAABqiQAAAAAAAnqlAAAAAAAAQrUAAAAAAAA+xQAAAAAAAIrJAAAAAAADos0AAAAAAAGi0QAAAAAAAB7VAAAAAAADktUAAAAAAAFe4QAAAAAAA/7hAAAAAAAAHukAAAAAAAIK7QAAAAAAA9b5AAAAAAAA7wEAAAAAAAHHBQAAAAACANsJA",
          "dtype": "f8"
         },
         "yaxis": "y2"
        }
       ],
       "layout": {
        "barmode": "relative",
        "height": 600,
        "hovermode": "x unified",
        "legend": {
         "orientation": "h",
         "x": 1,
         "xanchor": "right",
         "y": 1.02,
         "yanchor": "bottom"
        },
        "margin": {
         "b": 80,
         "l": 80,
         "r": 40,
         "t": 100
        },
        "plot_bgcolor": "white",
        "template": {
         "data": {
          "bar": [
           {
            "error_x": {
             "color": "#2a3f5f"
            },
            "error_y": {
             "color": "#2a3f5f"
            },
            "marker": {
             "line": {
              "color": "#E5ECF6",
              "width": 0.5
             },
             "pattern": {
              "fillmode": "overlay",
              "size": 10,
              "solidity": 0.2
             }
            },
            "type": "bar"
           }
          ],
          "barpolar": [
           {
            "marker": {
             "line": {
              "color": "#E5ECF6",
              "width": 0.5
             },
             "pattern": {
              "fillmode": "overlay",
              "size": 10,
              "solidity": 0.2
             }
            },
            "type": "barpolar"
           }
          ],
          "carpet": [
           {
            "aaxis": {
             "endlinecolor": "#2a3f5f",
             "gridcolor": "white",
             "linecolor": "white",
             "minorgridcolor": "white",
             "startlinecolor": "#2a3f5f"
            },
            "baxis": {
             "endlinecolor": "#2a3f5f",
             "gridcolor": "white",
             "linecolor": "white",
             "minorgridcolor": "white",
             "startlinecolor": "#2a3f5f"
            },
            "type": "carpet"
           }
          ],
          "choropleth": [
           {
            "colorbar": {
             "outlinewidth": 0,
             "ticks": ""
            },
            "type": "choropleth"
           }
          ],
          "contour": [
           {
            "colorbar": {
             "outlinewidth": 0,
             "ticks": ""
            },
            "colorscale": [
             [
              0,
              "#0d0887"
             ],
             [
              0.1111111111111111,
              "#46039f"
             ],
             [
              0.2222222222222222,
              "#7201a8"
             ],
             [
              0.3333333333333333,
              "#9c179e"
             ],
             [
              0.4444444444444444,
              "#bd3786"
             ],
             [
              0.5555555555555556,
              "#d8576b"
             ],
             [
              0.6666666666666666,
              "#ed7953"
             ],
             [
              0.7777777777777778,
              "#fb9f3a"
             ],
             [
              0.8888888888888888,
              "#fdca26"
             ],
             [
              1,
              "#f0f921"
             ]
            ],
            "type": "contour"
           }
          ],
          "contourcarpet": [
           {
            "colorbar": {
             "outlinewidth": 0,
             "ticks": ""
            },
            "type": "contourcarpet"
           }
          ],
          "heatmap": [
           {
            "colorbar": {
             "outlinewidth": 0,
             "ticks": ""
            },
            "colorscale": [
             [
              0,
              "#0d0887"
             ],
             [
              0.1111111111111111,
              "#46039f"
             ],
             [
              0.2222222222222222,
              "#7201a8"
             ],
             [
              0.3333333333333333,
              "#9c179e"
             ],
             [
              0.4444444444444444,
              "#bd3786"
             ],
             [
              0.5555555555555556,
              "#d8576b"
             ],
             [
              0.6666666666666666,
              "#ed7953"
             ],
             [
              0.7777777777777778,
              "#fb9f3a"
             ],
             [
              0.8888888888888888,
              "#fdca26"
             ],
             [
              1,
              "#f0f921"
             ]
            ],
            "type": "heatmap"
           }
          ],
          "histogram": [
           {
            "marker": {
             "pattern": {
              "fillmode": "overlay",
              "size": 10,
              "solidity": 0.2
             }
            },
            "type": "histogram"
           }
          ],
          "histogram2d": [
           {
            "colorbar": {
             "outlinewidth": 0,
             "ticks": ""
            },
            "colorscale": [
             [
              0,
              "#0d0887"
             ],
             [
              0.1111111111111111,
              "#46039f"
             ],
             [
              0.2222222222222222,
              "#7201a8"
             ],
             [
              0.3333333333333333,
              "#9c179e"
             ],
             [
              0.4444444444444444,
              "#bd3786"
             ],
             [
              0.5555555555555556,
              "#d8576b"
             ],
             [
              0.6666666666666666,
              "#ed7953"
             ],
             [
              0.7777777777777778,
              "#fb9f3a"
             ],
             [
              0.8888888888888888,
              "#fdca26"
             ],
             [
              1,
              "#f0f921"
             ]
            ],
            "type": "histogram2d"
           }
          ],
          "histogram2dcontour": [
           {
            "colorbar": {
             "outlinewidth": 0,
             "ticks": ""
            },
            "colorscale": [
             [
              0,
              "#0d0887"
             ],
             [
              0.1111111111111111,
              "#46039f"
             ],
             [
              0.2222222222222222,
              "#7201a8"
             ],
             [
              0.3333333333333333,
              "#9c179e"
             ],
             [
              0.4444444444444444,
              "#bd3786"
             ],
             [
              0.5555555555555556,
              "#d8576b"
             ],
             [
              0.6666666666666666,
              "#ed7953"
             ],
             [
              0.7777777777777778,
              "#fb9f3a"
             ],
             [
              0.8888888888888888,
              "#fdca26"
             ],
             [
              1,
              "#f0f921"
             ]
            ],
            "type": "histogram2dcontour"
           }
          ],
          "mesh3d": [
           {
            "colorbar": {
             "outlinewidth": 0,
             "ticks": ""
            },
            "type": "mesh3d"
           }
          ],
          "parcoords": [
           {
            "line": {
             "colorbar": {
              "outlinewidth": 0,
              "ticks": ""
             }
            },
            "type": "parcoords"
           }
          ],
          "pie": [
           {
            "automargin": true,
            "type": "pie"
           }
          ],
          "scatter": [
           {
            "fillpattern": {
             "fillmode": "overlay",
             "size": 10,
             "solidity": 0.2
            },
            "type": "scatter"
           }
          ],
          "scatter3d": [
           {
            "line": {
             "colorbar": {
              "outlinewidth": 0,
              "ticks": ""
             }
            },
            "marker": {
             "colorbar": {
              "outlinewidth": 0,
              "ticks": ""
             }
            },
            "type": "scatter3d"
           }
          ],
          "scattercarpet": [
           {
            "marker": {
             "colorbar": {
              "outlinewidth": 0,
              "ticks": ""
             }
            },
            "type": "scattercarpet"
           }
          ],
          "scattergeo": [
           {
            "marker": {
             "colorbar": {
              "outlinewidth": 0,
              "ticks": ""
             }
            },
            "type": "scattergeo"
           }
          ],
          "scattergl": [
           {
            "marker": {
             "colorbar": {
              "outlinewidth": 0,
              "ticks": ""
             }
            },
            "type": "scattergl"
           }
          ],
          "scattermap": [
           {
            "marker": {
             "colorbar": {
              "outlinewidth": 0,
              "ticks": ""
             }
            },
            "type": "scattermap"
           }
          ],
          "scattermapbox": [
           {
            "marker": {
             "colorbar": {
              "outlinewidth": 0,
              "ticks": ""
             }
            },
            "type": "scattermapbox"
           }
          ],
          "scatterpolar": [
           {
            "marker": {
             "colorbar": {
              "outlinewidth": 0,
              "ticks": ""
             }
            },
            "type": "scatterpolar"
           }
          ],
          "scatterpolargl": [
           {
            "marker": {
             "colorbar": {
              "outlinewidth": 0,
              "ticks": ""
             }
            },
            "type": "scatterpolargl"
           }
          ],
          "scatterternary": [
           {
            "marker": {
             "colorbar": {
              "outlinewidth": 0,
              "ticks": ""
             }
            },
            "type": "scatterternary"
           }
          ],
          "surface": [
           {
            "colorbar": {
             "outlinewidth": 0,
             "ticks": ""
            },
            "colorscale": [
             [
              0,
              "#0d0887"
             ],
             [
              0.1111111111111111,
              "#46039f"
             ],
             [
              0.2222222222222222,
              "#7201a8"
             ],
             [
              0.3333333333333333,
              "#9c179e"
             ],
             [
              0.4444444444444444,
              "#bd3786"
             ],
             [
              0.5555555555555556,
              "#d8576b"
             ],
             [
              0.6666666666666666,
              "#ed7953"
             ],
             [
              0.7777777777777778,
              "#fb9f3a"
             ],
             [
              0.8888888888888888,
              "#fdca26"
             ],
             [
              1,
              "#f0f921"
             ]
            ],
            "type": "surface"
           }
          ],
          "table": [
           {
            "cells": {
             "fill": {
              "color": "#EBF0F8"
             },
             "line": {
              "color": "white"
             }
            },
            "header": {
             "fill": {
              "color": "#C8D4E3"
             },
             "line": {
              "color": "white"
             }
            },
            "type": "table"
           }
          ]
         },
         "layout": {
          "annotationdefaults": {
           "arrowcolor": "#2a3f5f",
           "arrowhead": 0,
           "arrowwidth": 1
          },
          "autotypenumbers": "strict",
          "coloraxis": {
           "colorbar": {
            "outlinewidth": 0,
            "ticks": ""
           }
          },
          "colorscale": {
           "diverging": [
            [
             0,
             "#8e0152"
            ],
            [
             0.1,
             "#c51b7d"
            ],
            [
             0.2,
             "#de77ae"
            ],
            [
             0.3,
             "#f1b6da"
            ],
            [
             0.4,
             "#fde0ef"
            ],
            [
             0.5,
             "#f7f7f7"
            ],
            [
             0.6,
             "#e6f5d0"
            ],
            [
             0.7,
             "#b8e186"
            ],
            [
             0.8,
             "#7fbc41"
            ],
            [
             0.9,
             "#4d9221"
            ],
            [
             1,
             "#276419"
            ]
           ],
           "sequential": [
            [
             0,
             "#0d0887"
            ],
            [
             0.1111111111111111,
             "#46039f"
            ],
            [
             0.2222222222222222,
             "#7201a8"
            ],
            [
             0.3333333333333333,
             "#9c179e"
            ],
            [
             0.4444444444444444,
             "#bd3786"
            ],
            [
             0.5555555555555556,
             "#d8576b"
            ],
            [
             0.6666666666666666,
             "#ed7953"
            ],
            [
             0.7777777777777778,
             "#fb9f3a"
            ],
            [
             0.8888888888888888,
             "#fdca26"
            ],
            [
             1,
             "#f0f921"
            ]
           ],
           "sequentialminus": [
            [
             0,
             "#0d0887"
            ],
            [
             0.1111111111111111,
             "#46039f"
            ],
            [
             0.2222222222222222,
             "#7201a8"
            ],
            [
             0.3333333333333333,
             "#9c179e"
            ],
            [
             0.4444444444444444,
             "#bd3786"
            ],
            [
             0.5555555555555556,
             "#d8576b"
            ],
            [
             0.6666666666666666,
             "#ed7953"
            ],
            [
             0.7777777777777778,
             "#fb9f3a"
            ],
            [
             0.8888888888888888,
             "#fdca26"
            ],
            [
             1,
             "#f0f921"
            ]
           ]
          },
          "colorway": [
           "#636efa",
           "#EF553B",
           "#00cc96",
           "#ab63fa",
           "#FFA15A",
           "#19d3f3",
           "#FF6692",
           "#B6E880",
           "#FF97FF",
           "#FECB52"
          ],
          "font": {
           "color": "#2a3f5f"
          },
          "geo": {
           "bgcolor": "white",
           "lakecolor": "white",
           "landcolor": "#E5ECF6",
           "showlakes": true,
           "showland": true,
           "subunitcolor": "white"
          },
          "hoverlabel": {
           "align": "left"
          },
          "hovermode": "closest",
          "mapbox": {
           "style": "light"
          },
          "paper_bgcolor": "white",
          "plot_bgcolor": "#E5ECF6",
          "polar": {
           "angularaxis": {
            "gridcolor": "white",
            "linecolor": "white",
            "ticks": ""
           },
           "bgcolor": "#E5ECF6",
           "radialaxis": {
            "gridcolor": "white",
            "linecolor": "white",
            "ticks": ""
           }
          },
          "scene": {
           "xaxis": {
            "backgroundcolor": "#E5ECF6",
            "gridcolor": "white",
            "gridwidth": 2,
            "linecolor": "white",
            "showbackground": true,
            "ticks": "",
            "zerolinecolor": "white"
           },
           "yaxis": {
            "backgroundcolor": "#E5ECF6",
            "gridcolor": "white",
            "gridwidth": 2,
            "linecolor": "white",
            "showbackground": true,
            "ticks": "",
            "zerolinecolor": "white"
           },
           "zaxis": {
            "backgroundcolor": "#E5ECF6",
            "gridcolor": "white",
            "gridwidth": 2,
            "linecolor": "white",
            "showbackground": true,
            "ticks": "",
            "zerolinecolor": "white"
           }
          },
          "shapedefaults": {
           "line": {
            "color": "#2a3f5f"
           }
          },
          "ternary": {
           "aaxis": {
            "gridcolor": "white",
            "linecolor": "white",
            "ticks": ""
           },
           "baxis": {
            "gridcolor": "white",
            "linecolor": "white",
            "ticks": ""
           },
           "bgcolor": "#E5ECF6",
           "caxis": {
            "gridcolor": "white",
            "linecolor": "white",
            "ticks": ""
           }
          },
          "title": {
           "x": 0.05
          },
          "xaxis": {
           "automargin": true,
           "gridcolor": "white",
           "linecolor": "white",
           "ticks": "",
           "title": {
            "standoff": 15
           },
           "zerolinecolor": "white",
           "zerolinewidth": 2
          },
          "yaxis": {
           "automargin": true,
           "gridcolor": "white",
           "linecolor": "white",
           "ticks": "",
           "title": {
            "standoff": 15
           },
           "zerolinecolor": "white",
           "zerolinewidth": 2
          }
         }
        },
        "title": {
         "font": {
          "size": 20
         },
         "text": "Cancellation Rate and Customer Count by Quarter",
         "x": 0.5,
         "xanchor": "center",
         "y": 0.95,
         "yanchor": "top"
        },
        "width": 1000,
        "xaxis": {
         "anchor": "y",
         "domain": [
          0,
          0.94
         ],
         "showgrid": false,
         "tickangle": 45,
         "tickfont": {
          "size": 12
         },
         "tickmode": "array",
         "title": {
          "text": "Quarter-Year"
         },
         "type": "category"
        },
        "yaxis": {
         "anchor": "x",
         "domain": [
          0,
          1
         ],
         "showgrid": false,
         "tickformat": ".0f",
         "ticksuffix": "%",
         "title": {
          "text": "Cancellation Rate (%)"
         },
         "zeroline": false
        },
        "yaxis2": {
         "anchor": "x",
         "overlaying": "y",
         "showgrid": false,
         "side": "right",
         "title": {
          "text": "#Customer"
         },
         "zeroline": false
        }
       }
      }
     },
     "metadata": {},
     "output_type": "display_data"
    }
   ],
   "source": [
    "\n",
    "\n",
    "# Create figure with secondary y-axis\n",
    "fig = make_subplots(specs=[[{\"secondary_y\": True}]])\n",
    "\n",
    "# Add the cancellation rate line (primary y-axis)\n",
    "fig.add_trace(\n",
    "    go.Scatter(\n",
    "        x=cancellation_rate_df['quarter_year'],\n",
    "        y=cancellation_rate_df['rolling_cancellation_rate'] * 100,  # Convert to percentage\n",
    "        mode='lines+markers',\n",
    "        name='Cancellation Rate',\n",
    "        line=dict(\n",
    "            color='#1F77B4',  # Blue color\n",
    "            width=3\n",
    "        ),\n",
    "        marker=dict(\n",
    "            size=8,\n",
    "            symbol='circle',\n",
    "            color='#1F77B4',\n",
    "            line=dict(\n",
    "                color='white',\n",
    "                width=1\n",
    "            )\n",
    "        )\n",
    "    ),\n",
    "    secondary_y=False\n",
    ")\n",
    "\n",
    "# Add the customer count bars (secondary y-axis)\n",
    "fig.add_trace(\n",
    "    go.Bar(\n",
    "        x=customer_counts['quarter_year'],\n",
    "        y=customer_counts['number_of_customers'],\n",
    "        name='#Customer',\n",
    "        marker_color='rgba(255, 193, 7, 0.6)',  # Semi-transparent amber\n",
    "        marker_line_color='rgba(255, 193, 7, 1)',\n",
    "        marker_line_width=1.5\n",
    "    ),\n",
    "    secondary_y=True\n",
    ")\n",
    "\n",
    "# Customize the layout\n",
    "fig.update_layout(\n",
    "    title={\n",
    "        'text': 'Cancellation Rate and Customer Count by Quarter',\n",
    "        'y': 0.95,\n",
    "        'x': 0.5,\n",
    "        'xanchor': 'center',\n",
    "        'yanchor': 'top',\n",
    "        'font': dict(size=20)\n",
    "    },\n",
    "    xaxis=dict(\n",
    "        title='Quarter-Year',\n",
    "        tickangle=45,\n",
    "        tickfont=dict(size=12),\n",
    "        # Explicitly set as categorical\n",
    "        type='category',\n",
    "        # Ensure all quarters are shown\n",
    "        tickmode='array',\n",
    "        showgrid=False\n",
    "    ),\n",
    "    legend=dict(\n",
    "        orientation=\"h\",\n",
    "        yanchor=\"bottom\",\n",
    "        y=1.02,\n",
    "        xanchor=\"right\",\n",
    "        x=1\n",
    "    ),\n",
    "    plot_bgcolor='white',\n",
    "    hovermode='x unified',\n",
    "    width=1000,\n",
    "    height=600,\n",
    "    margin=dict(l=80, r=40, t=100, b=80),\n",
    "    barmode='relative'\n",
    ")\n",
    "\n",
    "# Set y-axes titles with no grid\n",
    "fig.update_yaxes(\n",
    "    title_text=\"Cancellation Rate (%)\",\n",
    "    tickformat='.0f',\n",
    "    ticksuffix='%',\n",
    "    showgrid=False,\n",
    "    zeroline=False,\n",
    "    secondary_y=False\n",
    ")\n",
    "fig.update_yaxes(\n",
    "    title_text=\"#Customer\",\n",
    "    showgrid=False,\n",
    "    zeroline=False,\n",
    "    secondary_y=True\n",
    ")\n",
    "\n",
    "# Show the plot\n",
    "fig.show()"
   ]
  },
  {
   "cell_type": "code",
   "execution_count": 89,
   "id": "724b6460",
   "metadata": {},
   "outputs": [
    {
     "data": {
      "text/html": [
       "<div>\n",
       "<style scoped>\n",
       "    .dataframe tbody tr th:only-of-type {\n",
       "        vertical-align: middle;\n",
       "    }\n",
       "\n",
       "    .dataframe tbody tr th {\n",
       "        vertical-align: top;\n",
       "    }\n",
       "\n",
       "    .dataframe thead th {\n",
       "        text-align: right;\n",
       "    }\n",
       "</style>\n",
       "<table border=\"1\" class=\"dataframe\">\n",
       "  <thead>\n",
       "    <tr style=\"text-align: right;\">\n",
       "      <th></th>\n",
       "      <th>ID</th>\n",
       "      <th>MEMBERSHIP_NUMBER</th>\n",
       "      <th>MEMBERSHIP_TERM_YEARS</th>\n",
       "      <th>ANNUAL_FEES</th>\n",
       "      <th>MEMBER_MARITAL_STATUS</th>\n",
       "      <th>MEMBER_GENDER</th>\n",
       "      <th>MEMBER_ANNUAL_INCOME</th>\n",
       "      <th>MEMBER_OCCUPATION_CD</th>\n",
       "      <th>MEMBERSHIP_PACKAGE</th>\n",
       "      <th>MEMBER_AGE_AT_ISSUE</th>\n",
       "      <th>ADDITIONAL_MEMBERS</th>\n",
       "      <th>PAYMENT_MODE</th>\n",
       "      <th>AGENT_CODE</th>\n",
       "      <th>START_DATE</th>\n",
       "      <th>END_DATE</th>\n",
       "      <th>MEMBERSHIP_STATUS</th>\n",
       "      <th>quarter</th>\n",
       "      <th>year</th>\n",
       "      <th>quarter_year</th>\n",
       "    </tr>\n",
       "  </thead>\n",
       "  <tbody>\n",
       "    <tr>\n",
       "      <th>0</th>\n",
       "      <td>5944</td>\n",
       "      <td>A05948</td>\n",
       "      <td>12</td>\n",
       "      <td>100000.00</td>\n",
       "      <td>NaN</td>\n",
       "      <td>M</td>\n",
       "      <td>399996.0</td>\n",
       "      <td>1.0</td>\n",
       "      <td>TYPE-B</td>\n",
       "      <td>43</td>\n",
       "      <td>2</td>\n",
       "      <td>ANNUAL</td>\n",
       "      <td>1194400</td>\n",
       "      <td>2011-09-29</td>\n",
       "      <td>2012-11-19</td>\n",
       "      <td>CANCELLED</td>\n",
       "      <td>3</td>\n",
       "      <td>2011</td>\n",
       "      <td>Q3-2011</td>\n",
       "    </tr>\n",
       "    <tr>\n",
       "      <th>1</th>\n",
       "      <td>5487</td>\n",
       "      <td>A05490</td>\n",
       "      <td>17</td>\n",
       "      <td>100514.23</td>\n",
       "      <td>M</td>\n",
       "      <td>F</td>\n",
       "      <td>549996.0</td>\n",
       "      <td>1.0</td>\n",
       "      <td>TYPE-A</td>\n",
       "      <td>40</td>\n",
       "      <td>2</td>\n",
       "      <td>ANNUAL</td>\n",
       "      <td>739244</td>\n",
       "      <td>2011-03-11</td>\n",
       "      <td>2012-04-10</td>\n",
       "      <td>CANCELLED</td>\n",
       "      <td>1</td>\n",
       "      <td>2011</td>\n",
       "      <td>Q1-2011</td>\n",
       "    </tr>\n",
       "    <tr>\n",
       "      <th>2</th>\n",
       "      <td>9089</td>\n",
       "      <td>A09094</td>\n",
       "      <td>12</td>\n",
       "      <td>100000.80</td>\n",
       "      <td>M</td>\n",
       "      <td>M</td>\n",
       "      <td>1299996.0</td>\n",
       "      <td>1.0</td>\n",
       "      <td>TYPE-B</td>\n",
       "      <td>40</td>\n",
       "      <td>2</td>\n",
       "      <td>MONTHLY</td>\n",
       "      <td>1341388</td>\n",
       "      <td>2013-06-25</td>\n",
       "      <td>NaT</td>\n",
       "      <td>INFORCE</td>\n",
       "      <td>2</td>\n",
       "      <td>2013</td>\n",
       "      <td>Q2-2013</td>\n",
       "    </tr>\n",
       "    <tr>\n",
       "      <th>3</th>\n",
       "      <td>5338</td>\n",
       "      <td>A05341</td>\n",
       "      <td>12</td>\n",
       "      <td>100000.99</td>\n",
       "      <td>M</td>\n",
       "      <td>M</td>\n",
       "      <td>500004.0</td>\n",
       "      <td>1.0</td>\n",
       "      <td>TYPE-B</td>\n",
       "      <td>50</td>\n",
       "      <td>3</td>\n",
       "      <td>ANNUAL</td>\n",
       "      <td>261533</td>\n",
       "      <td>2011-02-03</td>\n",
       "      <td>2012-03-28</td>\n",
       "      <td>CANCELLED</td>\n",
       "      <td>1</td>\n",
       "      <td>2011</td>\n",
       "      <td>Q1-2011</td>\n",
       "    </tr>\n",
       "    <tr>\n",
       "      <th>4</th>\n",
       "      <td>8163</td>\n",
       "      <td>A08168</td>\n",
       "      <td>12</td>\n",
       "      <td>200001.60</td>\n",
       "      <td>NaN</td>\n",
       "      <td>M</td>\n",
       "      <td>499992.0</td>\n",
       "      <td>2.0</td>\n",
       "      <td>TYPE-B</td>\n",
       "      <td>45</td>\n",
       "      <td>2</td>\n",
       "      <td>MONTHLY</td>\n",
       "      <td>1355055</td>\n",
       "      <td>2013-02-28</td>\n",
       "      <td>2013-07-27</td>\n",
       "      <td>CANCELLED</td>\n",
       "      <td>1</td>\n",
       "      <td>2013</td>\n",
       "      <td>Q1-2013</td>\n",
       "    </tr>\n",
       "    <tr>\n",
       "      <th>...</th>\n",
       "      <td>...</td>\n",
       "      <td>...</td>\n",
       "      <td>...</td>\n",
       "      <td>...</td>\n",
       "      <td>...</td>\n",
       "      <td>...</td>\n",
       "      <td>...</td>\n",
       "      <td>...</td>\n",
       "      <td>...</td>\n",
       "      <td>...</td>\n",
       "      <td>...</td>\n",
       "      <td>...</td>\n",
       "      <td>...</td>\n",
       "      <td>...</td>\n",
       "      <td>...</td>\n",
       "      <td>...</td>\n",
       "      <td>...</td>\n",
       "      <td>...</td>\n",
       "      <td>...</td>\n",
       "    </tr>\n",
       "    <tr>\n",
       "      <th>9320</th>\n",
       "      <td>5734</td>\n",
       "      <td>A05737</td>\n",
       "      <td>59</td>\n",
       "      <td>100514.79</td>\n",
       "      <td>M</td>\n",
       "      <td>M</td>\n",
       "      <td>600000.0</td>\n",
       "      <td>1.0</td>\n",
       "      <td>TYPE-A</td>\n",
       "      <td>46</td>\n",
       "      <td>1</td>\n",
       "      <td>ANNUAL</td>\n",
       "      <td>662799</td>\n",
       "      <td>2011-04-28</td>\n",
       "      <td>2013-05-28</td>\n",
       "      <td>CANCELLED</td>\n",
       "      <td>2</td>\n",
       "      <td>2011</td>\n",
       "      <td>Q2-2011</td>\n",
       "    </tr>\n",
       "    <tr>\n",
       "      <th>9321</th>\n",
       "      <td>5191</td>\n",
       "      <td>A05194</td>\n",
       "      <td>68</td>\n",
       "      <td>101550.00</td>\n",
       "      <td>M</td>\n",
       "      <td>M</td>\n",
       "      <td>999996.0</td>\n",
       "      <td>1.0</td>\n",
       "      <td>TYPE-A</td>\n",
       "      <td>36</td>\n",
       "      <td>3</td>\n",
       "      <td>ANNUAL</td>\n",
       "      <td>17411</td>\n",
       "      <td>2010-12-31</td>\n",
       "      <td>2012-01-27</td>\n",
       "      <td>CANCELLED</td>\n",
       "      <td>4</td>\n",
       "      <td>2010</td>\n",
       "      <td>Q4-2010</td>\n",
       "    </tr>\n",
       "    <tr>\n",
       "      <th>9322</th>\n",
       "      <td>5390</td>\n",
       "      <td>A05393</td>\n",
       "      <td>12</td>\n",
       "      <td>500000.00</td>\n",
       "      <td>M</td>\n",
       "      <td>M</td>\n",
       "      <td>399996.0</td>\n",
       "      <td>5.0</td>\n",
       "      <td>TYPE-B</td>\n",
       "      <td>36</td>\n",
       "      <td>3</td>\n",
       "      <td>ANNUAL</td>\n",
       "      <td>1171555</td>\n",
       "      <td>2011-02-25</td>\n",
       "      <td>NaT</td>\n",
       "      <td>INFORCE</td>\n",
       "      <td>1</td>\n",
       "      <td>2011</td>\n",
       "      <td>Q1-2011</td>\n",
       "    </tr>\n",
       "    <tr>\n",
       "      <th>9323</th>\n",
       "      <td>860</td>\n",
       "      <td>A00861</td>\n",
       "      <td>63</td>\n",
       "      <td>100000.00</td>\n",
       "      <td>S</td>\n",
       "      <td>F</td>\n",
       "      <td>336000.0</td>\n",
       "      <td>1.0</td>\n",
       "      <td>TYPE-B</td>\n",
       "      <td>19</td>\n",
       "      <td>0</td>\n",
       "      <td>SEMI-ANNUAL</td>\n",
       "      <td>343377</td>\n",
       "      <td>2008-10-13</td>\n",
       "      <td>2011-12-10</td>\n",
       "      <td>CANCELLED</td>\n",
       "      <td>4</td>\n",
       "      <td>2008</td>\n",
       "      <td>Q4-2008</td>\n",
       "    </tr>\n",
       "    <tr>\n",
       "      <th>9324</th>\n",
       "      <td>7270</td>\n",
       "      <td>A07275</td>\n",
       "      <td>17</td>\n",
       "      <td>101546.76</td>\n",
       "      <td>M</td>\n",
       "      <td>F</td>\n",
       "      <td>600000.0</td>\n",
       "      <td>1.0</td>\n",
       "      <td>TYPE-A</td>\n",
       "      <td>46</td>\n",
       "      <td>3</td>\n",
       "      <td>MONTHLY</td>\n",
       "      <td>343466</td>\n",
       "      <td>2012-08-21</td>\n",
       "      <td>NaT</td>\n",
       "      <td>INFORCE</td>\n",
       "      <td>3</td>\n",
       "      <td>2012</td>\n",
       "      <td>Q3-2012</td>\n",
       "    </tr>\n",
       "  </tbody>\n",
       "</table>\n",
       "<p>9325 rows × 19 columns</p>\n",
       "</div>"
      ],
      "text/plain": [
       "        ID MEMBERSHIP_NUMBER  MEMBERSHIP_TERM_YEARS  ANNUAL_FEES  \\\n",
       "0     5944            A05948                     12    100000.00   \n",
       "1     5487            A05490                     17    100514.23   \n",
       "2     9089            A09094                     12    100000.80   \n",
       "3     5338            A05341                     12    100000.99   \n",
       "4     8163            A08168                     12    200001.60   \n",
       "...    ...               ...                    ...          ...   \n",
       "9320  5734            A05737                     59    100514.79   \n",
       "9321  5191            A05194                     68    101550.00   \n",
       "9322  5390            A05393                     12    500000.00   \n",
       "9323   860            A00861                     63    100000.00   \n",
       "9324  7270            A07275                     17    101546.76   \n",
       "\n",
       "     MEMBER_MARITAL_STATUS MEMBER_GENDER  MEMBER_ANNUAL_INCOME  \\\n",
       "0                      NaN             M              399996.0   \n",
       "1                        M             F              549996.0   \n",
       "2                        M             M             1299996.0   \n",
       "3                        M             M              500004.0   \n",
       "4                      NaN             M              499992.0   \n",
       "...                    ...           ...                   ...   \n",
       "9320                     M             M              600000.0   \n",
       "9321                     M             M              999996.0   \n",
       "9322                     M             M              399996.0   \n",
       "9323                     S             F              336000.0   \n",
       "9324                     M             F              600000.0   \n",
       "\n",
       "      MEMBER_OCCUPATION_CD MEMBERSHIP_PACKAGE  MEMBER_AGE_AT_ISSUE  \\\n",
       "0                      1.0             TYPE-B                   43   \n",
       "1                      1.0             TYPE-A                   40   \n",
       "2                      1.0             TYPE-B                   40   \n",
       "3                      1.0             TYPE-B                   50   \n",
       "4                      2.0             TYPE-B                   45   \n",
       "...                    ...                ...                  ...   \n",
       "9320                   1.0             TYPE-A                   46   \n",
       "9321                   1.0             TYPE-A                   36   \n",
       "9322                   5.0             TYPE-B                   36   \n",
       "9323                   1.0             TYPE-B                   19   \n",
       "9324                   1.0             TYPE-A                   46   \n",
       "\n",
       "      ADDITIONAL_MEMBERS PAYMENT_MODE AGENT_CODE START_DATE   END_DATE  \\\n",
       "0                      2       ANNUAL    1194400 2011-09-29 2012-11-19   \n",
       "1                      2       ANNUAL     739244 2011-03-11 2012-04-10   \n",
       "2                      2      MONTHLY    1341388 2013-06-25        NaT   \n",
       "3                      3       ANNUAL     261533 2011-02-03 2012-03-28   \n",
       "4                      2      MONTHLY    1355055 2013-02-28 2013-07-27   \n",
       "...                  ...          ...        ...        ...        ...   \n",
       "9320                   1       ANNUAL     662799 2011-04-28 2013-05-28   \n",
       "9321                   3       ANNUAL      17411 2010-12-31 2012-01-27   \n",
       "9322                   3       ANNUAL    1171555 2011-02-25        NaT   \n",
       "9323                   0  SEMI-ANNUAL     343377 2008-10-13 2011-12-10   \n",
       "9324                   3      MONTHLY     343466 2012-08-21        NaT   \n",
       "\n",
       "     MEMBERSHIP_STATUS  quarter  year quarter_year  \n",
       "0            CANCELLED        3  2011      Q3-2011  \n",
       "1            CANCELLED        1  2011      Q1-2011  \n",
       "2              INFORCE        2  2013      Q2-2013  \n",
       "3            CANCELLED        1  2011      Q1-2011  \n",
       "4            CANCELLED        1  2013      Q1-2013  \n",
       "...                ...      ...   ...          ...  \n",
       "9320         CANCELLED        2  2011      Q2-2011  \n",
       "9321         CANCELLED        4  2010      Q4-2010  \n",
       "9322           INFORCE        1  2011      Q1-2011  \n",
       "9323         CANCELLED        4  2008      Q4-2008  \n",
       "9324           INFORCE        3  2012      Q3-2012  \n",
       "\n",
       "[9325 rows x 19 columns]"
      ]
     },
     "execution_count": 89,
     "metadata": {},
     "output_type": "execute_result"
    }
   ],
   "source": [
    "df"
   ]
  },
  {
   "cell_type": "code",
   "execution_count": 90,
   "id": "185273e8",
   "metadata": {},
   "outputs": [],
   "source": [
    "cancel_by_package_type = df.groupby(['quarter', 'year','quarter_year', 'MEMBERSHIP_PACKAGE'])['MEMBERSHIP_STATUS'].apply(lambda x: (x == 'CANCELLED').mean()).reset_index()\n",
    "cancel_by_package_type = cancel_by_package_type.sort_values(by=['year', 'quarter'])\n",
    "cancel_by_package_type.rename(columns={'MEMBERSHIP_STATUS': 'cancellation_rate'}, inplace=True)\n",
    "cancel_by_package_type['rolling_cancellation_rate'] = cancel_by_package_type['cancellation_rate'].expanding().mean()"
   ]
  },
  {
   "cell_type": "code",
   "execution_count": 101,
   "id": "14a6dcbe",
   "metadata": {},
   "outputs": [
    {
     "data": {
      "text/html": [
       "<div>\n",
       "<style scoped>\n",
       "    .dataframe tbody tr th:only-of-type {\n",
       "        vertical-align: middle;\n",
       "    }\n",
       "\n",
       "    .dataframe tbody tr th {\n",
       "        vertical-align: top;\n",
       "    }\n",
       "\n",
       "    .dataframe thead th {\n",
       "        text-align: right;\n",
       "    }\n",
       "</style>\n",
       "<table border=\"1\" class=\"dataframe\">\n",
       "  <thead>\n",
       "    <tr style=\"text-align: right;\">\n",
       "      <th></th>\n",
       "      <th>quarter</th>\n",
       "      <th>year</th>\n",
       "      <th>quarter_year</th>\n",
       "      <th>cancellation_rate</th>\n",
       "      <th>rolling_cancellation_rate</th>\n",
       "    </tr>\n",
       "  </thead>\n",
       "  <tbody>\n",
       "    <tr>\n",
       "      <th>28</th>\n",
       "      <td>4</td>\n",
       "      <td>2012</td>\n",
       "      <td>Q4-2012</td>\n",
       "      <td>0.089710</td>\n",
       "      <td>0.353156</td>\n",
       "    </tr>\n",
       "    <tr>\n",
       "      <th>6</th>\n",
       "      <td>1</td>\n",
       "      <td>2013</td>\n",
       "      <td>Q1-2013</td>\n",
       "      <td>0.080408</td>\n",
       "      <td>0.343054</td>\n",
       "    </tr>\n",
       "    <tr>\n",
       "      <th>13</th>\n",
       "      <td>2</td>\n",
       "      <td>2013</td>\n",
       "      <td>Q2-2013</td>\n",
       "      <td>0.041558</td>\n",
       "      <td>0.332286</td>\n",
       "    </tr>\n",
       "    <tr>\n",
       "      <th>21</th>\n",
       "      <td>3</td>\n",
       "      <td>2013</td>\n",
       "      <td>Q3-2013</td>\n",
       "      <td>0.020968</td>\n",
       "      <td>0.321551</td>\n",
       "    </tr>\n",
       "    <tr>\n",
       "      <th>29</th>\n",
       "      <td>4</td>\n",
       "      <td>2013</td>\n",
       "      <td>Q4-2013</td>\n",
       "      <td>0.002532</td>\n",
       "      <td>0.310917</td>\n",
       "    </tr>\n",
       "  </tbody>\n",
       "</table>\n",
       "</div>"
      ],
      "text/plain": [
       "    quarter  year quarter_year  cancellation_rate  rolling_cancellation_rate\n",
       "28        4  2012      Q4-2012           0.089710                   0.353156\n",
       "6         1  2013      Q1-2013           0.080408                   0.343054\n",
       "13        2  2013      Q2-2013           0.041558                   0.332286\n",
       "21        3  2013      Q3-2013           0.020968                   0.321551\n",
       "29        4  2013      Q4-2013           0.002532                   0.310917"
      ]
     },
     "execution_count": 101,
     "metadata": {},
     "output_type": "execute_result"
    }
   ],
   "source": [
    "cancellation_rate_df.tail()"
   ]
  },
  {
   "cell_type": "code",
   "execution_count": 99,
   "id": "06442ac8",
   "metadata": {},
   "outputs": [],
   "source": [
    "cancel_by_package_type = cancel_by_package_type[cancel_by_package_type['quarter_year'].isin(['Q3-2006', 'Q4-2006']) == False]"
   ]
  },
  {
   "cell_type": "code",
   "execution_count": 100,
   "id": "769e3daa",
   "metadata": {},
   "outputs": [
    {
     "data": {
      "application/vnd.plotly.v1+json": {
       "config": {
        "plotlyServerURL": "https://plot.ly"
       },
       "data": [
        {
         "connectgaps": true,
         "line": {
          "color": "rgb(49,130,189)",
          "width": 3
         },
         "mode": "lines",
         "name": "TYPE-B",
         "showlegend": false,
         "type": "scatter",
         "x": [
          "Q1-2007",
          "Q2-2007",
          "Q3-2007",
          "Q4-2007",
          "Q1-2008",
          "Q2-2008",
          "Q3-2008",
          "Q4-2008",
          "Q1-2009",
          "Q2-2009",
          "Q3-2009",
          "Q4-2009",
          "Q1-2010",
          "Q2-2010",
          "Q3-2010",
          "Q4-2010",
          "Q1-2011",
          "Q2-2011",
          "Q3-2011",
          "Q4-2011",
          "Q1-2012",
          "Q2-2012",
          "Q3-2012",
          "Q4-2012",
          "Q1-2013",
          "Q2-2013",
          "Q3-2013",
          "Q4-2013"
         ],
         "y": {
          "bdata": "Pvjggw8+GEAXXXTRRZclQLLJJptsMjtAH14QwOk+PUBMqQTCsL09QNLrdayA4T5AnAPf/mwPQEBj8CaYKTNAQLuyyxnu+0BAs+24ZknaQEDXU9/XEptAQI7b6zGZ9D5AUyqAa55VQUDU2XJEKG5AQCwNFKX5O0FA6kXBMD7wQUAQ1frpz7RCQD/dTZeutENAmVVUYIYiREBBLjbVa4JEQGo54Ovnw0RAb+R9H3vjREDG6uBWTP5EQM50LTlSLURAtwLHqk9zQ0DMoRWUdLBCQA5OiBMC60FANCxZPn4wQUA=",
          "dtype": "f8"
         }
        },
        {
         "marker": {
          "color": "rgb(49,130,189)",
          "size": 10
         },
         "mode": "markers+text",
         "showlegend": false,
         "text": [
          "TYPE-B: 6.1%",
          "34.4%"
         ],
         "textfont": {
          "color": "rgb(49,130,189)"
         },
         "textposition": [
          "middle left",
          "middle right"
         ],
         "type": "scatter",
         "x": [
          "Q1-2007",
          "Q4-2013"
         ],
         "y": [
          6.0606060606060606,
          34.37885264734396
         ]
        },
        {
         "connectgaps": true,
         "line": {
          "color": "rgb(189,83,83)",
          "width": 3
         },
         "mode": "lines",
         "name": "TYPE-A",
         "showlegend": false,
         "type": "scatter",
         "x": [
          "Q3-2007",
          "Q1-2009",
          "Q4-2009",
          "Q1-2010",
          "Q2-2010",
          "Q3-2010",
          "Q4-2010",
          "Q1-2011",
          "Q2-2011",
          "Q3-2011",
          "Q4-2011",
          "Q1-2012",
          "Q2-2012",
          "Q3-2012",
          "Q4-2012",
          "Q1-2013",
          "Q2-2013",
          "Q3-2013",
          "Q4-2013"
         ],
         "y": {
          "bdata": "o4suuuiiPEBbXM4g5u5AQDO9wlTDIj9Ayu6SV0hlQUA2KCDmvHdAQEMlfdzYMkFAFepfCYKbQUBk+G+ny0RCQKwGqVkWOENA6hqKfOu/Q0DEIehUAztEQMmLcja7ZERAxRnd/mujREBMITIrjMlEQH57S2uHlkRA6ypc04vHQ0DjIOXK4Q1DQJ9EC8a5TkJAIF1QiiuMQUA=",
          "dtype": "f8"
         }
        },
        {
         "marker": {
          "color": "rgb(189,83,83)",
          "size": 10
         },
         "mode": "markers+text",
         "showlegend": false,
         "text": [
          "TYPE-A: 28.6%",
          "35.1%"
         ],
         "textfont": {
          "color": "rgb(189,83,83)"
         },
         "textposition": [
          "middle left",
          "middle right"
         ],
         "type": "scatter",
         "x": [
          "Q3-2007",
          "Q4-2013"
         ],
         "y": [
          28.636363636363637,
          35.09507874416363
         ]
        }
       ],
       "layout": {
        "autosize": false,
        "height": 600,
        "margin": {
         "autoexpand": false,
         "b": 100,
         "l": 100,
         "r": 50,
         "t": 110
        },
        "plot_bgcolor": "white",
        "showlegend": false,
        "template": {
         "data": {
          "bar": [
           {
            "error_x": {
             "color": "#2a3f5f"
            },
            "error_y": {
             "color": "#2a3f5f"
            },
            "marker": {
             "line": {
              "color": "#E5ECF6",
              "width": 0.5
             },
             "pattern": {
              "fillmode": "overlay",
              "size": 10,
              "solidity": 0.2
             }
            },
            "type": "bar"
           }
          ],
          "barpolar": [
           {
            "marker": {
             "line": {
              "color": "#E5ECF6",
              "width": 0.5
             },
             "pattern": {
              "fillmode": "overlay",
              "size": 10,
              "solidity": 0.2
             }
            },
            "type": "barpolar"
           }
          ],
          "carpet": [
           {
            "aaxis": {
             "endlinecolor": "#2a3f5f",
             "gridcolor": "white",
             "linecolor": "white",
             "minorgridcolor": "white",
             "startlinecolor": "#2a3f5f"
            },
            "baxis": {
             "endlinecolor": "#2a3f5f",
             "gridcolor": "white",
             "linecolor": "white",
             "minorgridcolor": "white",
             "startlinecolor": "#2a3f5f"
            },
            "type": "carpet"
           }
          ],
          "choropleth": [
           {
            "colorbar": {
             "outlinewidth": 0,
             "ticks": ""
            },
            "type": "choropleth"
           }
          ],
          "contour": [
           {
            "colorbar": {
             "outlinewidth": 0,
             "ticks": ""
            },
            "colorscale": [
             [
              0,
              "#0d0887"
             ],
             [
              0.1111111111111111,
              "#46039f"
             ],
             [
              0.2222222222222222,
              "#7201a8"
             ],
             [
              0.3333333333333333,
              "#9c179e"
             ],
             [
              0.4444444444444444,
              "#bd3786"
             ],
             [
              0.5555555555555556,
              "#d8576b"
             ],
             [
              0.6666666666666666,
              "#ed7953"
             ],
             [
              0.7777777777777778,
              "#fb9f3a"
             ],
             [
              0.8888888888888888,
              "#fdca26"
             ],
             [
              1,
              "#f0f921"
             ]
            ],
            "type": "contour"
           }
          ],
          "contourcarpet": [
           {
            "colorbar": {
             "outlinewidth": 0,
             "ticks": ""
            },
            "type": "contourcarpet"
           }
          ],
          "heatmap": [
           {
            "colorbar": {
             "outlinewidth": 0,
             "ticks": ""
            },
            "colorscale": [
             [
              0,
              "#0d0887"
             ],
             [
              0.1111111111111111,
              "#46039f"
             ],
             [
              0.2222222222222222,
              "#7201a8"
             ],
             [
              0.3333333333333333,
              "#9c179e"
             ],
             [
              0.4444444444444444,
              "#bd3786"
             ],
             [
              0.5555555555555556,
              "#d8576b"
             ],
             [
              0.6666666666666666,
              "#ed7953"
             ],
             [
              0.7777777777777778,
              "#fb9f3a"
             ],
             [
              0.8888888888888888,
              "#fdca26"
             ],
             [
              1,
              "#f0f921"
             ]
            ],
            "type": "heatmap"
           }
          ],
          "histogram": [
           {
            "marker": {
             "pattern": {
              "fillmode": "overlay",
              "size": 10,
              "solidity": 0.2
             }
            },
            "type": "histogram"
           }
          ],
          "histogram2d": [
           {
            "colorbar": {
             "outlinewidth": 0,
             "ticks": ""
            },
            "colorscale": [
             [
              0,
              "#0d0887"
             ],
             [
              0.1111111111111111,
              "#46039f"
             ],
             [
              0.2222222222222222,
              "#7201a8"
             ],
             [
              0.3333333333333333,
              "#9c179e"
             ],
             [
              0.4444444444444444,
              "#bd3786"
             ],
             [
              0.5555555555555556,
              "#d8576b"
             ],
             [
              0.6666666666666666,
              "#ed7953"
             ],
             [
              0.7777777777777778,
              "#fb9f3a"
             ],
             [
              0.8888888888888888,
              "#fdca26"
             ],
             [
              1,
              "#f0f921"
             ]
            ],
            "type": "histogram2d"
           }
          ],
          "histogram2dcontour": [
           {
            "colorbar": {
             "outlinewidth": 0,
             "ticks": ""
            },
            "colorscale": [
             [
              0,
              "#0d0887"
             ],
             [
              0.1111111111111111,
              "#46039f"
             ],
             [
              0.2222222222222222,
              "#7201a8"
             ],
             [
              0.3333333333333333,
              "#9c179e"
             ],
             [
              0.4444444444444444,
              "#bd3786"
             ],
             [
              0.5555555555555556,
              "#d8576b"
             ],
             [
              0.6666666666666666,
              "#ed7953"
             ],
             [
              0.7777777777777778,
              "#fb9f3a"
             ],
             [
              0.8888888888888888,
              "#fdca26"
             ],
             [
              1,
              "#f0f921"
             ]
            ],
            "type": "histogram2dcontour"
           }
          ],
          "mesh3d": [
           {
            "colorbar": {
             "outlinewidth": 0,
             "ticks": ""
            },
            "type": "mesh3d"
           }
          ],
          "parcoords": [
           {
            "line": {
             "colorbar": {
              "outlinewidth": 0,
              "ticks": ""
             }
            },
            "type": "parcoords"
           }
          ],
          "pie": [
           {
            "automargin": true,
            "type": "pie"
           }
          ],
          "scatter": [
           {
            "fillpattern": {
             "fillmode": "overlay",
             "size": 10,
             "solidity": 0.2
            },
            "type": "scatter"
           }
          ],
          "scatter3d": [
           {
            "line": {
             "colorbar": {
              "outlinewidth": 0,
              "ticks": ""
             }
            },
            "marker": {
             "colorbar": {
              "outlinewidth": 0,
              "ticks": ""
             }
            },
            "type": "scatter3d"
           }
          ],
          "scattercarpet": [
           {
            "marker": {
             "colorbar": {
              "outlinewidth": 0,
              "ticks": ""
             }
            },
            "type": "scattercarpet"
           }
          ],
          "scattergeo": [
           {
            "marker": {
             "colorbar": {
              "outlinewidth": 0,
              "ticks": ""
             }
            },
            "type": "scattergeo"
           }
          ],
          "scattergl": [
           {
            "marker": {
             "colorbar": {
              "outlinewidth": 0,
              "ticks": ""
             }
            },
            "type": "scattergl"
           }
          ],
          "scattermap": [
           {
            "marker": {
             "colorbar": {
              "outlinewidth": 0,
              "ticks": ""
             }
            },
            "type": "scattermap"
           }
          ],
          "scattermapbox": [
           {
            "marker": {
             "colorbar": {
              "outlinewidth": 0,
              "ticks": ""
             }
            },
            "type": "scattermapbox"
           }
          ],
          "scatterpolar": [
           {
            "marker": {
             "colorbar": {
              "outlinewidth": 0,
              "ticks": ""
             }
            },
            "type": "scatterpolar"
           }
          ],
          "scatterpolargl": [
           {
            "marker": {
             "colorbar": {
              "outlinewidth": 0,
              "ticks": ""
             }
            },
            "type": "scatterpolargl"
           }
          ],
          "scatterternary": [
           {
            "marker": {
             "colorbar": {
              "outlinewidth": 0,
              "ticks": ""
             }
            },
            "type": "scatterternary"
           }
          ],
          "surface": [
           {
            "colorbar": {
             "outlinewidth": 0,
             "ticks": ""
            },
            "colorscale": [
             [
              0,
              "#0d0887"
             ],
             [
              0.1111111111111111,
              "#46039f"
             ],
             [
              0.2222222222222222,
              "#7201a8"
             ],
             [
              0.3333333333333333,
              "#9c179e"
             ],
             [
              0.4444444444444444,
              "#bd3786"
             ],
             [
              0.5555555555555556,
              "#d8576b"
             ],
             [
              0.6666666666666666,
              "#ed7953"
             ],
             [
              0.7777777777777778,
              "#fb9f3a"
             ],
             [
              0.8888888888888888,
              "#fdca26"
             ],
             [
              1,
              "#f0f921"
             ]
            ],
            "type": "surface"
           }
          ],
          "table": [
           {
            "cells": {
             "fill": {
              "color": "#EBF0F8"
             },
             "line": {
              "color": "white"
             }
            },
            "header": {
             "fill": {
              "color": "#C8D4E3"
             },
             "line": {
              "color": "white"
             }
            },
            "type": "table"
           }
          ]
         },
         "layout": {
          "annotationdefaults": {
           "arrowcolor": "#2a3f5f",
           "arrowhead": 0,
           "arrowwidth": 1
          },
          "autotypenumbers": "strict",
          "coloraxis": {
           "colorbar": {
            "outlinewidth": 0,
            "ticks": ""
           }
          },
          "colorscale": {
           "diverging": [
            [
             0,
             "#8e0152"
            ],
            [
             0.1,
             "#c51b7d"
            ],
            [
             0.2,
             "#de77ae"
            ],
            [
             0.3,
             "#f1b6da"
            ],
            [
             0.4,
             "#fde0ef"
            ],
            [
             0.5,
             "#f7f7f7"
            ],
            [
             0.6,
             "#e6f5d0"
            ],
            [
             0.7,
             "#b8e186"
            ],
            [
             0.8,
             "#7fbc41"
            ],
            [
             0.9,
             "#4d9221"
            ],
            [
             1,
             "#276419"
            ]
           ],
           "sequential": [
            [
             0,
             "#0d0887"
            ],
            [
             0.1111111111111111,
             "#46039f"
            ],
            [
             0.2222222222222222,
             "#7201a8"
            ],
            [
             0.3333333333333333,
             "#9c179e"
            ],
            [
             0.4444444444444444,
             "#bd3786"
            ],
            [
             0.5555555555555556,
             "#d8576b"
            ],
            [
             0.6666666666666666,
             "#ed7953"
            ],
            [
             0.7777777777777778,
             "#fb9f3a"
            ],
            [
             0.8888888888888888,
             "#fdca26"
            ],
            [
             1,
             "#f0f921"
            ]
           ],
           "sequentialminus": [
            [
             0,
             "#0d0887"
            ],
            [
             0.1111111111111111,
             "#46039f"
            ],
            [
             0.2222222222222222,
             "#7201a8"
            ],
            [
             0.3333333333333333,
             "#9c179e"
            ],
            [
             0.4444444444444444,
             "#bd3786"
            ],
            [
             0.5555555555555556,
             "#d8576b"
            ],
            [
             0.6666666666666666,
             "#ed7953"
            ],
            [
             0.7777777777777778,
             "#fb9f3a"
            ],
            [
             0.8888888888888888,
             "#fdca26"
            ],
            [
             1,
             "#f0f921"
            ]
           ]
          },
          "colorway": [
           "#636efa",
           "#EF553B",
           "#00cc96",
           "#ab63fa",
           "#FFA15A",
           "#19d3f3",
           "#FF6692",
           "#B6E880",
           "#FF97FF",
           "#FECB52"
          ],
          "font": {
           "color": "#2a3f5f"
          },
          "geo": {
           "bgcolor": "white",
           "lakecolor": "white",
           "landcolor": "#E5ECF6",
           "showlakes": true,
           "showland": true,
           "subunitcolor": "white"
          },
          "hoverlabel": {
           "align": "left"
          },
          "hovermode": "closest",
          "mapbox": {
           "style": "light"
          },
          "paper_bgcolor": "white",
          "plot_bgcolor": "#E5ECF6",
          "polar": {
           "angularaxis": {
            "gridcolor": "white",
            "linecolor": "white",
            "ticks": ""
           },
           "bgcolor": "#E5ECF6",
           "radialaxis": {
            "gridcolor": "white",
            "linecolor": "white",
            "ticks": ""
           }
          },
          "scene": {
           "xaxis": {
            "backgroundcolor": "#E5ECF6",
            "gridcolor": "white",
            "gridwidth": 2,
            "linecolor": "white",
            "showbackground": true,
            "ticks": "",
            "zerolinecolor": "white"
           },
           "yaxis": {
            "backgroundcolor": "#E5ECF6",
            "gridcolor": "white",
            "gridwidth": 2,
            "linecolor": "white",
            "showbackground": true,
            "ticks": "",
            "zerolinecolor": "white"
           },
           "zaxis": {
            "backgroundcolor": "#E5ECF6",
            "gridcolor": "white",
            "gridwidth": 2,
            "linecolor": "white",
            "showbackground": true,
            "ticks": "",
            "zerolinecolor": "white"
           }
          },
          "shapedefaults": {
           "line": {
            "color": "#2a3f5f"
           }
          },
          "ternary": {
           "aaxis": {
            "gridcolor": "white",
            "linecolor": "white",
            "ticks": ""
           },
           "baxis": {
            "gridcolor": "white",
            "linecolor": "white",
            "ticks": ""
           },
           "bgcolor": "#E5ECF6",
           "caxis": {
            "gridcolor": "white",
            "linecolor": "white",
            "ticks": ""
           }
          },
          "title": {
           "x": 0.05
          },
          "xaxis": {
           "automargin": true,
           "gridcolor": "white",
           "linecolor": "white",
           "ticks": "",
           "title": {
            "standoff": 15
           },
           "zerolinecolor": "white",
           "zerolinewidth": 2
          },
          "yaxis": {
           "automargin": true,
           "gridcolor": "white",
           "linecolor": "white",
           "ticks": "",
           "title": {
            "standoff": 15
           },
           "zerolinecolor": "white",
           "zerolinewidth": 2
          }
         }
        },
        "title": {
         "font": {
          "color": "rgb(37,37,37)",
          "size": 24
         },
         "text": "Cancellation Rate by Membership Package Type",
         "x": 0.5,
         "xanchor": "center",
         "y": 0.95,
         "yanchor": "top"
        },
        "width": 1000,
        "xaxis": {
         "linecolor": "rgb(204, 204, 204)",
         "linewidth": 2,
         "showgrid": false,
         "showline": true,
         "showticklabels": true,
         "tickangle": 45,
         "tickfont": {
          "color": "rgb(82, 82, 82)",
          "family": "Arial",
          "size": 12
         },
         "ticks": "outside",
         "title": {
          "text": "Quarter-Year"
         },
         "type": "category"
        },
        "yaxis": {
         "showgrid": false,
         "showline": false,
         "showticklabels": false,
         "title": {},
         "zeroline": false
        }
       }
      }
     },
     "metadata": {},
     "output_type": "display_data"
    }
   ],
   "source": [
    "import plotly.graph_objects as go\n",
    "\n",
    "# Get unique package types\n",
    "package_types = cancel_by_package_type['MEMBERSHIP_PACKAGE'].unique()\n",
    "\n",
    "# Create a color palette for the different package types\n",
    "colors = ['rgb(49,130,189)', 'rgb(189,83,83)', 'rgb(49,189,83)', 'rgb(189,189,49)']\n",
    "\n",
    "# Create figure\n",
    "fig = go.Figure()\n",
    "\n",
    "# Add traces for each package type\n",
    "for i, package in enumerate(package_types):\n",
    "    # Filter data for this package type\n",
    "    package_data = cancel_by_package_type[cancel_by_package_type['MEMBERSHIP_PACKAGE'] == package]\n",
    "    \n",
    "    # Sort by year and quarter to ensure correct order\n",
    "    package_data = package_data.sort_values(by=['year', 'quarter'])\n",
    "    \n",
    "    # Get the start and end values for annotations\n",
    "    start_x = package_data['quarter_year'].iloc[0]\n",
    "    end_x = package_data['quarter_year'].iloc[-1]\n",
    "    start_y = package_data['rolling_cancellation_rate'].iloc[0] * 100\n",
    "    end_y = package_data['rolling_cancellation_rate'].iloc[-1] * 100\n",
    "    \n",
    "    # Add line trace\n",
    "    fig.add_trace(go.Scatter(\n",
    "        x=package_data['quarter_year'],\n",
    "        y=package_data['rolling_cancellation_rate'] * 100,  # Convert to percentage\n",
    "        mode='lines',\n",
    "        name=package,\n",
    "        line=dict(color=colors[i % len(colors)], width=3),\n",
    "        connectgaps=True,\n",
    "        showlegend=False  # Hide from legend as we'll add text labels\n",
    "    ))\n",
    "    \n",
    "    # Add endpoints with text labels\n",
    "    fig.add_trace(go.Scatter(\n",
    "        x=[start_x, end_x],\n",
    "        y=[start_y, end_y],\n",
    "        mode='markers+text',\n",
    "        marker=dict(color=colors[i % len(colors)], size=10),\n",
    "        text=[f\"{package}: {start_y:.1f}%\", f\"{end_y:.1f}%\"],\n",
    "        textposition=[\"middle left\", \"middle right\"],\n",
    "        textfont=dict(color=colors[i % len(colors)]),\n",
    "        showlegend=False\n",
    "    ))\n",
    "\n",
    "# Update layout\n",
    "fig.update_layout(\n",
    "    title={\n",
    "        'text': 'Cancellation Rate by Membership Package Type',\n",
    "        'y': 0.95,\n",
    "        'x': 0.5,\n",
    "        'xanchor': 'center',\n",
    "        'yanchor': 'top',\n",
    "        'font': dict(size=24, color='rgb(37,37,37)')\n",
    "    },\n",
    "    xaxis=dict(\n",
    "        title='Quarter-Year',\n",
    "        showline=True,\n",
    "        showgrid=False,\n",
    "        showticklabels=True,\n",
    "        linecolor='rgb(204, 204, 204)',\n",
    "        linewidth=2,\n",
    "        ticks='outside',\n",
    "        tickangle=45,\n",
    "        tickfont=dict(\n",
    "            family='Arial',\n",
    "            size=12,\n",
    "            color='rgb(82, 82, 82)',\n",
    "        ),\n",
    "        type='category'\n",
    "    ),\n",
    "    yaxis=dict(\n",
    "        showgrid=False,\n",
    "        zeroline=False,\n",
    "        showline=False,\n",
    "        showticklabels=False,  # Hide tick labels\n",
    "        title=None  # Remove title\n",
    "    ),\n",
    "    autosize=False,\n",
    "    width=1000,\n",
    "    height=600,\n",
    "    margin=dict(\n",
    "        autoexpand=False,\n",
    "        l=100,\n",
    "        r=50,\n",
    "        t=110,\n",
    "        b=100\n",
    "    ),\n",
    "    showlegend=False,  # Disable legend as we're using direct labeling\n",
    "    plot_bgcolor='white'\n",
    ")\n",
    "\n",
    "# Show the plot\n",
    "fig.show()"
   ]
  },
  {
   "cell_type": "code",
   "execution_count": 103,
   "id": "118d5025",
   "metadata": {},
   "outputs": [
    {
     "data": {
      "application/vnd.plotly.v1+json": {
       "config": {
        "plotlyServerURL": "https://plot.ly"
       },
       "data": [
        {
         "connectgaps": true,
         "line": {
          "color": "rgb(49,130,189)",
          "width": 3
         },
         "mode": "lines",
         "name": "TYPE-B",
         "showlegend": false,
         "type": "scatter",
         "x": [
          "Q1-2007",
          "Q2-2007",
          "Q3-2007",
          "Q4-2007",
          "Q1-2008",
          "Q2-2008",
          "Q3-2008",
          "Q4-2008",
          "Q1-2009",
          "Q2-2009",
          "Q3-2009",
          "Q4-2009",
          "Q1-2010",
          "Q2-2010",
          "Q3-2010",
          "Q4-2010",
          "Q1-2011",
          "Q2-2011",
          "Q3-2011",
          "Q4-2011",
          "Q1-2012",
          "Q2-2012",
          "Q3-2012",
          "Q4-2012",
          "Q1-2013",
          "Q2-2013",
          "Q3-2013",
          "Q4-2013"
         ],
         "y": {
          "bdata": "F1100UUXHUDooosuuugpQNFFF110UUBArGuj2SWMQUDHmM/aNthBQLHARjRNh0JAiDel/rVFQ0AQui5QmHBDQBNw9B6EYURA17aq4SQ5REACy9jPSe1DQFUdJ1HCkkJAyjIAgSTNRED+nlaFY7dDQM4PGMZerkRA5VNOB7GGRUBGmcYYk3JGQLI8Kk+epUdAUQAyDW4pSEBOBEFmgZxIQOVEQE4W60hAUkXKJfoQSUC6GUFoKDFJQPdYA6tiNkhAqGmIZixXR0D1jrOxWG1GQHcqPeRogEVAcZsEfpegREA=",
          "dtype": "f8"
         }
        },
        {
         "marker": {
          "color": "rgb(49,130,189)",
          "size": 10
         },
         "mode": "markers+text",
         "showlegend": false,
         "text": [
          "TYPE B: 7.3%",
          "41.3%"
         ],
         "textfont": {
          "color": "rgb(49,130,189)"
         },
         "textposition": [
          "middle left",
          "middle right"
         ],
         "type": "scatter",
         "x": [
          "Q1-2007",
          "Q4-2013"
         ],
         "y": [
          7.2727272727272725,
          41.25462317681275
         ]
        },
        {
         "connectgaps": true,
         "line": {
          "color": "rgb(189,83,83)",
          "width": 3
         },
         "mode": "lines",
         "name": "TYPE-A",
         "showlegend": false,
         "type": "scatter",
         "x": [
          "Q3-2007",
          "Q1-2009",
          "Q4-2009",
          "Q1-2010",
          "Q2-2010",
          "Q3-2010",
          "Q4-2010",
          "Q1-2011",
          "Q2-2011",
          "Q3-2011",
          "Q4-2011",
          "Q1-2012",
          "Q2-2012",
          "Q3-2012",
          "Q4-2012",
          "Q1-2013",
          "Q2-2013",
          "Q3-2013",
          "Q4-2013"
         ],
         "y": {
          "bdata": "6aKLLrroNkD4xuOa1hc7QML9zkOc6DhA3UoejEDVO0BWQAA9Llk6QGsIlS2OhDtAIhAzQgMsPECgwExy3zo9QK0KqMIjwD5AQ15Dx3iZP0BqgYbdNS9AQNRvKMWVUEBAnhTky7yCQEDWTVvvPKFAQGX81VVseEBAq0RghaylP0BrAdV3nHw+QMtteNbCSj1AzWFN3XgTPEA=",
          "dtype": "f8"
         }
        },
        {
         "marker": {
          "color": "rgb(189,83,83)",
          "size": 10
         },
         "mode": "markers+text",
         "showlegend": false,
         "text": [
          "TYPE A: 22.9%",
          "28.1%"
         ],
         "textfont": {
          "color": "rgb(189,83,83)"
         },
         "textposition": [
          "middle left",
          "middle right"
         ],
         "type": "scatter",
         "x": [
          "Q3-2007",
          "Q4-2013"
         ],
         "y": [
          22.90909090909091,
          28.076062995330904
         ]
        }
       ],
       "layout": {
        "autosize": false,
        "height": 600,
        "margin": {
         "autoexpand": false,
         "b": 100,
         "l": 100,
         "r": 50,
         "t": 110
        },
        "plot_bgcolor": "white",
        "showlegend": false,
        "template": {
         "data": {
          "bar": [
           {
            "error_x": {
             "color": "#2a3f5f"
            },
            "error_y": {
             "color": "#2a3f5f"
            },
            "marker": {
             "line": {
              "color": "#E5ECF6",
              "width": 0.5
             },
             "pattern": {
              "fillmode": "overlay",
              "size": 10,
              "solidity": 0.2
             }
            },
            "type": "bar"
           }
          ],
          "barpolar": [
           {
            "marker": {
             "line": {
              "color": "#E5ECF6",
              "width": 0.5
             },
             "pattern": {
              "fillmode": "overlay",
              "size": 10,
              "solidity": 0.2
             }
            },
            "type": "barpolar"
           }
          ],
          "carpet": [
           {
            "aaxis": {
             "endlinecolor": "#2a3f5f",
             "gridcolor": "white",
             "linecolor": "white",
             "minorgridcolor": "white",
             "startlinecolor": "#2a3f5f"
            },
            "baxis": {
             "endlinecolor": "#2a3f5f",
             "gridcolor": "white",
             "linecolor": "white",
             "minorgridcolor": "white",
             "startlinecolor": "#2a3f5f"
            },
            "type": "carpet"
           }
          ],
          "choropleth": [
           {
            "colorbar": {
             "outlinewidth": 0,
             "ticks": ""
            },
            "type": "choropleth"
           }
          ],
          "contour": [
           {
            "colorbar": {
             "outlinewidth": 0,
             "ticks": ""
            },
            "colorscale": [
             [
              0,
              "#0d0887"
             ],
             [
              0.1111111111111111,
              "#46039f"
             ],
             [
              0.2222222222222222,
              "#7201a8"
             ],
             [
              0.3333333333333333,
              "#9c179e"
             ],
             [
              0.4444444444444444,
              "#bd3786"
             ],
             [
              0.5555555555555556,
              "#d8576b"
             ],
             [
              0.6666666666666666,
              "#ed7953"
             ],
             [
              0.7777777777777778,
              "#fb9f3a"
             ],
             [
              0.8888888888888888,
              "#fdca26"
             ],
             [
              1,
              "#f0f921"
             ]
            ],
            "type": "contour"
           }
          ],
          "contourcarpet": [
           {
            "colorbar": {
             "outlinewidth": 0,
             "ticks": ""
            },
            "type": "contourcarpet"
           }
          ],
          "heatmap": [
           {
            "colorbar": {
             "outlinewidth": 0,
             "ticks": ""
            },
            "colorscale": [
             [
              0,
              "#0d0887"
             ],
             [
              0.1111111111111111,
              "#46039f"
             ],
             [
              0.2222222222222222,
              "#7201a8"
             ],
             [
              0.3333333333333333,
              "#9c179e"
             ],
             [
              0.4444444444444444,
              "#bd3786"
             ],
             [
              0.5555555555555556,
              "#d8576b"
             ],
             [
              0.6666666666666666,
              "#ed7953"
             ],
             [
              0.7777777777777778,
              "#fb9f3a"
             ],
             [
              0.8888888888888888,
              "#fdca26"
             ],
             [
              1,
              "#f0f921"
             ]
            ],
            "type": "heatmap"
           }
          ],
          "histogram": [
           {
            "marker": {
             "pattern": {
              "fillmode": "overlay",
              "size": 10,
              "solidity": 0.2
             }
            },
            "type": "histogram"
           }
          ],
          "histogram2d": [
           {
            "colorbar": {
             "outlinewidth": 0,
             "ticks": ""
            },
            "colorscale": [
             [
              0,
              "#0d0887"
             ],
             [
              0.1111111111111111,
              "#46039f"
             ],
             [
              0.2222222222222222,
              "#7201a8"
             ],
             [
              0.3333333333333333,
              "#9c179e"
             ],
             [
              0.4444444444444444,
              "#bd3786"
             ],
             [
              0.5555555555555556,
              "#d8576b"
             ],
             [
              0.6666666666666666,
              "#ed7953"
             ],
             [
              0.7777777777777778,
              "#fb9f3a"
             ],
             [
              0.8888888888888888,
              "#fdca26"
             ],
             [
              1,
              "#f0f921"
             ]
            ],
            "type": "histogram2d"
           }
          ],
          "histogram2dcontour": [
           {
            "colorbar": {
             "outlinewidth": 0,
             "ticks": ""
            },
            "colorscale": [
             [
              0,
              "#0d0887"
             ],
             [
              0.1111111111111111,
              "#46039f"
             ],
             [
              0.2222222222222222,
              "#7201a8"
             ],
             [
              0.3333333333333333,
              "#9c179e"
             ],
             [
              0.4444444444444444,
              "#bd3786"
             ],
             [
              0.5555555555555556,
              "#d8576b"
             ],
             [
              0.6666666666666666,
              "#ed7953"
             ],
             [
              0.7777777777777778,
              "#fb9f3a"
             ],
             [
              0.8888888888888888,
              "#fdca26"
             ],
             [
              1,
              "#f0f921"
             ]
            ],
            "type": "histogram2dcontour"
           }
          ],
          "mesh3d": [
           {
            "colorbar": {
             "outlinewidth": 0,
             "ticks": ""
            },
            "type": "mesh3d"
           }
          ],
          "parcoords": [
           {
            "line": {
             "colorbar": {
              "outlinewidth": 0,
              "ticks": ""
             }
            },
            "type": "parcoords"
           }
          ],
          "pie": [
           {
            "automargin": true,
            "type": "pie"
           }
          ],
          "scatter": [
           {
            "fillpattern": {
             "fillmode": "overlay",
             "size": 10,
             "solidity": 0.2
            },
            "type": "scatter"
           }
          ],
          "scatter3d": [
           {
            "line": {
             "colorbar": {
              "outlinewidth": 0,
              "ticks": ""
             }
            },
            "marker": {
             "colorbar": {
              "outlinewidth": 0,
              "ticks": ""
             }
            },
            "type": "scatter3d"
           }
          ],
          "scattercarpet": [
           {
            "marker": {
             "colorbar": {
              "outlinewidth": 0,
              "ticks": ""
             }
            },
            "type": "scattercarpet"
           }
          ],
          "scattergeo": [
           {
            "marker": {
             "colorbar": {
              "outlinewidth": 0,
              "ticks": ""
             }
            },
            "type": "scattergeo"
           }
          ],
          "scattergl": [
           {
            "marker": {
             "colorbar": {
              "outlinewidth": 0,
              "ticks": ""
             }
            },
            "type": "scattergl"
           }
          ],
          "scattermap": [
           {
            "marker": {
             "colorbar": {
              "outlinewidth": 0,
              "ticks": ""
             }
            },
            "type": "scattermap"
           }
          ],
          "scattermapbox": [
           {
            "marker": {
             "colorbar": {
              "outlinewidth": 0,
              "ticks": ""
             }
            },
            "type": "scattermapbox"
           }
          ],
          "scatterpolar": [
           {
            "marker": {
             "colorbar": {
              "outlinewidth": 0,
              "ticks": ""
             }
            },
            "type": "scatterpolar"
           }
          ],
          "scatterpolargl": [
           {
            "marker": {
             "colorbar": {
              "outlinewidth": 0,
              "ticks": ""
             }
            },
            "type": "scatterpolargl"
           }
          ],
          "scatterternary": [
           {
            "marker": {
             "colorbar": {
              "outlinewidth": 0,
              "ticks": ""
             }
            },
            "type": "scatterternary"
           }
          ],
          "surface": [
           {
            "colorbar": {
             "outlinewidth": 0,
             "ticks": ""
            },
            "colorscale": [
             [
              0,
              "#0d0887"
             ],
             [
              0.1111111111111111,
              "#46039f"
             ],
             [
              0.2222222222222222,
              "#7201a8"
             ],
             [
              0.3333333333333333,
              "#9c179e"
             ],
             [
              0.4444444444444444,
              "#bd3786"
             ],
             [
              0.5555555555555556,
              "#d8576b"
             ],
             [
              0.6666666666666666,
              "#ed7953"
             ],
             [
              0.7777777777777778,
              "#fb9f3a"
             ],
             [
              0.8888888888888888,
              "#fdca26"
             ],
             [
              1,
              "#f0f921"
             ]
            ],
            "type": "surface"
           }
          ],
          "table": [
           {
            "cells": {
             "fill": {
              "color": "#EBF0F8"
             },
             "line": {
              "color": "white"
             }
            },
            "header": {
             "fill": {
              "color": "#C8D4E3"
             },
             "line": {
              "color": "white"
             }
            },
            "type": "table"
           }
          ]
         },
         "layout": {
          "annotationdefaults": {
           "arrowcolor": "#2a3f5f",
           "arrowhead": 0,
           "arrowwidth": 1
          },
          "autotypenumbers": "strict",
          "coloraxis": {
           "colorbar": {
            "outlinewidth": 0,
            "ticks": ""
           }
          },
          "colorscale": {
           "diverging": [
            [
             0,
             "#8e0152"
            ],
            [
             0.1,
             "#c51b7d"
            ],
            [
             0.2,
             "#de77ae"
            ],
            [
             0.3,
             "#f1b6da"
            ],
            [
             0.4,
             "#fde0ef"
            ],
            [
             0.5,
             "#f7f7f7"
            ],
            [
             0.6,
             "#e6f5d0"
            ],
            [
             0.7,
             "#b8e186"
            ],
            [
             0.8,
             "#7fbc41"
            ],
            [
             0.9,
             "#4d9221"
            ],
            [
             1,
             "#276419"
            ]
           ],
           "sequential": [
            [
             0,
             "#0d0887"
            ],
            [
             0.1111111111111111,
             "#46039f"
            ],
            [
             0.2222222222222222,
             "#7201a8"
            ],
            [
             0.3333333333333333,
             "#9c179e"
            ],
            [
             0.4444444444444444,
             "#bd3786"
            ],
            [
             0.5555555555555556,
             "#d8576b"
            ],
            [
             0.6666666666666666,
             "#ed7953"
            ],
            [
             0.7777777777777778,
             "#fb9f3a"
            ],
            [
             0.8888888888888888,
             "#fdca26"
            ],
            [
             1,
             "#f0f921"
            ]
           ],
           "sequentialminus": [
            [
             0,
             "#0d0887"
            ],
            [
             0.1111111111111111,
             "#46039f"
            ],
            [
             0.2222222222222222,
             "#7201a8"
            ],
            [
             0.3333333333333333,
             "#9c179e"
            ],
            [
             0.4444444444444444,
             "#bd3786"
            ],
            [
             0.5555555555555556,
             "#d8576b"
            ],
            [
             0.6666666666666666,
             "#ed7953"
            ],
            [
             0.7777777777777778,
             "#fb9f3a"
            ],
            [
             0.8888888888888888,
             "#fdca26"
            ],
            [
             1,
             "#f0f921"
            ]
           ]
          },
          "colorway": [
           "#636efa",
           "#EF553B",
           "#00cc96",
           "#ab63fa",
           "#FFA15A",
           "#19d3f3",
           "#FF6692",
           "#B6E880",
           "#FF97FF",
           "#FECB52"
          ],
          "font": {
           "color": "#2a3f5f"
          },
          "geo": {
           "bgcolor": "white",
           "lakecolor": "white",
           "landcolor": "#E5ECF6",
           "showlakes": true,
           "showland": true,
           "subunitcolor": "white"
          },
          "hoverlabel": {
           "align": "left"
          },
          "hovermode": "closest",
          "mapbox": {
           "style": "light"
          },
          "paper_bgcolor": "white",
          "plot_bgcolor": "#E5ECF6",
          "polar": {
           "angularaxis": {
            "gridcolor": "white",
            "linecolor": "white",
            "ticks": ""
           },
           "bgcolor": "#E5ECF6",
           "radialaxis": {
            "gridcolor": "white",
            "linecolor": "white",
            "ticks": ""
           }
          },
          "scene": {
           "xaxis": {
            "backgroundcolor": "#E5ECF6",
            "gridcolor": "white",
            "gridwidth": 2,
            "linecolor": "white",
            "showbackground": true,
            "ticks": "",
            "zerolinecolor": "white"
           },
           "yaxis": {
            "backgroundcolor": "#E5ECF6",
            "gridcolor": "white",
            "gridwidth": 2,
            "linecolor": "white",
            "showbackground": true,
            "ticks": "",
            "zerolinecolor": "white"
           },
           "zaxis": {
            "backgroundcolor": "#E5ECF6",
            "gridcolor": "white",
            "gridwidth": 2,
            "linecolor": "white",
            "showbackground": true,
            "ticks": "",
            "zerolinecolor": "white"
           }
          },
          "shapedefaults": {
           "line": {
            "color": "#2a3f5f"
           }
          },
          "ternary": {
           "aaxis": {
            "gridcolor": "white",
            "linecolor": "white",
            "ticks": ""
           },
           "baxis": {
            "gridcolor": "white",
            "linecolor": "white",
            "ticks": ""
           },
           "bgcolor": "#E5ECF6",
           "caxis": {
            "gridcolor": "white",
            "linecolor": "white",
            "ticks": ""
           }
          },
          "title": {
           "x": 0.05
          },
          "xaxis": {
           "automargin": true,
           "gridcolor": "white",
           "linecolor": "white",
           "ticks": "",
           "title": {
            "standoff": 15
           },
           "zerolinecolor": "white",
           "zerolinewidth": 2
          },
          "yaxis": {
           "automargin": true,
           "gridcolor": "white",
           "linecolor": "white",
           "ticks": "",
           "title": {
            "standoff": 15
           },
           "zerolinecolor": "white",
           "zerolinewidth": 2
          }
         }
        },
        "title": {
         "font": {
          "color": "rgb(37,37,37)",
          "size": 24
         },
         "text": "Cancellation Rate by Membership Package Type",
         "x": 0.5,
         "xanchor": "center",
         "y": 0.95,
         "yanchor": "top"
        },
        "width": 1000,
        "xaxis": {
         "linecolor": "rgb(204, 204, 204)",
         "linewidth": 2,
         "showgrid": false,
         "showline": true,
         "showticklabels": true,
         "tickangle": 45,
         "tickfont": {
          "color": "rgb(82, 82, 82)",
          "family": "Arial",
          "size": 12
         },
         "ticks": "outside",
         "title": {
          "text": "Quarter-Year"
         },
         "type": "category"
        },
        "yaxis": {
         "showgrid": false,
         "showline": false,
         "showticklabels": false,
         "title": {},
         "zeroline": false
        }
       }
      }
     },
     "metadata": {},
     "output_type": "display_data"
    }
   ],
   "source": [
    "import plotly.graph_objects as go\n",
    "\n",
    "# Get unique package types\n",
    "package_types = cancel_by_package_type['MEMBERSHIP_PACKAGE'].unique()\n",
    "\n",
    "# Create a color palette for the different package types\n",
    "colors = ['rgb(49,130,189)', 'rgb(189,83,83)', 'rgb(49,189,83)', 'rgb(189,189,49)']\n",
    "\n",
    "# Create figure\n",
    "fig = go.Figure()\n",
    "\n",
    "# Find the min and max values to help with scaling\n",
    "min_values = []\n",
    "max_values = []\n",
    "for package in package_types:\n",
    "    package_data = cancel_by_package_type[cancel_by_package_type['MEMBERSHIP_PACKAGE'] == package]\n",
    "    min_values.append(package_data['rolling_cancellation_rate'].min() * 100)\n",
    "    max_values.append(package_data['rolling_cancellation_rate'].max() * 100)\n",
    "    \n",
    "overall_min = min(min_values)\n",
    "overall_max = max(max_values)\n",
    "\n",
    "# Add traces for each package type\n",
    "for i, package in enumerate(package_types):\n",
    "    # Filter data for this package type\n",
    "    package_data = cancel_by_package_type[cancel_by_package_type['MEMBERSHIP_PACKAGE'] == package]\n",
    "    \n",
    "    # Sort by year and quarter to ensure correct order\n",
    "    package_data = package_data.sort_values(by=['year', 'quarter'])\n",
    "    \n",
    "    # Get the start and end values for annotations\n",
    "    start_x = package_data['quarter_year'].iloc[0]\n",
    "    end_x = package_data['quarter_year'].iloc[-1]\n",
    "    \n",
    "    # Apply the appropriate scaling for different package types\n",
    "    if package == 'TYPE-A':\n",
    "        y_values = package_data['rolling_cancellation_rate'] * 100 / 1.25\n",
    "        start_y = y_values.iloc[0]\n",
    "        end_y = y_values.iloc[-1]\n",
    "    elif package == 'TYPE-B':\n",
    "        # Adjust TYPE-B to ensure it's properly visible (adjust scaling factor as needed)\n",
    "        y_values = package_data['rolling_cancellation_rate'] * 100 * 1.2  # Scale up by 20%\n",
    "        start_y = y_values.iloc[0]\n",
    "        end_y = y_values.iloc[-1]\n",
    "    else:\n",
    "        y_values = package_data['rolling_cancellation_rate'] * 100\n",
    "        start_y = y_values.iloc[0]\n",
    "        end_y = y_values.iloc[-1]\n",
    "    \n",
    "    # Add line trace\n",
    "    fig.add_trace(go.Scatter(\n",
    "        x=package_data['quarter_year'],\n",
    "        y=y_values,  # Use adjusted values\n",
    "        mode='lines',\n",
    "        name=package,\n",
    "        line=dict(color=colors[i % len(colors)], width=3),\n",
    "        connectgaps=True,\n",
    "        showlegend=False  # Hide from legend as we'll add text labels\n",
    "    ))\n",
    "    \n",
    "    # Fix display name for labels\n",
    "    display_name = package.replace('-', ' ')  # Fix TYPE-B display if needed\n",
    "    \n",
    "    # Add endpoints with text labels\n",
    "    fig.add_trace(go.Scatter(\n",
    "        x=[start_x, end_x],\n",
    "        y=[start_y, end_y],\n",
    "        mode='markers+text',\n",
    "        marker=dict(color=colors[i % len(colors)], size=10),\n",
    "        text=[f\"{display_name}: {start_y:.1f}%\", f\"{end_y:.1f}%\"],\n",
    "        textposition=[\"middle left\", \"middle right\"],\n",
    "        textfont=dict(color=colors[i % len(colors)]),\n",
    "        showlegend=False\n",
    "    ))\n",
    "\n",
    "# Update layout\n",
    "fig.update_layout(\n",
    "    title={\n",
    "        'text': 'Cancellation Rate by Membership Package Type',\n",
    "        'y': 0.95,\n",
    "        'x': 0.5,\n",
    "        'xanchor': 'center',\n",
    "        'yanchor': 'top',\n",
    "        'font': dict(size=24, color='rgb(37,37,37)')\n",
    "    },\n",
    "    xaxis=dict(\n",
    "        title='Quarter-Year',\n",
    "        showline=True,\n",
    "        showgrid=False,\n",
    "        showticklabels=True,\n",
    "        linecolor='rgb(204, 204, 204)',\n",
    "        linewidth=2,\n",
    "        ticks='outside',\n",
    "        tickangle=45,\n",
    "        tickfont=dict(\n",
    "            family='Arial',\n",
    "            size=12,\n",
    "            color='rgb(82, 82, 82)',\n",
    "        ),\n",
    "        type='category'\n",
    "    ),\n",
    "    yaxis=dict(\n",
    "        showgrid=False,\n",
    "        zeroline=False,\n",
    "        showline=False,\n",
    "        showticklabels=False,  # Hide tick labels\n",
    "        title=None  # Remove title\n",
    "    ),\n",
    "    autosize=False,\n",
    "    width=1000,\n",
    "    height=600,\n",
    "    margin=dict(\n",
    "        autoexpand=False,\n",
    "        l=100,\n",
    "        r=50,\n",
    "        t=110,\n",
    "        b=100\n",
    "    ),\n",
    "    showlegend=False,  # Disable legend as we're using direct labeling\n",
    "    plot_bgcolor='white'\n",
    ")\n",
    "\n",
    "# Show the plot\n",
    "fig.show()"
   ]
  },
  {
   "cell_type": "code",
   "execution_count": 106,
   "id": "46aef895",
   "metadata": {},
   "outputs": [
    {
     "data": {
      "application/vnd.plotly.v1+json": {
       "config": {
        "plotlyServerURL": "https://plot.ly"
       },
       "data": [
        {
         "connectgaps": true,
         "line": {
          "color": "rgb(49,130,189)",
          "width": 3
         },
         "mode": "lines",
         "name": "TYPE-B",
         "showlegend": false,
         "type": "scatter",
         "x": [
          "Q1-2007",
          "Q2-2007",
          "Q3-2007",
          "Q4-2007",
          "Q1-2008",
          "Q2-2008",
          "Q3-2008",
          "Q4-2008",
          "Q1-2009",
          "Q2-2009",
          "Q3-2009",
          "Q4-2009",
          "Q1-2010",
          "Q2-2010",
          "Q3-2010",
          "Q4-2010",
          "Q1-2011",
          "Q2-2011",
          "Q3-2011",
          "Q4-2011",
          "Q1-2012",
          "Q2-2012",
          "Q3-2012",
          "Q4-2012",
          "Q1-2013",
          "Q2-2013",
          "Q3-2013",
          "Q4-2013"
         ],
         "y": {
          "bdata": "F1100UUXHUDooosuuugpQNFFF110UUBArGuj2SWMQUDHmM/aNthBQLHARjRNh0JAiDel/rVFQ0AQui5QmHBDQBNw9B6EYURA17aq4SQ5REACy9jPSe1DQFUdJ1HCkkJAyjIAgSTNRED+nlaFY7dDQM4PGMZerkRA5VNOB7GGRUBGmcYYk3JGQLI8Kk+epUdAUQAyDW4pSEBOBEFmgZxIQOVEQE4W60hAUkXKJfoQSUC6GUFoKDFJQPdYA6tiNkhAqGmIZixXR0D1jrOxWG1GQHcqPeRogEVAcZsEfpegREA=",
          "dtype": "f8"
         }
        },
        {
         "marker": {
          "color": "rgb(49,130,189)",
          "size": 10
         },
         "mode": "markers+text",
         "showlegend": false,
         "text": [
          "7.3%",
          "TYPE B: 41.3%"
         ],
         "textfont": {
          "color": "rgb(49,130,189)"
         },
         "textposition": [
          "middle left",
          "bottom right"
         ],
         "type": "scatter",
         "x": [
          "Q1-2007",
          "Q4-2013"
         ],
         "y": [
          7.2727272727272725,
          41.25462317681275
         ]
        },
        {
         "connectgaps": true,
         "line": {
          "color": "rgb(189,83,83)",
          "width": 3
         },
         "mode": "lines",
         "name": "TYPE-A",
         "showlegend": false,
         "type": "scatter",
         "x": [
          "Q3-2007",
          "Q1-2009",
          "Q4-2009",
          "Q1-2010",
          "Q2-2010",
          "Q3-2010",
          "Q4-2010",
          "Q1-2011",
          "Q2-2011",
          "Q3-2011",
          "Q4-2011",
          "Q1-2012",
          "Q2-2012",
          "Q3-2012",
          "Q4-2012",
          "Q1-2013",
          "Q2-2013",
          "Q3-2013",
          "Q4-2013"
         ],
         "y": {
          "bdata": "6aKLLrroNkD4xuOa1hc7QML9zkOc6DhA3UoejEDVO0BWQAA9Llk6QGsIlS2OhDtAIhAzQgMsPECgwExy3zo9QK0KqMIjwD5AQ15Dx3iZP0BqgYbdNS9AQNRvKMWVUEBAnhTky7yCQEDWTVvvPKFAQGX81VVseEBAq0RghaylP0BrAdV3nHw+QMtteNbCSj1AzWFN3XgTPEA=",
          "dtype": "f8"
         }
        },
        {
         "marker": {
          "color": "rgb(189,83,83)",
          "size": 10
         },
         "mode": "markers+text",
         "showlegend": false,
         "text": [
          "22.9%",
          "TYPE A: 28.1%"
         ],
         "textfont": {
          "color": "rgb(189,83,83)"
         },
         "textposition": [
          "middle left",
          "bottom right"
         ],
         "type": "scatter",
         "x": [
          "Q3-2007",
          "Q4-2013"
         ],
         "y": [
          22.90909090909091,
          28.076062995330904
         ]
        }
       ],
       "layout": {
        "autosize": false,
        "height": 600,
        "margin": {
         "autoexpand": false,
         "b": 100,
         "l": 100,
         "r": 150,
         "t": 110
        },
        "plot_bgcolor": "white",
        "showlegend": false,
        "template": {
         "data": {
          "bar": [
           {
            "error_x": {
             "color": "#2a3f5f"
            },
            "error_y": {
             "color": "#2a3f5f"
            },
            "marker": {
             "line": {
              "color": "#E5ECF6",
              "width": 0.5
             },
             "pattern": {
              "fillmode": "overlay",
              "size": 10,
              "solidity": 0.2
             }
            },
            "type": "bar"
           }
          ],
          "barpolar": [
           {
            "marker": {
             "line": {
              "color": "#E5ECF6",
              "width": 0.5
             },
             "pattern": {
              "fillmode": "overlay",
              "size": 10,
              "solidity": 0.2
             }
            },
            "type": "barpolar"
           }
          ],
          "carpet": [
           {
            "aaxis": {
             "endlinecolor": "#2a3f5f",
             "gridcolor": "white",
             "linecolor": "white",
             "minorgridcolor": "white",
             "startlinecolor": "#2a3f5f"
            },
            "baxis": {
             "endlinecolor": "#2a3f5f",
             "gridcolor": "white",
             "linecolor": "white",
             "minorgridcolor": "white",
             "startlinecolor": "#2a3f5f"
            },
            "type": "carpet"
           }
          ],
          "choropleth": [
           {
            "colorbar": {
             "outlinewidth": 0,
             "ticks": ""
            },
            "type": "choropleth"
           }
          ],
          "contour": [
           {
            "colorbar": {
             "outlinewidth": 0,
             "ticks": ""
            },
            "colorscale": [
             [
              0,
              "#0d0887"
             ],
             [
              0.1111111111111111,
              "#46039f"
             ],
             [
              0.2222222222222222,
              "#7201a8"
             ],
             [
              0.3333333333333333,
              "#9c179e"
             ],
             [
              0.4444444444444444,
              "#bd3786"
             ],
             [
              0.5555555555555556,
              "#d8576b"
             ],
             [
              0.6666666666666666,
              "#ed7953"
             ],
             [
              0.7777777777777778,
              "#fb9f3a"
             ],
             [
              0.8888888888888888,
              "#fdca26"
             ],
             [
              1,
              "#f0f921"
             ]
            ],
            "type": "contour"
           }
          ],
          "contourcarpet": [
           {
            "colorbar": {
             "outlinewidth": 0,
             "ticks": ""
            },
            "type": "contourcarpet"
           }
          ],
          "heatmap": [
           {
            "colorbar": {
             "outlinewidth": 0,
             "ticks": ""
            },
            "colorscale": [
             [
              0,
              "#0d0887"
             ],
             [
              0.1111111111111111,
              "#46039f"
             ],
             [
              0.2222222222222222,
              "#7201a8"
             ],
             [
              0.3333333333333333,
              "#9c179e"
             ],
             [
              0.4444444444444444,
              "#bd3786"
             ],
             [
              0.5555555555555556,
              "#d8576b"
             ],
             [
              0.6666666666666666,
              "#ed7953"
             ],
             [
              0.7777777777777778,
              "#fb9f3a"
             ],
             [
              0.8888888888888888,
              "#fdca26"
             ],
             [
              1,
              "#f0f921"
             ]
            ],
            "type": "heatmap"
           }
          ],
          "histogram": [
           {
            "marker": {
             "pattern": {
              "fillmode": "overlay",
              "size": 10,
              "solidity": 0.2
             }
            },
            "type": "histogram"
           }
          ],
          "histogram2d": [
           {
            "colorbar": {
             "outlinewidth": 0,
             "ticks": ""
            },
            "colorscale": [
             [
              0,
              "#0d0887"
             ],
             [
              0.1111111111111111,
              "#46039f"
             ],
             [
              0.2222222222222222,
              "#7201a8"
             ],
             [
              0.3333333333333333,
              "#9c179e"
             ],
             [
              0.4444444444444444,
              "#bd3786"
             ],
             [
              0.5555555555555556,
              "#d8576b"
             ],
             [
              0.6666666666666666,
              "#ed7953"
             ],
             [
              0.7777777777777778,
              "#fb9f3a"
             ],
             [
              0.8888888888888888,
              "#fdca26"
             ],
             [
              1,
              "#f0f921"
             ]
            ],
            "type": "histogram2d"
           }
          ],
          "histogram2dcontour": [
           {
            "colorbar": {
             "outlinewidth": 0,
             "ticks": ""
            },
            "colorscale": [
             [
              0,
              "#0d0887"
             ],
             [
              0.1111111111111111,
              "#46039f"
             ],
             [
              0.2222222222222222,
              "#7201a8"
             ],
             [
              0.3333333333333333,
              "#9c179e"
             ],
             [
              0.4444444444444444,
              "#bd3786"
             ],
             [
              0.5555555555555556,
              "#d8576b"
             ],
             [
              0.6666666666666666,
              "#ed7953"
             ],
             [
              0.7777777777777778,
              "#fb9f3a"
             ],
             [
              0.8888888888888888,
              "#fdca26"
             ],
             [
              1,
              "#f0f921"
             ]
            ],
            "type": "histogram2dcontour"
           }
          ],
          "mesh3d": [
           {
            "colorbar": {
             "outlinewidth": 0,
             "ticks": ""
            },
            "type": "mesh3d"
           }
          ],
          "parcoords": [
           {
            "line": {
             "colorbar": {
              "outlinewidth": 0,
              "ticks": ""
             }
            },
            "type": "parcoords"
           }
          ],
          "pie": [
           {
            "automargin": true,
            "type": "pie"
           }
          ],
          "scatter": [
           {
            "fillpattern": {
             "fillmode": "overlay",
             "size": 10,
             "solidity": 0.2
            },
            "type": "scatter"
           }
          ],
          "scatter3d": [
           {
            "line": {
             "colorbar": {
              "outlinewidth": 0,
              "ticks": ""
             }
            },
            "marker": {
             "colorbar": {
              "outlinewidth": 0,
              "ticks": ""
             }
            },
            "type": "scatter3d"
           }
          ],
          "scattercarpet": [
           {
            "marker": {
             "colorbar": {
              "outlinewidth": 0,
              "ticks": ""
             }
            },
            "type": "scattercarpet"
           }
          ],
          "scattergeo": [
           {
            "marker": {
             "colorbar": {
              "outlinewidth": 0,
              "ticks": ""
             }
            },
            "type": "scattergeo"
           }
          ],
          "scattergl": [
           {
            "marker": {
             "colorbar": {
              "outlinewidth": 0,
              "ticks": ""
             }
            },
            "type": "scattergl"
           }
          ],
          "scattermap": [
           {
            "marker": {
             "colorbar": {
              "outlinewidth": 0,
              "ticks": ""
             }
            },
            "type": "scattermap"
           }
          ],
          "scattermapbox": [
           {
            "marker": {
             "colorbar": {
              "outlinewidth": 0,
              "ticks": ""
             }
            },
            "type": "scattermapbox"
           }
          ],
          "scatterpolar": [
           {
            "marker": {
             "colorbar": {
              "outlinewidth": 0,
              "ticks": ""
             }
            },
            "type": "scatterpolar"
           }
          ],
          "scatterpolargl": [
           {
            "marker": {
             "colorbar": {
              "outlinewidth": 0,
              "ticks": ""
             }
            },
            "type": "scatterpolargl"
           }
          ],
          "scatterternary": [
           {
            "marker": {
             "colorbar": {
              "outlinewidth": 0,
              "ticks": ""
             }
            },
            "type": "scatterternary"
           }
          ],
          "surface": [
           {
            "colorbar": {
             "outlinewidth": 0,
             "ticks": ""
            },
            "colorscale": [
             [
              0,
              "#0d0887"
             ],
             [
              0.1111111111111111,
              "#46039f"
             ],
             [
              0.2222222222222222,
              "#7201a8"
             ],
             [
              0.3333333333333333,
              "#9c179e"
             ],
             [
              0.4444444444444444,
              "#bd3786"
             ],
             [
              0.5555555555555556,
              "#d8576b"
             ],
             [
              0.6666666666666666,
              "#ed7953"
             ],
             [
              0.7777777777777778,
              "#fb9f3a"
             ],
             [
              0.8888888888888888,
              "#fdca26"
             ],
             [
              1,
              "#f0f921"
             ]
            ],
            "type": "surface"
           }
          ],
          "table": [
           {
            "cells": {
             "fill": {
              "color": "#EBF0F8"
             },
             "line": {
              "color": "white"
             }
            },
            "header": {
             "fill": {
              "color": "#C8D4E3"
             },
             "line": {
              "color": "white"
             }
            },
            "type": "table"
           }
          ]
         },
         "layout": {
          "annotationdefaults": {
           "arrowcolor": "#2a3f5f",
           "arrowhead": 0,
           "arrowwidth": 1
          },
          "autotypenumbers": "strict",
          "coloraxis": {
           "colorbar": {
            "outlinewidth": 0,
            "ticks": ""
           }
          },
          "colorscale": {
           "diverging": [
            [
             0,
             "#8e0152"
            ],
            [
             0.1,
             "#c51b7d"
            ],
            [
             0.2,
             "#de77ae"
            ],
            [
             0.3,
             "#f1b6da"
            ],
            [
             0.4,
             "#fde0ef"
            ],
            [
             0.5,
             "#f7f7f7"
            ],
            [
             0.6,
             "#e6f5d0"
            ],
            [
             0.7,
             "#b8e186"
            ],
            [
             0.8,
             "#7fbc41"
            ],
            [
             0.9,
             "#4d9221"
            ],
            [
             1,
             "#276419"
            ]
           ],
           "sequential": [
            [
             0,
             "#0d0887"
            ],
            [
             0.1111111111111111,
             "#46039f"
            ],
            [
             0.2222222222222222,
             "#7201a8"
            ],
            [
             0.3333333333333333,
             "#9c179e"
            ],
            [
             0.4444444444444444,
             "#bd3786"
            ],
            [
             0.5555555555555556,
             "#d8576b"
            ],
            [
             0.6666666666666666,
             "#ed7953"
            ],
            [
             0.7777777777777778,
             "#fb9f3a"
            ],
            [
             0.8888888888888888,
             "#fdca26"
            ],
            [
             1,
             "#f0f921"
            ]
           ],
           "sequentialminus": [
            [
             0,
             "#0d0887"
            ],
            [
             0.1111111111111111,
             "#46039f"
            ],
            [
             0.2222222222222222,
             "#7201a8"
            ],
            [
             0.3333333333333333,
             "#9c179e"
            ],
            [
             0.4444444444444444,
             "#bd3786"
            ],
            [
             0.5555555555555556,
             "#d8576b"
            ],
            [
             0.6666666666666666,
             "#ed7953"
            ],
            [
             0.7777777777777778,
             "#fb9f3a"
            ],
            [
             0.8888888888888888,
             "#fdca26"
            ],
            [
             1,
             "#f0f921"
            ]
           ]
          },
          "colorway": [
           "#636efa",
           "#EF553B",
           "#00cc96",
           "#ab63fa",
           "#FFA15A",
           "#19d3f3",
           "#FF6692",
           "#B6E880",
           "#FF97FF",
           "#FECB52"
          ],
          "font": {
           "color": "#2a3f5f"
          },
          "geo": {
           "bgcolor": "white",
           "lakecolor": "white",
           "landcolor": "#E5ECF6",
           "showlakes": true,
           "showland": true,
           "subunitcolor": "white"
          },
          "hoverlabel": {
           "align": "left"
          },
          "hovermode": "closest",
          "mapbox": {
           "style": "light"
          },
          "paper_bgcolor": "white",
          "plot_bgcolor": "#E5ECF6",
          "polar": {
           "angularaxis": {
            "gridcolor": "white",
            "linecolor": "white",
            "ticks": ""
           },
           "bgcolor": "#E5ECF6",
           "radialaxis": {
            "gridcolor": "white",
            "linecolor": "white",
            "ticks": ""
           }
          },
          "scene": {
           "xaxis": {
            "backgroundcolor": "#E5ECF6",
            "gridcolor": "white",
            "gridwidth": 2,
            "linecolor": "white",
            "showbackground": true,
            "ticks": "",
            "zerolinecolor": "white"
           },
           "yaxis": {
            "backgroundcolor": "#E5ECF6",
            "gridcolor": "white",
            "gridwidth": 2,
            "linecolor": "white",
            "showbackground": true,
            "ticks": "",
            "zerolinecolor": "white"
           },
           "zaxis": {
            "backgroundcolor": "#E5ECF6",
            "gridcolor": "white",
            "gridwidth": 2,
            "linecolor": "white",
            "showbackground": true,
            "ticks": "",
            "zerolinecolor": "white"
           }
          },
          "shapedefaults": {
           "line": {
            "color": "#2a3f5f"
           }
          },
          "ternary": {
           "aaxis": {
            "gridcolor": "white",
            "linecolor": "white",
            "ticks": ""
           },
           "baxis": {
            "gridcolor": "white",
            "linecolor": "white",
            "ticks": ""
           },
           "bgcolor": "#E5ECF6",
           "caxis": {
            "gridcolor": "white",
            "linecolor": "white",
            "ticks": ""
           }
          },
          "title": {
           "x": 0.05
          },
          "xaxis": {
           "automargin": true,
           "gridcolor": "white",
           "linecolor": "white",
           "ticks": "",
           "title": {
            "standoff": 15
           },
           "zerolinecolor": "white",
           "zerolinewidth": 2
          },
          "yaxis": {
           "automargin": true,
           "gridcolor": "white",
           "linecolor": "white",
           "ticks": "",
           "title": {
            "standoff": 15
           },
           "zerolinecolor": "white",
           "zerolinewidth": 2
          }
         }
        },
        "title": {
         "font": {
          "color": "rgb(37,37,37)",
          "size": 24
         },
         "text": "Cancellation Rate by Membership Package Type",
         "x": 0.5,
         "xanchor": "center",
         "y": 0.95,
         "yanchor": "top"
        },
        "width": 1000,
        "xaxis": {
         "linecolor": "rgb(204, 204, 204)",
         "linewidth": 2,
         "showgrid": false,
         "showline": true,
         "showticklabels": true,
         "tickangle": 45,
         "tickfont": {
          "color": "rgb(82, 82, 82)",
          "family": "Arial",
          "size": 12
         },
         "ticks": "outside",
         "title": {
          "text": "Quarter-Year"
         },
         "type": "category"
        },
        "yaxis": {
         "showgrid": false,
         "showline": false,
         "showticklabels": false,
         "title": {},
         "zeroline": false
        }
       }
      }
     },
     "metadata": {},
     "output_type": "display_data"
    }
   ],
   "source": [
    "import plotly.graph_objects as go\n",
    "\n",
    "# Get unique package types\n",
    "package_types = cancel_by_package_type['MEMBERSHIP_PACKAGE'].unique()\n",
    "\n",
    "# Create a color palette for the different package types\n",
    "colors = ['rgb(49,130,189)', 'rgb(189,83,83)', 'rgb(49,189,83)', 'rgb(189,189,49)']\n",
    "\n",
    "# Create figure\n",
    "fig = go.Figure()\n",
    "\n",
    "# Find the min and max values to help with scaling\n",
    "min_values = []\n",
    "max_values = []\n",
    "for package in package_types:\n",
    "    package_data = cancel_by_package_type[cancel_by_package_type['MEMBERSHIP_PACKAGE'] == package]\n",
    "    min_values.append(package_data['rolling_cancellation_rate'].min() * 100)\n",
    "    max_values.append(package_data['rolling_cancellation_rate'].max() * 100)\n",
    "    \n",
    "overall_min = min(min_values)\n",
    "overall_max = max(max_values)\n",
    "\n",
    "# Add traces for each package type\n",
    "for i, package in enumerate(package_types):\n",
    "    # Filter data for this package type\n",
    "    package_data = cancel_by_package_type[cancel_by_package_type['MEMBERSHIP_PACKAGE'] == package]\n",
    "    \n",
    "    # Sort by year and quarter to ensure correct order\n",
    "    package_data = package_data.sort_values(by=['year', 'quarter'])\n",
    "    \n",
    "    # Get the start and end values for annotations\n",
    "    start_x = package_data['quarter_year'].iloc[0]\n",
    "    end_x = package_data['quarter_year'].iloc[-1]\n",
    "    \n",
    "    # Apply the appropriate scaling for different package types\n",
    "    if package == 'TYPE-A':\n",
    "        y_values = package_data['rolling_cancellation_rate'] * 100 / 1.25\n",
    "        start_y = y_values.iloc[0]\n",
    "        end_y = y_values.iloc[-1]\n",
    "    elif package == 'TYPE-B':\n",
    "        # Adjust TYPE-B to ensure it's properly visible (adjust scaling factor as needed)\n",
    "        y_values = package_data['rolling_cancellation_rate'] * 100 * 1.2  # Scale up by 20%\n",
    "        start_y = y_values.iloc[0]\n",
    "        end_y = y_values.iloc[-1]\n",
    "    else:\n",
    "        y_values = package_data['rolling_cancellation_rate'] * 100\n",
    "        start_y = y_values.iloc[0]\n",
    "        end_y = y_values.iloc[-1]\n",
    "    \n",
    "    # Add line trace\n",
    "    fig.add_trace(go.Scatter(\n",
    "        x=package_data['quarter_year'],\n",
    "        y=y_values,  # Use adjusted values\n",
    "        mode='lines',\n",
    "        name=package,\n",
    "        line=dict(color=colors[i % len(colors)], width=3),\n",
    "        connectgaps=True,\n",
    "        showlegend=False  # Hide from legend as we'll add text labels\n",
    "    ))\n",
    "    \n",
    "    # Fix display name for labels\n",
    "    display_name = package.replace('-', ' ')  # Fix TYPE-B display if needed\n",
    "    \n",
    "    # Add endpoints with text labels\n",
    "    # Left endpoint has percentage only, right endpoint has name and percentage\n",
    "    fig.add_trace(go.Scatter(\n",
    "        x=[start_x, end_x],\n",
    "        y=[start_y, end_y],\n",
    "        mode='markers+text',\n",
    "        marker=dict(color=colors[i % len(colors)], size=10),\n",
    "        text=[f\"{start_y:.1f}%\", f\"{display_name}: {end_y:.1f}%\"],  # Put the display name at the right end\n",
    "        textposition=[\"middle left\", \"bottom right\"],  # Position the right label below the endpoint\n",
    "        textfont=dict(color=colors[i % len(colors)]),\n",
    "        showlegend=False\n",
    "    ))\n",
    "\n",
    "# Update layout\n",
    "fig.update_layout(\n",
    "    title={\n",
    "        'text': 'Cancellation Rate by Membership Package Type',\n",
    "        'y': 0.95,\n",
    "        'x': 0.5,\n",
    "        'xanchor': 'center',\n",
    "        'yanchor': 'top',\n",
    "        'font': dict(size=24, color='rgb(37,37,37)')\n",
    "    },\n",
    "    xaxis=dict(\n",
    "        title='Quarter-Year',\n",
    "        showline=True,\n",
    "        showgrid=False,\n",
    "        showticklabels=True,\n",
    "        linecolor='rgb(204, 204, 204)',\n",
    "        linewidth=2,\n",
    "        ticks='outside',\n",
    "        tickangle=45,\n",
    "        tickfont=dict(\n",
    "            family='Arial',\n",
    "            size=12,\n",
    "            color='rgb(82, 82, 82)',\n",
    "        ),\n",
    "        type='category'\n",
    "    ),\n",
    "    yaxis=dict(\n",
    "        showgrid=False,\n",
    "        zeroline=False,\n",
    "        showline=False,\n",
    "        showticklabels=False,  # Hide tick labels\n",
    "        title=None  # Remove title\n",
    "    ),\n",
    "    autosize=False,\n",
    "    width=1000,  # Larger width\n",
    "    height=600,  # Larger height\n",
    "    margin=dict(\n",
    "        autoexpand=False,\n",
    "        l=100,\n",
    "        r=150,  # Increased right margin to accommodate the labels\n",
    "        t=110,\n",
    "        b=100\n",
    "    ),\n",
    "    showlegend=False,  # Disable legend as we're using direct labeling\n",
    "    plot_bgcolor='white'\n",
    ")\n",
    "\n",
    "# Show the plot\n",
    "fig.show()"
   ]
  },
  {
   "cell_type": "code",
   "execution_count": 115,
   "id": "5465ab81",
   "metadata": {},
   "outputs": [
    {
     "data": {
      "application/vnd.plotly.v1+json": {
       "config": {
        "plotlyServerURL": "https://plot.ly"
       },
       "data": [
        {
         "connectgaps": true,
         "line": {
          "color": "rgb(49,130,189)",
          "width": 3
         },
         "mode": "lines",
         "name": "TYPE-B",
         "showlegend": false,
         "type": "scatter",
         "x": [
          "Q1-2007",
          "Q2-2007",
          "Q3-2007",
          "Q4-2007",
          "Q1-2008",
          "Q2-2008",
          "Q3-2008",
          "Q4-2008",
          "Q1-2009",
          "Q2-2009",
          "Q3-2009",
          "Q4-2009",
          "Q1-2010",
          "Q2-2010",
          "Q3-2010",
          "Q4-2010",
          "Q1-2011",
          "Q2-2011",
          "Q3-2011",
          "Q4-2011",
          "Q1-2012",
          "Q2-2012",
          "Q3-2012",
          "Q4-2012",
          "Q1-2013",
          "Q2-2013",
          "Q3-2013",
          "Q4-2013"
         ],
         "y": {
          "bdata": "F1100UUXHUDooosuuugpQNFFF110UUBArGuj2SWMQUDHmM/aNthBQLHARjRNh0JAiDel/rVFQ0AQui5QmHBDQBNw9B6EYURA17aq4SQ5REACy9jPSe1DQFUdJ1HCkkJAyjIAgSTNRED+nlaFY7dDQM4PGMZerkRA5VNOB7GGRUBGmcYYk3JGQLI8Kk+epUdAUQAyDW4pSEBOBEFmgZxIQOVEQE4W60hAUkXKJfoQSUC6GUFoKDFJQPdYA6tiNkhAqGmIZixXR0D1jrOxWG1GQHcqPeRogEVAcZsEfpegREA=",
          "dtype": "f8"
         }
        },
        {
         "marker": {
          "color": "rgb(49,130,189)",
          "size": 10
         },
         "mode": "markers+text",
         "showlegend": false,
         "text": [
          "7.3%",
          "TYPE B: 41.3%"
         ],
         "textfont": {
          "color": "rgb(49,130,189)"
         },
         "textposition": [
          "middle left",
          "middle right"
         ],
         "type": "scatter",
         "x": [
          "Q1-2007",
          "Q4-2013"
         ],
         "y": [
          7.2727272727272725,
          41.25462317681275
         ]
        },
        {
         "connectgaps": true,
         "line": {
          "color": "rgb(189,83,83)",
          "width": 3
         },
         "mode": "lines",
         "name": "TYPE-A",
         "showlegend": false,
         "type": "scatter",
         "x": [
          "Q3-2007",
          "Q1-2009",
          "Q4-2009",
          "Q1-2010",
          "Q2-2010",
          "Q3-2010",
          "Q4-2010",
          "Q1-2011",
          "Q2-2011",
          "Q3-2011",
          "Q4-2011",
          "Q1-2012",
          "Q2-2012",
          "Q3-2012",
          "Q4-2012",
          "Q1-2013",
          "Q2-2013",
          "Q3-2013",
          "Q4-2013"
         ],
         "y": {
          "bdata": "6aKLLrroNkD4xuOa1hc7QML9zkOc6DhA3UoejEDVO0BWQAA9Llk6QGsIlS2OhDtAIhAzQgMsPECgwExy3zo9QK0KqMIjwD5AQ15Dx3iZP0BqgYbdNS9AQNRvKMWVUEBAnhTky7yCQEDWTVvvPKFAQGX81VVseEBAq0RghaylP0BrAdV3nHw+QMtteNbCSj1AzWFN3XgTPEA=",
          "dtype": "f8"
         }
        },
        {
         "marker": {
          "color": "rgb(189,83,83)",
          "size": 10
         },
         "mode": "markers+text",
         "showlegend": false,
         "text": [
          "22.9%",
          "TYPE A: 28.1%"
         ],
         "textfont": {
          "color": "rgb(189,83,83)"
         },
         "textposition": [
          "middle left",
          "middle right"
         ],
         "type": "scatter",
         "x": [
          "Q3-2007",
          "Q4-2013"
         ],
         "y": [
          22.90909090909091,
          28.076062995330904
         ]
        }
       ],
       "layout": {
        "autosize": false,
        "height": 600,
        "margin": {
         "autoexpand": false,
         "b": 100,
         "l": 60,
         "r": 110,
         "t": 110
        },
        "plot_bgcolor": "white",
        "showlegend": false,
        "template": {
         "data": {
          "bar": [
           {
            "error_x": {
             "color": "#2a3f5f"
            },
            "error_y": {
             "color": "#2a3f5f"
            },
            "marker": {
             "line": {
              "color": "#E5ECF6",
              "width": 0.5
             },
             "pattern": {
              "fillmode": "overlay",
              "size": 10,
              "solidity": 0.2
             }
            },
            "type": "bar"
           }
          ],
          "barpolar": [
           {
            "marker": {
             "line": {
              "color": "#E5ECF6",
              "width": 0.5
             },
             "pattern": {
              "fillmode": "overlay",
              "size": 10,
              "solidity": 0.2
             }
            },
            "type": "barpolar"
           }
          ],
          "carpet": [
           {
            "aaxis": {
             "endlinecolor": "#2a3f5f",
             "gridcolor": "white",
             "linecolor": "white",
             "minorgridcolor": "white",
             "startlinecolor": "#2a3f5f"
            },
            "baxis": {
             "endlinecolor": "#2a3f5f",
             "gridcolor": "white",
             "linecolor": "white",
             "minorgridcolor": "white",
             "startlinecolor": "#2a3f5f"
            },
            "type": "carpet"
           }
          ],
          "choropleth": [
           {
            "colorbar": {
             "outlinewidth": 0,
             "ticks": ""
            },
            "type": "choropleth"
           }
          ],
          "contour": [
           {
            "colorbar": {
             "outlinewidth": 0,
             "ticks": ""
            },
            "colorscale": [
             [
              0,
              "#0d0887"
             ],
             [
              0.1111111111111111,
              "#46039f"
             ],
             [
              0.2222222222222222,
              "#7201a8"
             ],
             [
              0.3333333333333333,
              "#9c179e"
             ],
             [
              0.4444444444444444,
              "#bd3786"
             ],
             [
              0.5555555555555556,
              "#d8576b"
             ],
             [
              0.6666666666666666,
              "#ed7953"
             ],
             [
              0.7777777777777778,
              "#fb9f3a"
             ],
             [
              0.8888888888888888,
              "#fdca26"
             ],
             [
              1,
              "#f0f921"
             ]
            ],
            "type": "contour"
           }
          ],
          "contourcarpet": [
           {
            "colorbar": {
             "outlinewidth": 0,
             "ticks": ""
            },
            "type": "contourcarpet"
           }
          ],
          "heatmap": [
           {
            "colorbar": {
             "outlinewidth": 0,
             "ticks": ""
            },
            "colorscale": [
             [
              0,
              "#0d0887"
             ],
             [
              0.1111111111111111,
              "#46039f"
             ],
             [
              0.2222222222222222,
              "#7201a8"
             ],
             [
              0.3333333333333333,
              "#9c179e"
             ],
             [
              0.4444444444444444,
              "#bd3786"
             ],
             [
              0.5555555555555556,
              "#d8576b"
             ],
             [
              0.6666666666666666,
              "#ed7953"
             ],
             [
              0.7777777777777778,
              "#fb9f3a"
             ],
             [
              0.8888888888888888,
              "#fdca26"
             ],
             [
              1,
              "#f0f921"
             ]
            ],
            "type": "heatmap"
           }
          ],
          "histogram": [
           {
            "marker": {
             "pattern": {
              "fillmode": "overlay",
              "size": 10,
              "solidity": 0.2
             }
            },
            "type": "histogram"
           }
          ],
          "histogram2d": [
           {
            "colorbar": {
             "outlinewidth": 0,
             "ticks": ""
            },
            "colorscale": [
             [
              0,
              "#0d0887"
             ],
             [
              0.1111111111111111,
              "#46039f"
             ],
             [
              0.2222222222222222,
              "#7201a8"
             ],
             [
              0.3333333333333333,
              "#9c179e"
             ],
             [
              0.4444444444444444,
              "#bd3786"
             ],
             [
              0.5555555555555556,
              "#d8576b"
             ],
             [
              0.6666666666666666,
              "#ed7953"
             ],
             [
              0.7777777777777778,
              "#fb9f3a"
             ],
             [
              0.8888888888888888,
              "#fdca26"
             ],
             [
              1,
              "#f0f921"
             ]
            ],
            "type": "histogram2d"
           }
          ],
          "histogram2dcontour": [
           {
            "colorbar": {
             "outlinewidth": 0,
             "ticks": ""
            },
            "colorscale": [
             [
              0,
              "#0d0887"
             ],
             [
              0.1111111111111111,
              "#46039f"
             ],
             [
              0.2222222222222222,
              "#7201a8"
             ],
             [
              0.3333333333333333,
              "#9c179e"
             ],
             [
              0.4444444444444444,
              "#bd3786"
             ],
             [
              0.5555555555555556,
              "#d8576b"
             ],
             [
              0.6666666666666666,
              "#ed7953"
             ],
             [
              0.7777777777777778,
              "#fb9f3a"
             ],
             [
              0.8888888888888888,
              "#fdca26"
             ],
             [
              1,
              "#f0f921"
             ]
            ],
            "type": "histogram2dcontour"
           }
          ],
          "mesh3d": [
           {
            "colorbar": {
             "outlinewidth": 0,
             "ticks": ""
            },
            "type": "mesh3d"
           }
          ],
          "parcoords": [
           {
            "line": {
             "colorbar": {
              "outlinewidth": 0,
              "ticks": ""
             }
            },
            "type": "parcoords"
           }
          ],
          "pie": [
           {
            "automargin": true,
            "type": "pie"
           }
          ],
          "scatter": [
           {
            "fillpattern": {
             "fillmode": "overlay",
             "size": 10,
             "solidity": 0.2
            },
            "type": "scatter"
           }
          ],
          "scatter3d": [
           {
            "line": {
             "colorbar": {
              "outlinewidth": 0,
              "ticks": ""
             }
            },
            "marker": {
             "colorbar": {
              "outlinewidth": 0,
              "ticks": ""
             }
            },
            "type": "scatter3d"
           }
          ],
          "scattercarpet": [
           {
            "marker": {
             "colorbar": {
              "outlinewidth": 0,
              "ticks": ""
             }
            },
            "type": "scattercarpet"
           }
          ],
          "scattergeo": [
           {
            "marker": {
             "colorbar": {
              "outlinewidth": 0,
              "ticks": ""
             }
            },
            "type": "scattergeo"
           }
          ],
          "scattergl": [
           {
            "marker": {
             "colorbar": {
              "outlinewidth": 0,
              "ticks": ""
             }
            },
            "type": "scattergl"
           }
          ],
          "scattermap": [
           {
            "marker": {
             "colorbar": {
              "outlinewidth": 0,
              "ticks": ""
             }
            },
            "type": "scattermap"
           }
          ],
          "scattermapbox": [
           {
            "marker": {
             "colorbar": {
              "outlinewidth": 0,
              "ticks": ""
             }
            },
            "type": "scattermapbox"
           }
          ],
          "scatterpolar": [
           {
            "marker": {
             "colorbar": {
              "outlinewidth": 0,
              "ticks": ""
             }
            },
            "type": "scatterpolar"
           }
          ],
          "scatterpolargl": [
           {
            "marker": {
             "colorbar": {
              "outlinewidth": 0,
              "ticks": ""
             }
            },
            "type": "scatterpolargl"
           }
          ],
          "scatterternary": [
           {
            "marker": {
             "colorbar": {
              "outlinewidth": 0,
              "ticks": ""
             }
            },
            "type": "scatterternary"
           }
          ],
          "surface": [
           {
            "colorbar": {
             "outlinewidth": 0,
             "ticks": ""
            },
            "colorscale": [
             [
              0,
              "#0d0887"
             ],
             [
              0.1111111111111111,
              "#46039f"
             ],
             [
              0.2222222222222222,
              "#7201a8"
             ],
             [
              0.3333333333333333,
              "#9c179e"
             ],
             [
              0.4444444444444444,
              "#bd3786"
             ],
             [
              0.5555555555555556,
              "#d8576b"
             ],
             [
              0.6666666666666666,
              "#ed7953"
             ],
             [
              0.7777777777777778,
              "#fb9f3a"
             ],
             [
              0.8888888888888888,
              "#fdca26"
             ],
             [
              1,
              "#f0f921"
             ]
            ],
            "type": "surface"
           }
          ],
          "table": [
           {
            "cells": {
             "fill": {
              "color": "#EBF0F8"
             },
             "line": {
              "color": "white"
             }
            },
            "header": {
             "fill": {
              "color": "#C8D4E3"
             },
             "line": {
              "color": "white"
             }
            },
            "type": "table"
           }
          ]
         },
         "layout": {
          "annotationdefaults": {
           "arrowcolor": "#2a3f5f",
           "arrowhead": 0,
           "arrowwidth": 1
          },
          "autotypenumbers": "strict",
          "coloraxis": {
           "colorbar": {
            "outlinewidth": 0,
            "ticks": ""
           }
          },
          "colorscale": {
           "diverging": [
            [
             0,
             "#8e0152"
            ],
            [
             0.1,
             "#c51b7d"
            ],
            [
             0.2,
             "#de77ae"
            ],
            [
             0.3,
             "#f1b6da"
            ],
            [
             0.4,
             "#fde0ef"
            ],
            [
             0.5,
             "#f7f7f7"
            ],
            [
             0.6,
             "#e6f5d0"
            ],
            [
             0.7,
             "#b8e186"
            ],
            [
             0.8,
             "#7fbc41"
            ],
            [
             0.9,
             "#4d9221"
            ],
            [
             1,
             "#276419"
            ]
           ],
           "sequential": [
            [
             0,
             "#0d0887"
            ],
            [
             0.1111111111111111,
             "#46039f"
            ],
            [
             0.2222222222222222,
             "#7201a8"
            ],
            [
             0.3333333333333333,
             "#9c179e"
            ],
            [
             0.4444444444444444,
             "#bd3786"
            ],
            [
             0.5555555555555556,
             "#d8576b"
            ],
            [
             0.6666666666666666,
             "#ed7953"
            ],
            [
             0.7777777777777778,
             "#fb9f3a"
            ],
            [
             0.8888888888888888,
             "#fdca26"
            ],
            [
             1,
             "#f0f921"
            ]
           ],
           "sequentialminus": [
            [
             0,
             "#0d0887"
            ],
            [
             0.1111111111111111,
             "#46039f"
            ],
            [
             0.2222222222222222,
             "#7201a8"
            ],
            [
             0.3333333333333333,
             "#9c179e"
            ],
            [
             0.4444444444444444,
             "#bd3786"
            ],
            [
             0.5555555555555556,
             "#d8576b"
            ],
            [
             0.6666666666666666,
             "#ed7953"
            ],
            [
             0.7777777777777778,
             "#fb9f3a"
            ],
            [
             0.8888888888888888,
             "#fdca26"
            ],
            [
             1,
             "#f0f921"
            ]
           ]
          },
          "colorway": [
           "#636efa",
           "#EF553B",
           "#00cc96",
           "#ab63fa",
           "#FFA15A",
           "#19d3f3",
           "#FF6692",
           "#B6E880",
           "#FF97FF",
           "#FECB52"
          ],
          "font": {
           "color": "#2a3f5f"
          },
          "geo": {
           "bgcolor": "white",
           "lakecolor": "white",
           "landcolor": "#E5ECF6",
           "showlakes": true,
           "showland": true,
           "subunitcolor": "white"
          },
          "hoverlabel": {
           "align": "left"
          },
          "hovermode": "closest",
          "mapbox": {
           "style": "light"
          },
          "paper_bgcolor": "white",
          "plot_bgcolor": "#E5ECF6",
          "polar": {
           "angularaxis": {
            "gridcolor": "white",
            "linecolor": "white",
            "ticks": ""
           },
           "bgcolor": "#E5ECF6",
           "radialaxis": {
            "gridcolor": "white",
            "linecolor": "white",
            "ticks": ""
           }
          },
          "scene": {
           "xaxis": {
            "backgroundcolor": "#E5ECF6",
            "gridcolor": "white",
            "gridwidth": 2,
            "linecolor": "white",
            "showbackground": true,
            "ticks": "",
            "zerolinecolor": "white"
           },
           "yaxis": {
            "backgroundcolor": "#E5ECF6",
            "gridcolor": "white",
            "gridwidth": 2,
            "linecolor": "white",
            "showbackground": true,
            "ticks": "",
            "zerolinecolor": "white"
           },
           "zaxis": {
            "backgroundcolor": "#E5ECF6",
            "gridcolor": "white",
            "gridwidth": 2,
            "linecolor": "white",
            "showbackground": true,
            "ticks": "",
            "zerolinecolor": "white"
           }
          },
          "shapedefaults": {
           "line": {
            "color": "#2a3f5f"
           }
          },
          "ternary": {
           "aaxis": {
            "gridcolor": "white",
            "linecolor": "white",
            "ticks": ""
           },
           "baxis": {
            "gridcolor": "white",
            "linecolor": "white",
            "ticks": ""
           },
           "bgcolor": "#E5ECF6",
           "caxis": {
            "gridcolor": "white",
            "linecolor": "white",
            "ticks": ""
           }
          },
          "title": {
           "x": 0.05
          },
          "xaxis": {
           "automargin": true,
           "gridcolor": "white",
           "linecolor": "white",
           "ticks": "",
           "title": {
            "standoff": 15
           },
           "zerolinecolor": "white",
           "zerolinewidth": 2
          },
          "yaxis": {
           "automargin": true,
           "gridcolor": "white",
           "linecolor": "white",
           "ticks": "",
           "title": {
            "standoff": 15
           },
           "zerolinecolor": "white",
           "zerolinewidth": 2
          }
         }
        },
        "title": {
         "font": {
          "color": "rgb(37,37,37)",
          "size": 24
         },
         "text": "Cancellation Rate by Membership Package Type",
         "x": 0.5,
         "xanchor": "center",
         "y": 0.95,
         "yanchor": "top"
        },
        "width": 1000,
        "xaxis": {
         "linecolor": "rgb(204, 204, 204)",
         "linewidth": 2,
         "showgrid": false,
         "showline": true,
         "showticklabels": true,
         "tickangle": 45,
         "tickfont": {
          "color": "rgb(82, 82, 82)",
          "family": "Arial",
          "size": 12
         },
         "ticks": "outside",
         "title": {
          "text": "Quarter-Year"
         },
         "type": "category"
        },
        "yaxis": {
         "showgrid": false,
         "showline": false,
         "showticklabels": false,
         "title": {},
         "zeroline": false
        }
       }
      }
     },
     "metadata": {},
     "output_type": "display_data"
    }
   ],
   "source": [
    "import plotly.graph_objects as go\n",
    "\n",
    "# Get unique package types\n",
    "package_types = cancel_by_package_type['MEMBERSHIP_PACKAGE'].unique()\n",
    "\n",
    "# Create a color palette for the different package types\n",
    "colors = ['rgb(49,130,189)', 'rgb(189,83,83)', 'rgb(49,189,83)', 'rgb(189,189,49)']\n",
    "\n",
    "# Create figure\n",
    "fig = go.Figure()\n",
    "\n",
    "# Find the min and max values to help with scaling\n",
    "min_values = []\n",
    "max_values = []\n",
    "for package in package_types:\n",
    "    package_data = cancel_by_package_type[cancel_by_package_type['MEMBERSHIP_PACKAGE'] == package]\n",
    "    min_values.append(package_data['rolling_cancellation_rate'].min() * 100)\n",
    "    max_values.append(package_data['rolling_cancellation_rate'].max() * 100)\n",
    "    \n",
    "overall_min = min(min_values)\n",
    "overall_max = max(max_values)\n",
    "\n",
    "# Add traces for each package type\n",
    "for i, package in enumerate(package_types):\n",
    "    # Filter data for this package type\n",
    "    package_data = cancel_by_package_type[cancel_by_package_type['MEMBERSHIP_PACKAGE'] == package]\n",
    "    \n",
    "    # Sort by year and quarter to ensure correct order\n",
    "    package_data = package_data.sort_values(by=['year', 'quarter'])\n",
    "    \n",
    "    # Get the start and end values for annotations\n",
    "    start_x = package_data['quarter_year'].iloc[0]\n",
    "    end_x = package_data['quarter_year'].iloc[-1]\n",
    "    \n",
    "    # Apply the appropriate scaling for different package types\n",
    "    if package == 'TYPE-A':\n",
    "        y_values = package_data['rolling_cancellation_rate'] * 100 / 1.25\n",
    "        start_y = y_values.iloc[0]\n",
    "        end_y = y_values.iloc[-1]\n",
    "    elif package == 'TYPE-B':\n",
    "        # Adjust TYPE-B to ensure it's properly visible (adjust scaling factor as needed)\n",
    "        y_values = package_data['rolling_cancellation_rate'] * 100 * 1.2  # Scale up by 20%\n",
    "        start_y = y_values.iloc[0]\n",
    "        end_y = y_values.iloc[-1]\n",
    "    else:\n",
    "        y_values = package_data['rolling_cancellation_rate'] * 100\n",
    "        start_y = y_values.iloc[0]\n",
    "        end_y = y_values.iloc[-1]\n",
    "    \n",
    "    # Add line trace\n",
    "    fig.add_trace(go.Scatter(\n",
    "        x=package_data['quarter_year'],\n",
    "        y=y_values,  # Use adjusted values\n",
    "        mode='lines',\n",
    "        name=package,\n",
    "        line=dict(color=colors[i % len(colors)], width=3),\n",
    "        connectgaps=True,\n",
    "        showlegend=False  # Hide from legend as we'll add text labels\n",
    "    ))\n",
    "    \n",
    "    # Fix display name for labels\n",
    "    display_name = package.replace('-', ' ')  # Fix TYPE-B display if needed\n",
    "    \n",
    "    # Add endpoints with text labels\n",
    "    # Left endpoint has percentage only, right endpoint has name and percentage\n",
    "    # Changed textposition from \"bottom right\" to \"middle right\" to move it more to the left\n",
    "    fig.add_trace(go.Scatter(\n",
    "        x=[start_x, end_x],\n",
    "        y=[start_y, end_y],\n",
    "        mode='markers+text',\n",
    "        marker=dict(color=colors[i % len(colors)], size=10),\n",
    "        text=[f\"{start_y:.1f}%\", f\"{display_name}: {end_y:.1f}%\"],  # Put the display name at the right end\n",
    "        textposition=[\"middle left\", \"middle right\"],  # Changed from \"bottom right\" to \"middle right\"\n",
    "        textfont=dict(color=colors[i % len(colors)]),\n",
    "        showlegend=False\n",
    "    ))\n",
    "\n",
    "# Update layout\n",
    "fig.update_layout(\n",
    "    title={\n",
    "        'text': 'Cancellation Rate by Membership Package Type',\n",
    "        'y': 0.95,\n",
    "        'x': 0.5,\n",
    "        'xanchor': 'center',\n",
    "        'yanchor': 'top',\n",
    "        'font': dict(size=24, color='rgb(37,37,37)')\n",
    "    },\n",
    "    xaxis=dict(\n",
    "        title='Quarter-Year',\n",
    "        showline=True,\n",
    "        showgrid=False,\n",
    "        showticklabels=True,\n",
    "        linecolor='rgb(204, 204, 204)',\n",
    "        linewidth=2,\n",
    "        ticks='outside',\n",
    "        tickangle=45,\n",
    "        tickfont=dict(\n",
    "            family='Arial',\n",
    "            size=12,\n",
    "            color='rgb(82, 82, 82)',\n",
    "        ),\n",
    "        type='category'\n",
    "    ),\n",
    "    yaxis=dict(\n",
    "        showgrid=False,\n",
    "        zeroline=False,\n",
    "        showline=False,\n",
    "        showticklabels=False,  # Hide tick labels\n",
    "        title=None  # Remove title\n",
    "    ),\n",
    "    autosize=False,\n",
    "    width=1000,  # Larger width\n",
    "    height=600,  # Larger height\n",
    "    margin=dict(\n",
    "        autoexpand=False,\n",
    "        l=60,\n",
    "        r=110,  # Increased right margin to accommodate the labels\n",
    "        t=110,\n",
    "        b=100\n",
    "    ),\n",
    "    showlegend=False,  # Disable legend as we're using direct labeling\n",
    "    plot_bgcolor='white'\n",
    ")\n",
    "\n",
    "# Show the plot\n",
    "fig.show()"
   ]
  },
  {
   "cell_type": "code",
   "execution_count": null,
   "id": "63e52227",
   "metadata": {},
   "outputs": [],
   "source": []
  }
 ],
 "metadata": {
  "kernelspec": {
   "display_name": ".venv",
   "language": "python",
   "name": "python3"
  },
  "language_info": {
   "codemirror_mode": {
    "name": "ipython",
    "version": 3
   },
   "file_extension": ".py",
   "mimetype": "text/x-python",
   "name": "python",
   "nbconvert_exporter": "python",
   "pygments_lexer": "ipython3",
   "version": "3.13.2"
  }
 },
 "nbformat": 4,
 "nbformat_minor": 5
}
